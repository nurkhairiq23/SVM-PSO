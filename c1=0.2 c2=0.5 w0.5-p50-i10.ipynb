{
 "cells": [
  {
   "cell_type": "code",
   "execution_count": 1,
   "id": "67b917d9",
   "metadata": {},
   "outputs": [],
   "source": [
    "import pandas as pd\n",
    "import numpy as np\n",
    "import random\n",
    "import csv\n",
    "from sklearn.preprocessing import LabelEncoder\n",
    "from sklearn.feature_extraction.text import TfidfVectorizer\n",
    "from sklearn.model_selection import train_test_split\n",
    "from sklearn.svm import SVC\n",
    "from sklearn.metrics import accuracy_score\n",
    "from sklearn.metrics import classification_report, confusion_matrix  \n",
    "import matplotlib.pyplot as plt\n",
    "import seaborn as sns"
   ]
  },
  {
   "cell_type": "code",
   "execution_count": 2,
   "id": "3fc2c868",
   "metadata": {},
   "outputs": [
    {
     "data": {
      "text/html": [
       "<div>\n",
       "<style scoped>\n",
       "    .dataframe tbody tr th:only-of-type {\n",
       "        vertical-align: middle;\n",
       "    }\n",
       "\n",
       "    .dataframe tbody tr th {\n",
       "        vertical-align: top;\n",
       "    }\n",
       "\n",
       "    .dataframe thead th {\n",
       "        text-align: right;\n",
       "    }\n",
       "</style>\n",
       "<table border=\"1\" class=\"dataframe\">\n",
       "  <thead>\n",
       "    <tr style=\"text-align: right;\">\n",
       "      <th></th>\n",
       "      <th>label</th>\n",
       "      <th>tweet</th>\n",
       "      <th>clean_data</th>\n",
       "    </tr>\n",
       "  </thead>\n",
       "  <tbody>\n",
       "    <tr>\n",
       "      <th>0</th>\n",
       "      <td>anger</td>\n",
       "      <td>Soal jln Jatibaru,polisi tdk bs GERTAK gubernu...</td>\n",
       "      <td>jalan jatibarupolisi gertak gubernur emangny p...</td>\n",
       "    </tr>\n",
       "    <tr>\n",
       "      <th>1</th>\n",
       "      <td>anger</td>\n",
       "      <td>Sesama cewe lho (kayaknya), harusnya bisa lebi...</td>\n",
       "      <td>cewek kayak rasain sibuk jaga rasain sakit hai...</td>\n",
       "    </tr>\n",
       "    <tr>\n",
       "      <th>2</th>\n",
       "      <td>happy</td>\n",
       "      <td>Kepingin gudeg mbarek Bu hj. Amad Foto dari go...</td>\n",
       "      <td>kepingin gudeg mbarek bu hj amad foto google s...</td>\n",
       "    </tr>\n",
       "    <tr>\n",
       "      <th>3</th>\n",
       "      <td>anger</td>\n",
       "      <td>Jln Jatibaru,bagian dari wilayah Tn Abang.Peng...</td>\n",
       "      <td>jalan jatibarubagian wilayah tn abangpengatura...</td>\n",
       "    </tr>\n",
       "    <tr>\n",
       "      <th>4</th>\n",
       "      <td>happy</td>\n",
       "      <td>Sharing pengalaman aja, kemarin jam 18.00 bata...</td>\n",
       "      <td>sharing alam kemarin jam batalin tiket stasiun...</td>\n",
       "    </tr>\n",
       "    <tr>\n",
       "      <th>...</th>\n",
       "      <td>...</td>\n",
       "      <td>...</td>\n",
       "      <td>...</td>\n",
       "    </tr>\n",
       "    <tr>\n",
       "      <th>4396</th>\n",
       "      <td>love</td>\n",
       "      <td>Tahukah kamu, bahwa saat itu papa memejamkan m...</td>\n",
       "      <td>papa mejam mata tahan gejolak batin papa tapu ...</td>\n",
       "    </tr>\n",
       "    <tr>\n",
       "      <th>4397</th>\n",
       "      <td>fear</td>\n",
       "      <td>Sulitnya menetapkan Calon Wapresnya Jokowi di ...</td>\n",
       "      <td>sulit calon wapresnya jokowi pilpres salah gem...</td>\n",
       "    </tr>\n",
       "    <tr>\n",
       "      <th>4398</th>\n",
       "      <td>anger</td>\n",
       "      <td>5. masa depannya nggak jelas. lha iya, gimana ...</td>\n",
       "      <td>iya gimana coba lulus seni nari kerja narinari...</td>\n",
       "    </tr>\n",
       "    <tr>\n",
       "      <th>4399</th>\n",
       "      <td>happy</td>\n",
       "      <td>[USERNAME] dulu beneran ada mahasiswa Teknik U...</td>\n",
       "      <td>mahasiswa teknik ui nembak pacar sahur kukus t...</td>\n",
       "    </tr>\n",
       "    <tr>\n",
       "      <th>4400</th>\n",
       "      <td>sadness</td>\n",
       "      <td>Ya Allah, hanya Engkau yang mengetahui rasa sa...</td>\n",
       "      <td>engkau sakit hati sembuh</td>\n",
       "    </tr>\n",
       "  </tbody>\n",
       "</table>\n",
       "<p>4401 rows × 3 columns</p>\n",
       "</div>"
      ],
      "text/plain": [
       "        label                                              tweet  \\\n",
       "0       anger  Soal jln Jatibaru,polisi tdk bs GERTAK gubernu...   \n",
       "1       anger  Sesama cewe lho (kayaknya), harusnya bisa lebi...   \n",
       "2       happy  Kepingin gudeg mbarek Bu hj. Amad Foto dari go...   \n",
       "3       anger  Jln Jatibaru,bagian dari wilayah Tn Abang.Peng...   \n",
       "4       happy  Sharing pengalaman aja, kemarin jam 18.00 bata...   \n",
       "...       ...                                                ...   \n",
       "4396     love  Tahukah kamu, bahwa saat itu papa memejamkan m...   \n",
       "4397     fear  Sulitnya menetapkan Calon Wapresnya Jokowi di ...   \n",
       "4398    anger  5. masa depannya nggak jelas. lha iya, gimana ...   \n",
       "4399    happy  [USERNAME] dulu beneran ada mahasiswa Teknik U...   \n",
       "4400  sadness  Ya Allah, hanya Engkau yang mengetahui rasa sa...   \n",
       "\n",
       "                                             clean_data  \n",
       "0     jalan jatibarupolisi gertak gubernur emangny p...  \n",
       "1     cewek kayak rasain sibuk jaga rasain sakit hai...  \n",
       "2     kepingin gudeg mbarek bu hj amad foto google s...  \n",
       "3     jalan jatibarubagian wilayah tn abangpengatura...  \n",
       "4     sharing alam kemarin jam batalin tiket stasiun...  \n",
       "...                                                 ...  \n",
       "4396  papa mejam mata tahan gejolak batin papa tapu ...  \n",
       "4397  sulit calon wapresnya jokowi pilpres salah gem...  \n",
       "4398  iya gimana coba lulus seni nari kerja narinari...  \n",
       "4399  mahasiswa teknik ui nembak pacar sahur kukus t...  \n",
       "4400                           engkau sakit hati sembuh  \n",
       "\n",
       "[4401 rows x 3 columns]"
      ]
     },
     "execution_count": 2,
     "metadata": {},
     "output_type": "execute_result"
    }
   ],
   "source": [
    "df= pd.read_excel('../Dataset/Clean Dataset.xlsx') \n",
    "df"
   ]
  },
  {
   "cell_type": "code",
   "execution_count": 3,
   "id": "2e72187d",
   "metadata": {},
   "outputs": [],
   "source": [
    "X = df['clean_data'].values.astype('U')\n",
    "y = df['label'].values\n",
    "X_train, X_test, y_train, y_test = train_test_split(X, y, test_size = 0.10, random_state = 42)"
   ]
  },
  {
   "cell_type": "code",
   "execution_count": 4,
   "id": "476fd6fd",
   "metadata": {},
   "outputs": [],
   "source": [
    "# transformasi data label\n",
    "encoder = LabelEncoder()\n",
    "encoder.fit(y)\n",
    "y_train = encoder.transform(y_train)\n",
    "y_test = encoder.transform(y_test)\n",
    "    \n",
    "# term weighting\n",
    "tfidf = TfidfVectorizer()\n",
    "tfidf.fit(X)\n",
    "    \n",
    "X_train = tfidf.transform(X_train)\n",
    "X_test = tfidf.transform(X_test)"
   ]
  },
  {
   "cell_type": "code",
   "execution_count": 5,
   "id": "da80e298",
   "metadata": {},
   "outputs": [],
   "source": [
    "#################### PARAMETERS ####################\n",
    "W = 0.5\n",
    "c1 = 0.2\n",
    "c2 = 0.5\n",
    "\n",
    "n_iterations = 10\n",
    "n_particles = 50"
   ]
  },
  {
   "cell_type": "code",
   "execution_count": 6,
   "id": "9d7ef92a",
   "metadata": {},
   "outputs": [],
   "source": [
    "#mencari nilai 0-1 loss dari tiap partikel\n",
    "#partikle = (gamma,C) untuk rbf\n",
    "def fitness_function(position):\n",
    "    svclassifier = SVC(kernel='rbf', gamma = position[0], C = position[1] )  \n",
    "    svclassifier.fit(X_train, y_train)\n",
    "    y_train_pred = svclassifier.predict(X_train)\n",
    "    y_test_pred = svclassifier.predict(X_test)   \n",
    "    return confusion_matrix(y_train,y_train_pred)[0][1] + confusion_matrix(y_train,y_train_pred)[1][0], confusion_matrix(y_test,y_test_pred)[0][1] + confusion_matrix(y_test,y_test_pred)[1][0]\n",
    "\n",
    "#plotting (x axis = gamma, y axis = C)\n",
    "def plot(position):\n",
    "    x = []\n",
    "    y = []\n",
    "    for i in range(0,len(particle_position_vector)):\n",
    "        x.append(particle_position_vector[i][0])\n",
    "        y.append(particle_position_vector[i][1])\n",
    "    colors = (0,0,0)\n",
    "    plt.scatter(x, y, c = colors, alpha = 0.1)\n",
    "    plt.xlabel('C')\n",
    "    plt.ylabel('gamma')\n",
    "    plt.axis([0,10,0,10])\n",
    "    plt.gca().set_aspect('equal', adjustable='box')\n",
    "    return plt.show()"
   ]
  },
  {
   "cell_type": "code",
   "execution_count": 7,
   "id": "5885076e",
   "metadata": {},
   "outputs": [
    {
     "name": "stdout",
     "output_type": "stream",
     "text": [
      "iteration : 1\n"
     ]
    },
    {
     "name": "stderr",
     "output_type": "stream",
     "text": [
      "*c* argument looks like a single numeric RGB or RGBA sequence, which should be avoided as value-mapping will have precedence in case its length matches with *x* & *y*.  Please use the *color* keyword-argument or provide a 2D array with a single row if you intend to specify the same RGB or RGBA value for all points.\n"
     ]
    },
    {
     "data": {
      "image/png": "[encoded data removed]",
      "text/plain": [
       "<Figure size 432x288 with 1 Axes>"
      ]
     },
     "metadata": {
      "needs_background": "light"
     },
     "output_type": "display_data"
    },
    {
     "name": "stdout",
     "output_type": "stream",
     "text": [
      "error of particle- 1 is (training, test) (0, 60)  At (gamma, c):  [6.19250881 8.33615723]\n",
      "error of particle- 2 is (training, test) (0, 60)  At (gamma, c):  [4.12997486 1.57691919]\n",
      "error of particle- 3 is (training, test) (0, 60)  At (gamma, c):  [9.85276156 8.37360318]\n",
      "error of particle- 4 is (training, test) (0, 60)  At (gamma, c):  [5.76016418 8.41323391]\n",
      "error of particle- 5 is (training, test) (0, 60)  At (gamma, c):  [9.24891723 7.91928995]\n",
      "error of particle- 6 is (training, test) (0, 60)  At (gamma, c):  [5.45965306 6.15319909]\n",
      "error of particle- 7 is (training, test) (0, 60)  At (gamma, c):  [9.37965264 5.93300962]\n",
      "error of particle- 8 is (training, test) (3, 9)  At (gamma, c):  [0.45426243 3.29450771]\n",
      "error of particle- 9 is (training, test) (0, 11)  At (gamma, c):  [1.02139429 6.30815461]\n",
      "error of particle- 10 is (training, test) (0, 20)  At (gamma, c):  [1.68943903 5.70253151]\n",
      "error of particle- 11 is (training, test) (0, 60)  At (gamma, c):  [5.73381974 6.69762518]\n",
      "error of particle- 12 is (training, test) (0, 54)  At (gamma, c):  [3.1740585 3.8532742]\n",
      "error of particle- 13 is (training, test) (0, 21)  At (gamma, c):  [1.98336502 3.64661689]\n",
      "error of particle- 14 is (training, test) (0, 60)  At (gamma, c):  [8.4370528 1.6671829]\n",
      "error of particle- 15 is (training, test) (12, 7)  At (gamma, c):  [0.12724045 5.2565413 ]\n",
      "error of particle- 16 is (training, test) (564, 60)  At (gamma, c):  [5.88148137 0.55278751]\n",
      "error of particle- 17 is (training, test) (2, 10)  At (gamma, c):  [0.66244075 5.57688636]\n",
      "error of particle- 18 is (training, test) (0, 60)  At (gamma, c):  [8.07130971 2.10797541]\n",
      "error of particle- 19 is (training, test) (0, 53)  At (gamma, c):  [3.13969971 8.9368516 ]\n",
      "error of particle- 20 is (training, test) (0, 60)  At (gamma, c):  [6.4397385  3.77019718]\n",
      "error of particle- 21 is (training, test) (1, 10)  At (gamma, c):  [0.63293183 7.57908723]\n",
      "error of particle- 22 is (training, test) (0, 19)  At (gamma, c):  [1.72465636 3.92370312]\n",
      "error of particle- 23 is (training, test) (0, 60)  At (gamma, c):  [9.75744305 1.92961845]\n",
      "error of particle- 24 is (training, test) (2, 33)  At (gamma, c):  [2.2935842  1.04015944]\n",
      "error of particle- 25 is (training, test) (0, 60)  At (gamma, c):  [8.01546501 2.87794209]\n",
      "error of particle- 26 is (training, test) (0, 60)  At (gamma, c):  [7.20539863 3.06509755]\n",
      "error of particle- 27 is (training, test) (0, 60)  At (gamma, c):  [6.20795807 2.0920403 ]\n",
      "error of particle- 28 is (training, test) (0, 60)  At (gamma, c):  [5.84119117 8.31290485]\n",
      "error of particle- 29 is (training, test) (0, 60)  At (gamma, c):  [9.55564751 1.45496342]\n",
      "error of particle- 30 is (training, test) (0, 11)  At (gamma, c):  [1.08750475 6.48201496]\n",
      "error of particle- 31 is (training, test) (0, 60)  At (gamma, c):  [5.80208891 1.74783998]\n",
      "error of particle- 32 is (training, test) (0, 60)  At (gamma, c):  [4.15081085 8.96702281]\n",
      "error of particle- 33 is (training, test) (1, 23)  At (gamma, c):  [2.07098701 1.90665056]\n",
      "error of particle- 34 is (training, test) (568, 61)  At (gamma, c):  [4.11710347 0.48168779]\n",
      "error of particle- 35 is (training, test) (2, 11)  At (gamma, c):  [0.36864508 9.47464867]\n",
      "error of particle- 36 is (training, test) (0, 60)  At (gamma, c):  [7.01952328 5.85699162]\n",
      "error of particle- 37 is (training, test) (0, 60)  At (gamma, c):  [7.35537507 8.59022935]\n",
      "error of particle- 38 is (training, test) (1, 10)  At (gamma, c):  [0.67522535 7.96401074]\n",
      "error of particle- 39 is (training, test) (0, 60)  At (gamma, c):  [7.08177347 5.24090401]\n",
      "error of particle- 40 is (training, test) (0, 60)  At (gamma, c):  [7.3720678  0.71052467]\n",
      "error of particle- 41 is (training, test) (0, 13)  At (gamma, c):  [1.35416467 6.37731672]\n",
      "error of particle- 42 is (training, test) (0, 11)  At (gamma, c):  [1.20950285 8.26529541]\n",
      "error of particle- 43 is (training, test) (0, 60)  At (gamma, c):  [5.05480042 3.28950206]\n",
      "error of particle- 44 is (training, test) (84, 16)  At (gamma, c):  [0.08409339 3.02115712]\n",
      "error of particle- 45 is (training, test) (77, 16)  At (gamma, c):  [0.33041941 1.13129691]\n",
      "error of particle- 46 is (training, test) (0, 60)  At (gamma, c):  [5.17756047 6.08213625]\n",
      "error of particle- 47 is (training, test) (0, 60)  At (gamma, c):  [9.37127862 8.57950176]\n",
      "error of particle- 48 is (training, test) (330, 50)  At (gamma, c):  [0.58150805 0.3227755 ]\n",
      "error of particle- 49 is (training, test) (0, 60)  At (gamma, c):  [8.5653495  3.14474509]\n",
      "error of particle- 50 is (training, test) (0, 60)  At (gamma, c):  [9.32687389 4.35714044]\n"
     ]
    },
    {
     "name": "stderr",
     "output_type": "stream",
     "text": [
      "*c* argument looks like a single numeric RGB or RGBA sequence, which should be avoided as value-mapping will have precedence in case its length matches with *x* & *y*.  Please use the *color* keyword-argument or provide a 2D array with a single row if you intend to specify the same RGB or RGBA value for all points.\n"
     ]
    },
    {
     "name": "stdout",
     "output_type": "stream",
     "text": [
      "The best position is  [0.12724045 5.2565413 ] in iteration number 0 with error (train, test): (12, 7)\n",
      "iteration : 2\n"
     ]
    },
    {
     "data": {
      "image/png": "[encoded data removed]",
      "text/plain": [
       "<Figure size 432x288 with 1 Axes>"
      ]
     },
     "metadata": {
      "needs_background": "light"
     },
     "output_type": "display_data"
    },
    {
     "name": "stdout",
     "output_type": "stream",
     "text": [
      "error of particle- 1 is (training, test) (0, 60)  At (gamma, c):  [5.8354407  8.15485731]\n",
      "error of particle- 2 is (training, test) (0, 58)  At (gamma, c):  [3.73622235 1.93888686]\n",
      "error of particle- 3 is (training, test) (0, 60)  At (gamma, c):  [5.70663995 7.0447574 ]\n",
      "error of particle- 4 is (training, test) (0, 60)  At (gamma, c):  [5.5105643  8.27335804]\n",
      "error of particle- 5 is (training, test) (0, 60)  At (gamma, c):  [7.35710109 7.36704161]\n",
      "error of particle- 6 is (training, test) (0, 60)  At (gamma, c):  [5.34277738 6.13354617]\n",
      "error of particle- 7 is (training, test) (0, 60)  At (gamma, c):  [6.74872734 5.74065572]\n",
      "error of particle- 8 is (training, test) (3, 10)  At (gamma, c):  [0.43160723 3.4304321 ]\n",
      "error of particle- 9 is (training, test) (1, 10)  At (gamma, c):  [0.83752083 6.09190124]\n",
      "error of particle- 10 is (training, test) (0, 11)  At (gamma, c):  [1.17025752 5.554311  ]\n",
      "error of particle- 11 is (training, test) (0, 58)  At (gamma, c):  [3.87979505 6.22107701]\n",
      "error of particle- 12 is (training, test) (0, 39)  At (gamma, c):  [2.61890091 4.10896206]\n",
      "error of particle- 13 is (training, test) (1, 11)  At (gamma, c):  [1.08360727 4.42702893]\n",
      "error of particle- 14 is (training, test) (0, 60)  At (gamma, c):  [5.45660917 2.9545622 ]\n",
      "error of particle- 15 is (training, test) (12, 7)  At (gamma, c):  [0.12724045 5.2565413 ]\n",
      "error of particle- 16 is (training, test) (0, 60)  At (gamma, c):  [5.08805806 1.20136444]\n",
      "error of particle- 17 is (training, test) (2, 10)  At (gamma, c):  [0.60402974 5.54192435]\n",
      "error of particle- 18 is (training, test) (0, 60)  At (gamma, c):  [6.5962991  2.69258362]\n",
      "error of particle- 19 is (training, test) (0, 28)  At (gamma, c):  [2.30011299 7.91113162]\n",
      "error of particle- 20 is (training, test) (0, 58)  At (gamma, c):  [3.74845048 4.40388928]\n",
      "error of particle- 21 is (training, test) (2, 10)  At (gamma, c):  [0.45928773 6.78157234]\n",
      "error of particle- 22 is (training, test) (1, 14)  At (gamma, c):  [1.40033969 4.19430368]\n",
      "error of particle- 23 is (training, test) (0, 60)  At (gamma, c):  [5.60293738 3.36486549]\n",
      "error of particle- 24 is (training, test) (2, 19)  At (gamma, c):  [1.76616296 2.06668598]\n",
      "error of particle- 25 is (training, test) (0, 60)  At (gamma, c):  [7.29301324 3.09578873]\n",
      "error of particle- 26 is (training, test) (0, 60)  At (gamma, c):  [5.14806518 3.70206135]\n",
      "error of particle- 27 is (training, test) (0, 60)  At (gamma, c):  [5.53369715 2.44293628]\n",
      "error of particle- 28 is (training, test) (0, 53)  At (gamma, c):  [3.11158164 6.85285042]\n",
      "error of particle- 29 is (training, test) (0, 60)  At (gamma, c):  [6.28352582 2.77429821]\n",
      "error of particle- 30 is (training, test) (1, 11)  At (gamma, c):  [0.88006503 6.21728377]\n",
      "error of particle- 31 is (training, test) (0, 60)  At (gamma, c):  [5.01332692 2.23552353]\n",
      "error of particle- 32 is (training, test) (0, 58)  At (gamma, c):  [3.69793315 8.5493852 ]\n",
      "error of particle- 33 is (training, test) (1, 21)  At (gamma, c):  [2.00184548 2.02581042]\n",
      "error of particle- 34 is (training, test) (0, 52)  At (gamma, c):  [3.03024327 1.78238363]\n",
      "error of particle- 35 is (training, test) (2, 11)  At (gamma, c):  [0.29129246 8.12305211]\n",
      "error of particle- 36 is (training, test) (0, 60)  At (gamma, c):  [5.201487   5.69860571]\n",
      "error of particle- 37 is (training, test) (0, 60)  At (gamma, c):  [7.09918176 8.47207043]\n",
      "error of particle- 38 is (training, test) (2, 10)  At (gamma, c):  [0.51342032 7.16456865]\n",
      "error of particle- 39 is (training, test) (0, 60)  At (gamma, c):  [4.89426261 5.24582264]\n",
      "error of particle- 40 is (training, test) (0, 60)  At (gamma, c):  [7.2393225  0.79382029]\n",
      "error of particle- 41 is (training, test) (0, 11)  At (gamma, c):  [1.02795261 6.07932728]\n",
      "error of particle- 42 is (training, test) (1, 10)  At (gamma, c):  [0.83619603 7.22748016]\n",
      "error of particle- 43 is (training, test) (0, 60)  At (gamma, c):  [4.34143505 3.57427134]\n",
      "error of particle- 44 is (training, test) (59, 12)  At (gamma, c):  [0.09883589 3.78494382]\n",
      "error of particle- 45 is (training, test) (15, 10)  At (gamma, c):  [0.25520611 2.65839029]\n",
      "error of particle- 46 is (training, test) (0, 47)  At (gamma, c):  [2.82933359 5.69826271]\n",
      "error of particle- 47 is (training, test) (0, 60)  At (gamma, c):  [8.20410614 8.15993751]\n",
      "error of particle- 48 is (training, test) (4, 10)  At (gamma, c):  [0.42646109 2.00672872]\n",
      "error of particle- 49 is (training, test) (0, 60)  At (gamma, c):  [5.83297147 3.82857431]\n",
      "error of particle- 50 is (training, test) (0, 60)  At (gamma, c):  [6.53669427 4.62992195]\n"
     ]
    },
    {
     "name": "stderr",
     "output_type": "stream",
     "text": [
      "*c* argument looks like a single numeric RGB or RGBA sequence, which should be avoided as value-mapping will have precedence in case its length matches with *x* & *y*.  Please use the *color* keyword-argument or provide a 2D array with a single row if you intend to specify the same RGB or RGBA value for all points.\n"
     ]
    },
    {
     "name": "stdout",
     "output_type": "stream",
     "text": [
      "The best position is  [0.12724045 5.2565413 ] in iteration number 1 with error (train, test): (12, 7)\n",
      "iteration : 3\n"
     ]
    },
    {
     "data": {
      "image/png": "[encoded data removed]",
      "text/plain": [
       "<Figure size 432x288 with 1 Axes>"
      ]
     },
     "metadata": {
      "needs_background": "light"
     },
     "output_type": "display_data"
    },
    {
     "name": "stdout",
     "output_type": "stream",
     "text": [
      "error of particle- 1 is (training, test) (0, 60)  At (gamma, c):  [4.77343861 7.61562997]\n",
      "error of particle- 2 is (training, test) (0, 54)  At (gamma, c):  [3.39891548 2.24896534]\n",
      "error of particle- 3 is (training, test) (0, 60)  At (gamma, c):  [5.0951319  6.84876704]\n",
      "error of particle- 4 is (training, test) (0, 54)  At (gamma, c):  [3.15029321 6.95066122]\n",
      "error of particle- 5 is (training, test) (0, 60)  At (gamma, c):  [6.87255421 7.2255954 ]\n",
      "error of particle- 6 is (training, test) (0, 60)  At (gamma, c):  [4.79661147 6.04170708]\n",
      "error of particle- 7 is (training, test) (0, 60)  At (gamma, c):  [6.73471214 5.73963103]\n",
      "error of particle- 8 is (training, test) (3, 10)  At (gamma, c):  [0.42557079 3.46664897]\n",
      "error of particle- 9 is (training, test) (2, 10)  At (gamma, c):  [0.59288696 5.80418763]\n",
      "error of particle- 10 is (training, test) (2, 10)  At (gamma, c):  [0.71572928 5.42454827]\n",
      "error of particle- 11 is (training, test) (0, 51)  At (gamma, c):  [2.8724516  5.96215507]\n",
      "error of particle- 12 is (training, test) (0, 21)  At (gamma, c):  [1.97290044 4.40648925]\n",
      "error of particle- 13 is (training, test) (2, 10)  At (gamma, c):  [0.65910105 4.79522778]\n",
      "error of particle- 14 is (training, test) (0, 56)  At (gamma, c):  [3.53048759 3.78653534]\n",
      "error of particle- 15 is (training, test) (12, 7)  At (gamma, c):  [0.12724045 5.2565413 ]\n",
      "error of particle- 16 is (training, test) (0, 58)  At (gamma, c):  [3.73450341 2.30781582]\n",
      "error of particle- 17 is (training, test) (2, 10)  At (gamma, c):  [0.59173338 5.53456435]\n",
      "error of particle- 18 is (training, test) (0, 56)  At (gamma, c):  [3.55099372 3.89956512]\n",
      "error of particle- 19 is (training, test) (0, 17)  At (gamma, c):  [1.55607532 7.00214356]\n",
      "error of particle- 20 is (training, test) (0, 52)  At (gamma, c):  [2.99659847 4.58092075]\n",
      "error of particle- 21 is (training, test) (2, 10)  At (gamma, c):  [0.3884743  6.45633952]\n",
      "error of particle- 22 is (training, test) (1, 13)  At (gamma, c):  [1.33831811 4.24605272]\n",
      "error of particle- 23 is (training, test) (0, 60)  At (gamma, c):  [4.92505981 3.59905022]\n",
      "error of particle- 24 is (training, test) (2, 11)  At (gamma, c):  [1.21833485 3.13293066]\n",
      "error of particle- 25 is (training, test) (0, 60)  At (gamma, c):  [4.24400428 4.0151807 ]\n",
      "error of particle- 26 is (training, test) (0, 60)  At (gamma, c):  [4.50381715 3.90152473]\n",
      "error of particle- 27 is (training, test) (0, 58)  At (gamma, c):  [3.768703   3.36146697]\n",
      "error of particle- 28 is (training, test) (0, 33)  At (gamma, c):  [2.45549297 6.50191188]\n",
      "error of particle- 29 is (training, test) (0, 60)  At (gamma, c):  [4.26744743 3.58719046]\n",
      "error of particle- 30 is (training, test) (1, 10)  At (gamma, c):  [0.6599633  5.93639352]\n",
      "error of particle- 31 is (training, test) (0, 60)  At (gamma, c):  [4.06837554 2.8197774 ]\n",
      "error of particle- 32 is (training, test) (0, 33)  At (gamma, c):  [2.43510342 7.38482092]\n",
      "error of particle- 33 is (training, test) (1, 19)  At (gamma, c):  [1.67311753 2.59234658]\n",
      "error of particle- 34 is (training, test) (0, 47)  At (gamma, c):  [2.81997654 2.03401955]\n",
      "error of particle- 35 is (training, test) (3, 11)  At (gamma, c):  [0.22757734 7.00974628]\n",
      "error of particle- 36 is (training, test) (0, 54)  At (gamma, c):  [3.47225137 5.54795605]\n",
      "error of particle- 37 is (training, test) (0, 60)  At (gamma, c):  [4.97055493 7.49032642]\n",
      "error of particle- 38 is (training, test) (2, 10)  At (gamma, c):  [0.43555725 6.77986484]\n",
      "error of particle- 39 is (training, test) (0, 60)  At (gamma, c):  [4.5458953  5.24660594]\n",
      "error of particle- 40 is (training, test) (0, 60)  At (gamma, c):  [5.06415278 2.1587055 ]\n",
      "error of particle- 41 is (training, test) (1, 10)  At (gamma, c):  [0.78507285 5.85746055]\n",
      "error of particle- 42 is (training, test) (2, 10)  At (gamma, c):  [0.50229047 6.29920277]\n",
      "error of particle- 43 is (training, test) (0, 56)  At (gamma, c):  [3.57187755 3.88147202]\n",
      "error of particle- 44 is (training, test) (28, 10)  At (gamma, c):  [0.11165032 4.44884016]\n",
      "error of particle- 45 is (training, test) (9, 9)  At (gamma, c):  [0.21426918 3.48955341]\n",
      "error of particle- 46 is (training, test) (0, 46)  At (gamma, c):  [2.78421941 5.69088772]\n",
      "error of particle- 47 is (training, test) (0, 60)  At (gamma, c):  [5.4457831  7.16840131]\n",
      "error of particle- 48 is (training, test) (4, 10)  At (gamma, c):  [0.42345152 2.03941543]\n",
      "error of particle- 49 is (training, test) (0, 57)  At (gamma, c):  [3.60287584 4.38669788]\n",
      "error of particle- 50 is (training, test) (0, 60)  At (gamma, c):  [5.81143453 4.70082687]\n"
     ]
    },
    {
     "name": "stderr",
     "output_type": "stream",
     "text": [
      "*c* argument looks like a single numeric RGB or RGBA sequence, which should be avoided as value-mapping will have precedence in case its length matches with *x* & *y*.  Please use the *color* keyword-argument or provide a 2D array with a single row if you intend to specify the same RGB or RGBA value for all points.\n"
     ]
    },
    {
     "name": "stdout",
     "output_type": "stream",
     "text": [
      "The best position is  [0.12724045 5.2565413 ] in iteration number 2 with error (train, test): (12, 7)\n",
      "iteration : 4\n"
     ]
    },
    {
     "data": {
      "image/png": "[encoded data removed]",
      "text/plain": [
       "<Figure size 432x288 with 1 Axes>"
      ]
     },
     "metadata": {
      "needs_background": "light"
     },
     "output_type": "display_data"
    },
    {
     "name": "stdout",
     "output_type": "stream",
     "text": [
      "error of particle- 1 is (training, test) (0, 53)  At (gamma, c):  [3.06931702 6.750369  ]\n",
      "error of particle- 2 is (training, test) (0, 44)  At (gamma, c):  [2.75924812 2.8369969 ]\n",
      "error of particle- 3 is (training, test) (0, 58)  At (gamma, c):  [3.74384987 6.41567665]\n",
      "error of particle- 4 is (training, test) (0, 27)  At (gamma, c):  [2.25171473 6.4470975 ]\n",
      "error of particle- 5 is (training, test) (0, 60)  At (gamma, c):  [6.53656463 7.12751521]\n",
      "error of particle- 6 is (training, test) (0, 47)  At (gamma, c):  [2.82364903 5.70994878]\n",
      "error of particle- 7 is (training, test) (0, 60)  At (gamma, c):  [5.60530587 5.65705715]\n",
      "error of particle- 8 is (training, test) (3, 11)  At (gamma, c):  [0.36899044 3.80611405]\n",
      "error of particle- 9 is (training, test) (2, 10)  At (gamma, c):  [0.4069737  5.58553526]\n",
      "error of particle- 10 is (training, test) (2, 10)  At (gamma, c):  [0.46275637 5.35232734]\n",
      "error of particle- 11 is (training, test) (0, 35)  At (gamma, c):  [2.50073792 5.86661186]\n",
      "error of particle- 12 is (training, test) (1, 11)  At (gamma, c):  [1.14548999 4.78756808]\n",
      "error of particle- 13 is (training, test) (2, 10)  At (gamma, c):  [0.41554012 5.00648229]\n",
      "error of particle- 14 is (training, test) (0, 22)  At (gamma, c):  [2.01898686 4.43941625]\n",
      "error of particle- 15 is (training, test) (12, 7)  At (gamma, c):  [0.12724045 5.2565413 ]\n",
      "error of particle- 16 is (training, test) (0, 28)  At (gamma, c):  [2.23139707 3.53651692]\n",
      "error of particle- 17 is (training, test) (2, 10)  At (gamma, c):  [0.35989757 5.39579862]\n",
      "error of particle- 18 is (training, test) (0, 44)  At (gamma, c):  [2.73642372 4.22241318]\n",
      "error of particle- 19 is (training, test) (0, 15)  At (gamma, c):  [1.46224151 6.88750714]\n",
      "error of particle- 20 is (training, test) (0, 22)  At (gamma, c):  [2.04190604 4.80571313]\n",
      "error of particle- 21 is (training, test) (3, 11)  At (gamma, c):  [0.30102441 6.05469852]\n",
      "error of particle- 22 is (training, test) (1, 11)  At (gamma, c):  [0.93882414 4.57937907]\n",
      "error of particle- 23 is (training, test) (0, 54)  At (gamma, c):  [3.30824935 4.15760583]\n",
      "error of particle- 24 is (training, test) (2, 10)  At (gamma, c):  [0.82023273 3.90776179]\n",
      "error of particle- 25 is (training, test) (0, 54)  At (gamma, c):  [3.271729   4.30835861]\n",
      "error of particle- 26 is (training, test) (0, 60)  At (gamma, c):  [4.23248182 3.98553191]\n",
      "error of particle- 27 is (training, test) (0, 52)  At (gamma, c):  [3.00293838 3.75998291]\n",
      "error of particle- 28 is (training, test) (0, 19)  At (gamma, c):  [1.65289628 6.07260695]\n",
      "error of particle- 29 is (training, test) (0, 58)  At (gamma, c):  [3.80012116 3.7756186 ]\n",
      "error of particle- 30 is (training, test) (2, 10)  At (gamma, c):  [0.48696586 5.715617  ]\n",
      "error of particle- 31 is (training, test) (0, 51)  At (gamma, c):  [2.90930581 3.53641847]\n",
      "error of particle- 32 is (training, test) (0, 27)  At (gamma, c):  [2.17198291 7.14217479]\n",
      "error of particle- 33 is (training, test) (1, 13)  At (gamma, c):  [1.34162887 3.1636406 ]\n",
      "error of particle- 34 is (training, test) (0, 39)  At (gamma, c):  [2.59963462 2.2977129 ]\n",
      "error of particle- 35 is (training, test) (4, 11)  At (gamma, c):  [0.18185157 6.21077137]\n",
      "error of particle- 36 is (training, test) (0, 40)  At (gamma, c):  [2.62498711 5.47414304]\n",
      "error of particle- 37 is (training, test) (0, 60)  At (gamma, c):  [4.84514784 7.43248742]\n",
      "error of particle- 38 is (training, test) (3, 11)  At (gamma, c):  [0.29311944 6.07611187]\n",
      "error of particle- 39 is (training, test) (0, 60)  At (gamma, c):  [4.28120773 5.24720109]\n",
      "error of particle- 40 is (training, test) (0, 60)  At (gamma, c):  [4.0167547  2.81593152]\n",
      "error of particle- 41 is (training, test) (2, 10)  At (gamma, c):  [0.59120392 5.68036442]\n",
      "error of particle- 42 is (training, test) (2, 10)  At (gamma, c):  [0.48649873 6.25530078]\n",
      "error of particle- 43 is (training, test) (0, 42)  At (gamma, c):  [2.64466516 4.25160717]\n",
      "error of particle- 44 is (training, test) (24, 10)  At (gamma, c):  [0.11460893 4.60212129]\n",
      "error of particle- 45 is (training, test) (8, 7)  At (gamma, c):  [0.1812801  4.15934717]\n",
      "error of particle- 46 is (training, test) (0, 19)  At (gamma, c):  [1.82026372 5.53330623]\n",
      "error of particle- 47 is (training, test) (0, 54)  At (gamma, c):  [3.26397466 6.38410521]\n",
      "error of particle- 48 is (training, test) (4, 9)  At (gamma, c):  [0.29311287 3.45501361]\n",
      "error of particle- 49 is (training, test) (0, 20)  At (gamma, c):  [1.92218654 4.80732213]\n",
      "error of particle- 50 is (training, test) (0, 60)  At (gamma, c):  [5.50882357 4.73041159]\n"
     ]
    },
    {
     "name": "stderr",
     "output_type": "stream",
     "text": [
      "*c* argument looks like a single numeric RGB or RGBA sequence, which should be avoided as value-mapping will have precedence in case its length matches with *x* & *y*.  Please use the *color* keyword-argument or provide a 2D array with a single row if you intend to specify the same RGB or RGBA value for all points.\n"
     ]
    },
    {
     "name": "stdout",
     "output_type": "stream",
     "text": [
      "The best position is  [0.1812801  4.15934717] in iteration number 3 with error (train, test): (8, 7)\n",
      "iteration : 5\n"
     ]
    },
    {
     "data": {
      "image/png": "[encoded data removed]",
      "text/plain": [
       "<Figure size 432x288 with 1 Axes>"
      ]
     },
     "metadata": {
      "needs_background": "light"
     },
     "output_type": "display_data"
    },
    {
     "name": "stdout",
     "output_type": "stream",
     "text": [
      "error of particle- 1 is (training, test) (0, 28)  At (gamma, c):  [2.29524033 6.05590087]\n",
      "error of particle- 2 is (training, test) (0, 43)  At (gamma, c):  [2.69285913 2.87105066]\n",
      "error of particle- 3 is (training, test) (0, 24)  At (gamma, c):  [2.15408157 5.40880764]\n",
      "error of particle- 4 is (training, test) (0, 27)  At (gamma, c):  [2.20163016 6.39175598]\n",
      "error of particle- 5 is (training, test) (0, 60)  At (gamma, c):  [6.33948663 7.03547203]\n",
      "error of particle- 6 is (training, test) (0, 17)  At (gamma, c):  [1.51244203 4.94050298]\n",
      "error of particle- 7 is (training, test) (0, 52)  At (gamma, c):  [2.98454985 4.93340048]\n",
      "error of particle- 8 is (training, test) (3, 11)  At (gamma, c):  [0.31000789 3.91710736]\n",
      "error of particle- 9 is (training, test) (3, 11)  At (gamma, c):  [0.30372101 4.93306766]\n",
      "error of particle- 10 is (training, test) (3, 11)  At (gamma, c):  [0.34414085 4.8495995 ]\n",
      "error of particle- 11 is (training, test) (0, 17)  At (gamma, c):  [1.53823828 5.15815247]\n",
      "error of particle- 12 is (training, test) (1, 11)  At (gamma, c):  [1.09053194 4.75176073]\n",
      "error of particle- 13 is (training, test) (3, 10)  At (gamma, c):  [0.37188956 4.84863235]\n",
      "error of particle- 14 is (training, test) (1, 12)  At (gamma, c):  [1.26587092 4.32464032]\n",
      "error of particle- 15 is (training, test) (12, 7)  At (gamma, c):  [0.12739206 5.253463  ]\n",
      "error of particle- 16 is (training, test) (1, 17)  At (gamma, c):  [1.50882311 3.75603655]\n",
      "error of particle- 17 is (training, test) (3, 11)  At (gamma, c):  [0.29784979 4.9662826 ]\n",
      "error of particle- 18 is (training, test) (0, 38)  At (gamma, c):  [2.55006461 4.21781347]\n",
      "error of particle- 19 is (training, test) (0, 11)  At (gamma, c):  [1.0454885  5.99991687]\n",
      "error of particle- 20 is (training, test) (0, 20)  At (gamma, c):  [1.85745936 4.74163789]\n",
      "error of particle- 21 is (training, test) (3, 11)  At (gamma, c):  [0.28480102 5.79790949]\n",
      "error of particle- 22 is (training, test) (2, 10)  At (gamma, c):  [0.8022037  4.50362777]\n",
      "error of particle- 23 is (training, test) (0, 20)  At (gamma, c):  [1.90751918 4.15838587]\n",
      "error of particle- 24 is (training, test) (2, 9)  At (gamma, c):  [0.52910665 4.02239167]\n",
      "error of particle- 25 is (training, test) (0, 53)  At (gamma, c):  [3.06222493 4.298257  ]\n",
      "error of particle- 26 is (training, test) (0, 28)  At (gamma, c):  [2.22867185 4.07150461]\n",
      "error of particle- 27 is (training, test) (0, 44)  At (gamma, c):  [2.76095824 3.79423164]\n",
      "error of particle- 28 is (training, test) (0, 11)  At (gamma, c):  [1.21847269 5.50780941]\n",
      "error of particle- 29 is (training, test) (0, 52)  At (gamma, c):  [2.93942528 3.86688362]\n",
      "error of particle- 30 is (training, test) (2, 10)  At (gamma, c):  [0.45725383 5.56435078]\n",
      "error of particle- 31 is (training, test) (0, 31)  At (gamma, c):  [2.3635849  3.66103064]\n",
      "error of particle- 32 is (training, test) (0, 16)  At (gamma, c):  [1.49022773 6.12064703]\n",
      "error of particle- 33 is (training, test) (2, 10)  At (gamma, c):  [0.78651063 3.63999296]\n",
      "error of particle- 34 is (training, test) (0, 28)  At (gamma, c):  [2.29999026 2.52837727]\n",
      "error of particle- 35 is (training, test) (4, 11)  At (gamma, c):  [0.18183194 6.14030859]\n",
      "error of particle- 36 is (training, test) (0, 22)  At (gamma, c):  [2.06279901 5.1716671 ]\n",
      "error of particle- 37 is (training, test) (0, 51)  At (gamma, c):  [2.91292984 6.07644114]\n",
      "error of particle- 38 is (training, test) (3, 11)  At (gamma, c):  [0.24548449 5.25971763]\n",
      "error of particle- 39 is (training, test) (0, 58)  At (gamma, c):  [3.7240848  5.09937693]\n",
      "error of particle- 40 is (training, test) (0, 58)  At (gamma, c):  [3.90527777 2.8549775 ]\n",
      "error of particle- 41 is (training, test) (2, 10)  At (gamma, c):  [0.57034691 5.60297477]\n",
      "error of particle- 42 is (training, test) (2, 10)  At (gamma, c):  [0.38224394 5.53937721]\n",
      "error of particle- 43 is (training, test) (0, 19)  At (gamma, c):  [1.81923371 4.22069267]\n",
      "error of particle- 44 is (training, test) (24, 10)  At (gamma, c):  [0.11463065 4.60197703]\n",
      "error of particle- 45 is (training, test) (8, 7)  At (gamma, c):  [0.1812801  4.15934717]\n",
      "error of particle- 46 is (training, test) (0, 14)  At (gamma, c):  [1.41016352 5.18951946]\n",
      "error of particle- 47 is (training, test) (0, 22)  At (gamma, c):  [2.02500546 5.48995023]\n",
      "error of particle- 48 is (training, test) (4, 9)  At (gamma, c):  [0.28338047 3.5163092 ]\n",
      "error of particle- 49 is (training, test) (0, 18)  At (gamma, c):  [1.58551527 4.68201123]\n",
      "error of particle- 50 is (training, test) (0, 60)  At (gamma, c):  [4.94239761 4.66969585]\n"
     ]
    },
    {
     "name": "stderr",
     "output_type": "stream",
     "text": [
      "*c* argument looks like a single numeric RGB or RGBA sequence, which should be avoided as value-mapping will have precedence in case its length matches with *x* & *y*.  Please use the *color* keyword-argument or provide a 2D array with a single row if you intend to specify the same RGB or RGBA value for all points.\n"
     ]
    },
    {
     "name": "stdout",
     "output_type": "stream",
     "text": [
      "The best position is  [0.1812801  4.15934717] in iteration number 4 with error (train, test): (8, 7)\n",
      "iteration : 6\n"
     ]
    },
    {
     "data": {
      "image/png": "[encoded data removed]",
      "text/plain": [
       "<Figure size 432x288 with 1 Axes>"
      ]
     },
     "metadata": {
      "needs_background": "light"
     },
     "output_type": "display_data"
    },
    {
     "name": "stdout",
     "output_type": "stream",
     "text": [
      "error of particle- 1 is (training, test) (0, 22)  At (gamma, c):  [2.07564083 5.85888569]\n",
      "error of particle- 2 is (training, test) (0, 39)  At (gamma, c):  [2.59902766 2.91918084]\n",
      "error of particle- 3 is (training, test) (0, 17)  At (gamma, c):  [1.51135402 5.00174049]\n",
      "error of particle- 4 is (training, test) (0, 19)  At (gamma, c):  [1.82898861 5.98000146]\n",
      "error of particle- 5 is (training, test) (0, 60)  At (gamma, c):  [5.23947454 6.52172308]\n",
      "error of particle- 6 is (training, test) (1, 11)  At (gamma, c):  [1.23697587 4.77885323]\n",
      "error of particle- 7 is (training, test) (0, 19)  At (gamma, c):  [1.77685061 4.59992433]\n",
      "error of particle- 8 is (training, test) (3, 11)  At (gamma, c):  [0.3074624  3.92189745]\n",
      "error of particle- 9 is (training, test) (3, 11)  At (gamma, c):  [0.2581479  4.64508511]\n",
      "error of particle- 10 is (training, test) (3, 11)  At (gamma, c):  [0.26839222 4.52855427]\n",
      "error of particle- 11 is (training, test) (1, 11)  At (gamma, c):  [0.8760622  4.67074984]\n",
      "error of particle- 12 is (training, test) (1, 11)  At (gamma, c):  [0.92967016 4.64695292]\n",
      "error of particle- 13 is (training, test) (3, 10)  At (gamma, c):  [0.3595581  4.80403915]\n",
      "error of particle- 14 is (training, test) (1, 11)  At (gamma, c):  [0.96563894 4.27888455]\n",
      "error of particle- 15 is (training, test) (12, 7)  At (gamma, c):  [0.132979   5.14002856]\n",
      "error of particle- 16 is (training, test) (1, 17)  At (gamma, c):  [1.49976783 3.75878756]\n",
      "error of particle- 17 is (training, test) (3, 11)  At (gamma, c):  [0.25155872 4.64583989]\n",
      "error of particle- 18 is (training, test) (0, 35)  At (gamma, c):  [2.48628345 4.21623922]\n",
      "error of particle- 19 is (training, test) (2, 10)  At (gamma, c):  [0.63182397 5.11890438]\n",
      "error of particle- 20 is (training, test) (0, 18)  At (gamma, c):  [1.57699072 4.64420542]\n",
      "error of particle- 21 is (training, test) (3, 11)  At (gamma, c):  [0.27584503 5.65615129]\n",
      "error of particle- 22 is (training, test) (2, 10)  At (gamma, c):  [0.70841556 4.4516255 ]\n",
      "error of particle- 23 is (training, test) (0, 20)  At (gamma, c):  [1.89318115 4.15839385]\n",
      "error of particle- 24 is (training, test) (2, 9)  At (gamma, c):  [0.50984144 4.02997728]\n",
      "error of particle- 25 is (training, test) (0, 21)  At (gamma, c):  [1.97870301 4.24601308]\n",
      "error of particle- 26 is (training, test) (0, 20)  At (gamma, c):  [1.91177053 4.08510114]\n",
      "error of particle- 27 is (training, test) (0, 18)  At (gamma, c):  [1.57137806 3.96259923]\n",
      "error of particle- 28 is (training, test) (2, 10)  At (gamma, c):  [0.71267077 4.85021235]\n",
      "error of particle- 29 is (training, test) (0, 51)  At (gamma, c):  [2.9189168  3.86905826]\n",
      "error of particle- 30 is (training, test) (2, 10)  At (gamma, c):  [0.41521939 5.35035019]\n",
      "error of particle- 31 is (training, test) (0, 22)  At (gamma, c):  [2.03258967 3.73661147]\n",
      "error of particle- 32 is (training, test) (1, 11)  At (gamma, c):  [1.00684352 5.39635421]\n",
      "error of particle- 33 is (training, test) (2, 10)  At (gamma, c):  [0.77595227 3.64905319]\n",
      "error of particle- 34 is (training, test) (0, 28)  At (gamma, c):  [2.24648126 2.56956816]\n",
      "error of particle- 35 is (training, test) (4, 9)  At (gamma, c):  [0.18157799 5.22869771]\n",
      "error of particle- 36 is (training, test) (0, 17)  At (gamma, c):  [1.55139495 4.89651466]\n",
      "error of particle- 37 is (training, test) (0, 19)  At (gamma, c):  [1.78226985 5.28293477]\n",
      "error of particle- 38 is (training, test) (3, 11)  At (gamma, c):  [0.22912585 4.97935424]\n",
      "error of particle- 39 is (training, test) (0, 58)  At (gamma, c):  [3.64141935 5.0774429 ]\n",
      "error of particle- 40 is (training, test) (0, 54)  At (gamma, c):  [3.33350633 3.05524651]\n",
      "error of particle- 41 is (training, test) (2, 10)  At (gamma, c):  [0.41914636 5.04194699]\n",
      "error of particle- 42 is (training, test) (3, 11)  At (gamma, c):  [0.29920363 4.96913475]\n",
      "error of particle- 43 is (training, test) (1, 11)  At (gamma, c):  [1.17230424 4.19646353]\n",
      "error of particle- 44 is (training, test) (22, 10)  At (gamma, c):  [0.11978216 4.56776501]\n",
      "error of particle- 45 is (training, test) (8, 7)  At (gamma, c):  [0.1812801  4.15934717]\n",
      "error of particle- 46 is (training, test) (2, 10)  At (gamma, c):  [0.82212463 4.69656678]\n",
      "error of particle- 47 is (training, test) (0, 20)  At (gamma, c):  [1.8728046  5.38010798]\n",
      "error of particle- 48 is (training, test) (4, 9)  At (gamma, c):  [0.2436442  3.76657208]\n",
      "error of particle- 49 is (training, test) (2, 11)  At (gamma, c):  [0.88930829 4.42287916]\n",
      "error of particle- 50 is (training, test) (0, 60)  At (gamma, c):  [4.81372936 4.65590378]\n"
     ]
    },
    {
     "name": "stderr",
     "output_type": "stream",
     "text": [
      "*c* argument looks like a single numeric RGB or RGBA sequence, which should be avoided as value-mapping will have precedence in case its length matches with *x* & *y*.  Please use the *color* keyword-argument or provide a 2D array with a single row if you intend to specify the same RGB or RGBA value for all points.\n"
     ]
    },
    {
     "name": "stdout",
     "output_type": "stream",
     "text": [
      "The best position is  [0.1812801  4.15934717] in iteration number 5 with error (train, test): (8, 7)\n",
      "iteration : 7\n"
     ]
    },
    {
     "data": {
      "image/png": "[encoded data removed]",
      "text/plain": [
       "<Figure size 432x288 with 1 Axes>"
      ]
     },
     "metadata": {
      "needs_background": "light"
     },
     "output_type": "display_data"
    },
    {
     "name": "stdout",
     "output_type": "stream",
     "text": [
      "error of particle- 1 is (training, test) (0, 17)  At (gamma, c):  [1.49830949 5.34092898]\n",
      "error of particle- 2 is (training, test) (1, 19)  At (gamma, c):  [1.6370927 3.4125985]\n",
      "error of particle- 3 is (training, test) (0, 13)  At (gamma, c):  [1.33127911 4.88769127]\n",
      "error of particle- 4 is (training, test) (0, 14)  At (gamma, c):  [1.43272138 5.54214146]\n",
      "error of particle- 5 is (training, test) (0, 60)  At (gamma, c):  [4.03459216 5.95899558]\n",
      "error of particle- 6 is (training, test) (1, 11)  At (gamma, c):  [1.06749514 4.67939811]\n",
      "error of particle- 7 is (training, test) (0, 18)  At (gamma, c):  [1.57213115 4.54339614]\n",
      "error of particle- 8 is (training, test) (4, 9)  At (gamma, c):  [0.25103449 4.02808343]\n",
      "error of particle- 9 is (training, test) (4, 10)  At (gamma, c):  [0.22283118 4.42191399]\n",
      "error of particle- 10 is (training, test) (4, 11)  At (gamma, c):  [0.24431268 4.426498  ]\n",
      "error of particle- 11 is (training, test) (2, 10)  At (gamma, c):  [0.6481937  4.50302451]\n",
      "error of particle- 12 is (training, test) (2, 10)  At (gamma, c):  [0.6709446  4.47838297]\n",
      "error of particle- 13 is (training, test) (3, 10)  At (gamma, c):  [0.35816929 4.79901688]\n",
      "error of particle- 14 is (training, test) (2, 10)  At (gamma, c):  [0.7899626  4.25211123]\n",
      "error of particle- 15 is (training, test) (9, 7)  At (gamma, c):  [0.15691719 4.65399949]\n",
      "error of particle- 16 is (training, test) (1, 14)  At (gamma, c):  [1.40025316 3.78902035]\n",
      "error of particle- 17 is (training, test) (4, 9)  At (gamma, c):  [0.21695004 4.40626673]\n",
      "error of particle- 18 is (training, test) (0, 33)  At (gamma, c):  [2.44298375 4.2151705 ]\n",
      "error of particle- 19 is (training, test) (2, 10)  At (gamma, c):  [0.48096648 4.79761182]\n",
      "error of particle- 20 is (training, test) (1, 11)  At (gamma, c):  [0.98753943 4.43943495]\n",
      "error of particle- 21 is (training, test) (3, 11)  At (gamma, c):  [0.24623149 5.18741859]\n",
      "error of particle- 22 is (training, test) (2, 10)  At (gamma, c):  [0.64183221 4.41470734]\n",
      "error of particle- 23 is (training, test) (1, 12)  At (gamma, c):  [1.26620039 4.158743  ]\n",
      "error of particle- 24 is (training, test) (3, 10)  At (gamma, c):  [0.4019701  4.07245125]\n",
      "error of particle- 25 is (training, test) (0, 21)  At (gamma, c):  [1.97693615 4.24592789]\n",
      "error of particle- 26 is (training, test) (1, 13)  At (gamma, c):  [1.35337016 4.10905909]\n",
      "error of particle- 27 is (training, test) (1, 11)  At (gamma, c):  [1.01834912 4.04087235]\n",
      "error of particle- 28 is (training, test) (2, 10)  At (gamma, c):  [0.67991976 4.80763251]\n",
      "error of particle- 29 is (training, test) (0, 19)  At (gamma, c):  [1.81724956 3.98587499]\n",
      "error of particle- 30 is (training, test) (2, 10)  At (gamma, c):  [0.37860686 5.16395298]\n",
      "error of particle- 31 is (training, test) (0, 19)  At (gamma, c):  [1.7056958  3.81125577]\n",
      "error of particle- 32 is (training, test) (1, 10)  At (gamma, c):  [0.85511441 5.16900646]\n",
      "error of particle- 33 is (training, test) (2, 10)  At (gamma, c):  [0.71989342 3.69715784]\n",
      "error of particle- 34 is (training, test) (1, 21)  At (gamma, c):  [1.99249702 2.76508365]\n",
      "error of particle- 35 is (training, test) (4, 9)  At (gamma, c):  [0.18157173 5.20621441]\n",
      "error of particle- 36 is (training, test) (0, 14)  At (gamma, c):  [1.40621611 4.81840359]\n",
      "error of particle- 37 is (training, test) (0, 12)  At (gamma, c):  [1.27091784 4.92406378]\n",
      "error of particle- 38 is (training, test) (4, 10)  At (gamma, c):  [0.21486834 4.73500111]\n",
      "error of particle- 39 is (training, test) (0, 51)  At (gamma, c):  [2.91392018 4.88441197]\n",
      "error of particle- 40 is (training, test) (0, 44)  At (gamma, c):  [2.70635611 3.27491252]\n",
      "error of particle- 41 is (training, test) (3, 10)  At (gamma, c):  [0.35804153 4.81521828]\n",
      "error of particle- 42 is (training, test) (3, 11)  At (gamma, c):  [0.29641954 4.95001624]\n",
      "error of particle- 43 is (training, test) (2, 11)  At (gamma, c):  [0.85878601 4.18472148]\n",
      "error of particle- 44 is (training, test) (15, 9)  At (gamma, c):  [0.14647444 4.39049723]\n",
      "error of particle- 45 is (training, test) (8, 7)  At (gamma, c):  [0.1812801  4.15934717]\n",
      "error of particle- 46 is (training, test) (2, 10)  At (gamma, c):  [0.7884963  4.66837617]\n",
      "error of particle- 47 is (training, test) (0, 13)  At (gamma, c):  [1.3245541  4.98443962]\n",
      "error of particle- 48 is (training, test) (4, 7)  At (gamma, c):  [0.2214791  3.90617001]\n",
      "error of particle- 49 is (training, test) (2, 10)  At (gamma, c):  [0.74607936 4.36956856]\n",
      "error of particle- 50 is (training, test) (0, 54)  At (gamma, c):  [3.14887734 4.47744672]\n"
     ]
    },
    {
     "name": "stderr",
     "output_type": "stream",
     "text": [
      "*c* argument looks like a single numeric RGB or RGBA sequence, which should be avoided as value-mapping will have precedence in case its length matches with *x* & *y*.  Please use the *color* keyword-argument or provide a 2D array with a single row if you intend to specify the same RGB or RGBA value for all points.\n"
     ]
    },
    {
     "name": "stdout",
     "output_type": "stream",
     "text": [
      "The best position is  [0.2214791  3.90617001] in iteration number 6 with error (train, test): (4, 7)\n",
      "iteration : 8\n"
     ]
    },
    {
     "data": {
      "image/png": "[encoded data removed]",
      "text/plain": [
       "<Figure size 432x288 with 1 Axes>"
      ]
     },
     "metadata": {
      "needs_background": "light"
     },
     "output_type": "display_data"
    },
    {
     "name": "stdout",
     "output_type": "stream",
     "text": [
      "error of particle- 1 is (training, test) (1, 11)  At (gamma, c):  [0.96999936 4.74727324]\n",
      "error of particle- 2 is (training, test) (1, 18)  At (gamma, c):  [1.59057    3.42881923]\n",
      "error of particle- 3 is (training, test) (1, 11)  At (gamma, c):  [1.06554785 4.65267516]\n",
      "error of particle- 4 is (training, test) (1, 11)  At (gamma, c):  [1.09003593 5.07929137]\n",
      "error of particle- 5 is (training, test) (0, 53)  At (gamma, c):  [3.14011784 5.47744685]\n",
      "error of particle- 6 is (training, test) (1, 11)  At (gamma, c):  [1.03740104 4.6518932 ]\n",
      "error of particle- 7 is (training, test) (1, 11)  At (gamma, c):  [1.17709822 4.35702297]\n",
      "error of particle- 8 is (training, test) (4, 9)  At (gamma, c):  [0.24030627 3.98383048]\n",
      "error of particle- 9 is (training, test) (4, 9)  At (gamma, c):  [0.22241799 4.26430629]\n",
      "error of particle- 10 is (training, test) (4, 10)  At (gamma, c):  [0.23592587 4.2353807 ]\n",
      "error of particle- 11 is (training, test) (2, 10)  At (gamma, c):  [0.58579241 4.41574253]\n",
      "error of particle- 12 is (training, test) (2, 10)  At (gamma, c):  [0.59802261 4.38554624]\n",
      "error of particle- 13 is (training, test) (3, 11)  At (gamma, c):  [0.33217216 4.62920621]\n",
      "error of particle- 14 is (training, test) (2, 10)  At (gamma, c):  [0.6741306  4.18162358]\n",
      "error of particle- 15 is (training, test) (8, 7)  At (gamma, c):  [0.16136548 4.60247435]\n",
      "error of particle- 16 is (training, test) (1, 11)  At (gamma, c):  [1.12260648 3.81661361]\n",
      "error of particle- 17 is (training, test) (4, 9)  At (gamma, c):  [0.21740684 4.35582662]\n",
      "error of particle- 18 is (training, test) (0, 28)  At (gamma, c):  [2.28318431 4.19294317]\n",
      "error of particle- 19 is (training, test) (2, 10)  At (gamma, c):  [0.44364321 4.66939161]\n",
      "error of particle- 20 is (training, test) (1, 11)  At (gamma, c):  [0.93262448 4.40120791]\n",
      "error of particle- 21 is (training, test) (3, 11)  At (gamma, c):  [0.24194028 4.96529423]\n",
      "error of particle- 22 is (training, test) (2, 10)  At (gamma, c):  [0.46323878 4.1986475 ]\n",
      "error of particle- 23 is (training, test) (1, 11)  At (gamma, c):  [1.19910568 4.14252211]\n",
      "error of particle- 24 is (training, test) (3, 10)  At (gamma, c):  [0.38264357 4.05464627]\n",
      "error of particle- 25 is (training, test) (1, 11)  At (gamma, c):  [1.14838272 4.08556649]\n",
      "error of particle- 26 is (training, test) (2, 10)  At (gamma, c):  [0.79711151 4.00935091]\n",
      "error of particle- 27 is (training, test) (2, 10)  At (gamma, c):  [0.84030878 4.01077654]\n",
      "error of particle- 28 is (training, test) (2, 10)  At (gamma, c):  [0.46785116 4.39062786]\n",
      "error of particle- 29 is (training, test) (1, 12)  At (gamma, c):  [1.27151305 3.95861674]\n",
      "error of particle- 30 is (training, test) (2, 10)  At (gamma, c):  [0.3776894  5.15660884]\n",
      "error of particle- 31 is (training, test) (1, 11)  At (gamma, c):  [1.04737687 3.85335464]\n",
      "error of particle- 32 is (training, test) (2, 10)  At (gamma, c):  [0.7413268  4.94222753]\n",
      "error of particle- 33 is (training, test) (2, 10)  At (gamma, c):  [0.59068636 3.75134137]\n",
      "error of particle- 34 is (training, test) (1, 19)  At (gamma, c):  [1.71552857 2.94353748]\n",
      "error of particle- 35 is (training, test) (4, 8)  At (gamma, c):  [0.19075256 4.90713462]\n",
      "error of particle- 36 is (training, test) (1, 11)  At (gamma, c):  [1.1815351  4.64540186]\n",
      "error of particle- 37 is (training, test) (1, 11)  At (gamma, c):  [1.02108908 4.68174459]\n",
      "error of particle- 38 is (training, test) (4, 10)  At (gamma, c):  [0.2165464  4.52461282]\n",
      "error of particle- 39 is (training, test) (0, 31)  At (gamma, c):  [2.3648953  4.68493531]\n",
      "error of particle- 40 is (training, test) (1, 20)  At (gamma, c):  [1.66709845 3.53892526]\n",
      "error of particle- 41 is (training, test) (3, 11)  At (gamma, c):  [0.32271265 4.58004628]\n",
      "error of particle- 42 is (training, test) (3, 11)  At (gamma, c):  [0.27074955 4.59245871]\n",
      "error of particle- 43 is (training, test) (2, 10)  At (gamma, c):  [0.72936999 4.12815686]\n",
      "error of particle- 44 is (training, test) (12, 7)  At (gamma, c):  [0.16945679 4.2420934 ]\n",
      "error of particle- 45 is (training, test) (5, 7)  At (gamma, c):  [0.19945063 4.04490744]\n",
      "error of particle- 46 is (training, test) (2, 10)  At (gamma, c):  [0.69122767 4.53762397]\n",
      "error of particle- 47 is (training, test) (1, 11)  At (gamma, c):  [0.91672908 4.58578557]\n",
      "error of particle- 48 is (training, test) (4, 7)  At (gamma, c):  [0.2214791  3.90617001]\n",
      "error of particle- 49 is (training, test) (2, 10)  At (gamma, c):  [0.58656004 4.22865933]\n",
      "error of particle- 50 is (training, test) (0, 19)  At (gamma, c):  [1.82215052 4.21853827]\n"
     ]
    },
    {
     "name": "stderr",
     "output_type": "stream",
     "text": [
      "*c* argument looks like a single numeric RGB or RGBA sequence, which should be avoided as value-mapping will have precedence in case its length matches with *x* & *y*.  Please use the *color* keyword-argument or provide a 2D array with a single row if you intend to specify the same RGB or RGBA value for all points.\n"
     ]
    },
    {
     "name": "stdout",
     "output_type": "stream",
     "text": [
      "The best position is  [0.2214791  3.90617001] in iteration number 7 with error (train, test): (4, 7)\n",
      "iteration : 9\n"
     ]
    },
    {
     "data": {
      "image/png": "[encoded data removed]",
      "text/plain": [
       "<Figure size 432x288 with 1 Axes>"
      ]
     },
     "metadata": {
      "needs_background": "light"
     },
     "output_type": "display_data"
    },
    {
     "name": "stdout",
     "output_type": "stream",
     "text": [
      "error of particle- 1 is (training, test) (2, 10)  At (gamma, c):  [0.77168797 4.52443311]\n",
      "error of particle- 2 is (training, test) (1, 13)  At (gamma, c):  [1.30590206 3.52807229]\n",
      "error of particle- 3 is (training, test) (2, 10)  At (gamma, c):  [0.72759273 4.35378335]\n",
      "error of particle- 4 is (training, test) (1, 11)  At (gamma, c):  [0.99424213 4.94990691]\n",
      "error of particle- 5 is (training, test) (0, 20)  At (gamma, c):  [1.87564416 4.79670546]\n",
      "error of particle- 6 is (training, test) (2, 10)  At (gamma, c):  [0.76553548 4.40341789]\n",
      "error of particle- 7 is (training, test) (2, 10)  At (gamma, c):  [0.80341191 4.18072095]\n",
      "error of particle- 8 is (training, test) (4, 8)  At (gamma, c):  [0.23339137 3.95530711]\n",
      "error of particle- 9 is (training, test) (4, 8)  At (gamma, c):  [0.22216409 4.16745691]\n",
      "error of particle- 10 is (training, test) (4, 9)  At (gamma, c):  [0.22932825 4.08503529]\n",
      "error of particle- 11 is (training, test) (2, 10)  At (gamma, c):  [0.46125222 4.24154561]\n",
      "error of particle- 12 is (training, test) (2, 10)  At (gamma, c):  [0.57366137 4.35453203]\n",
      "error of particle- 13 is (training, test) (3, 11)  At (gamma, c):  [0.32876198 4.60693125]\n",
      "error of particle- 14 is (training, test) (2, 10)  At (gamma, c):  [0.45396975 4.04764835]\n",
      "error of particle- 15 is (training, test) (8, 7)  At (gamma, c):  [0.16510528 4.55915577]\n",
      "error of particle- 16 is (training, test) (2, 10)  At (gamma, c):  [0.74148151 3.85449081]\n",
      "error of particle- 17 is (training, test) (4, 8)  At (gamma, c):  [0.21818068 4.27037998]\n",
      "error of particle- 18 is (training, test) (0, 22)  At (gamma, c):  [2.06315364 4.16233798]\n",
      "error of particle- 19 is (training, test) (3, 11)  At (gamma, c):  [0.36074889 4.38461685]\n",
      "error of particle- 20 is (training, test) (2, 10)  At (gamma, c):  [0.5896444  4.16245485]\n",
      "error of particle- 21 is (training, test) (4, 11)  At (gamma, c):  [0.23699245 4.70918159]\n",
      "error of particle- 22 is (training, test) (3, 11)  At (gamma, c):  [0.34841171 4.05973132]\n",
      "error of particle- 23 is (training, test) (1, 11)  At (gamma, c):  [0.98264038 4.09018921]\n",
      "error of particle- 24 is (training, test) (3, 11)  At (gamma, c):  [0.3448949  4.01986949]\n",
      "error of particle- 25 is (training, test) (2, 11)  At (gamma, c):  [0.89135669 4.03582069]\n",
      "error of particle- 26 is (training, test) (2, 10)  At (gamma, c):  [0.67036492 3.98663185]\n",
      "error of particle- 27 is (training, test) (2, 10)  At (gamma, c):  [0.61204631 3.97219121]\n",
      "error of particle- 28 is (training, test) (3, 11)  At (gamma, c):  [0.35443764 4.16761528]\n",
      "error of particle- 29 is (training, test) (2, 10)  At (gamma, c):  [0.82514125 3.93632152]\n",
      "error of particle- 30 is (training, test) (3, 10)  At (gamma, c):  [0.35616622 4.9843192 ]\n",
      "error of particle- 31 is (training, test) (2, 11)  At (gamma, c):  [0.96268353 3.8587707 ]\n",
      "error of particle- 32 is (training, test) (2, 10)  At (gamma, c):  [0.70706993 4.87395351]\n",
      "error of particle- 33 is (training, test) (2, 10)  At (gamma, c):  [0.4886261  3.79414077]\n",
      "error of particle- 34 is (training, test) (1, 17)  At (gamma, c):  [1.5571867  3.04555889]\n",
      "error of particle- 35 is (training, test) (4, 8)  At (gamma, c):  [0.20479657 4.4496293 ]\n",
      "error of particle- 36 is (training, test) (2, 10)  At (gamma, c):  [0.7199261  4.28996835]\n",
      "error of particle- 37 is (training, test) (1, 11)  At (gamma, c):  [0.93340893 4.59670001]\n",
      "error of particle- 38 is (training, test) (4, 9)  At (gamma, c):  [0.21817326 4.32064353]\n",
      "error of particle- 39 is (training, test) (0, 21)  At (gamma, c):  [1.9685976  4.54094885]\n",
      "error of particle- 40 is (training, test) (1, 12)  At (gamma, c):  [1.27767257 3.6378549 ]\n",
      "error of particle- 41 is (training, test) (3, 11)  At (gamma, c):  [0.32243119 4.57817273]\n",
      "error of particle- 42 is (training, test) (3, 11)  At (gamma, c):  [0.25829417 4.41896757]\n",
      "error of particle- 43 is (training, test) (2, 10)  At (gamma, c):  [0.72073627 4.12438327]\n",
      "error of particle- 44 is (training, test) (9, 7)  At (gamma, c):  [0.1756882  4.20185534]\n",
      "error of particle- 45 is (training, test) (5, 7)  At (gamma, c):  [0.20820814 3.98975175]\n",
      "error of particle- 46 is (training, test) (2, 10)  At (gamma, c):  [0.46507383 4.23361935]\n",
      "error of particle- 47 is (training, test) (2, 10)  At (gamma, c):  [0.61539257 4.29122536]\n",
      "error of particle- 48 is (training, test) (4, 7)  At (gamma, c):  [0.2214791  3.90617001]\n",
      "error of particle- 49 is (training, test) (2, 9)  At (gamma, c):  [0.54725057 4.19393584]\n",
      "error of particle- 50 is (training, test) (0, 19)  At (gamma, c):  [1.81447726 4.21704085]\n"
     ]
    },
    {
     "name": "stderr",
     "output_type": "stream",
     "text": [
      "*c* argument looks like a single numeric RGB or RGBA sequence, which should be avoided as value-mapping will have precedence in case its length matches with *x* & *y*.  Please use the *color* keyword-argument or provide a 2D array with a single row if you intend to specify the same RGB or RGBA value for all points.\n"
     ]
    },
    {
     "name": "stdout",
     "output_type": "stream",
     "text": [
      "The best position is  [0.2214791  3.90617001] in iteration number 8 with error (train, test): (4, 7)\n",
      "iteration : 10\n"
     ]
    },
    {
     "data": {
      "image/png": "[encoded data removed]",
      "text/plain": [
       "<Figure size 432x288 with 1 Axes>"
      ]
     },
     "metadata": {
      "needs_background": "light"
     },
     "output_type": "display_data"
    },
    {
     "name": "stdout",
     "output_type": "stream",
     "text": [
      "error of particle- 1 is (training, test) (2, 10)  At (gamma, c):  [0.65023586 4.38795884]\n",
      "error of particle- 2 is (training, test) (2, 11)  At (gamma, c):  [0.91185017 3.66546344]\n",
      "error of particle- 3 is (training, test) (2, 10)  At (gamma, c):  [0.71173429 4.33975794]\n",
      "error of particle- 4 is (training, test) (1, 11)  At (gamma, c):  [0.88196866 4.79826409]\n",
      "error of particle- 5 is (training, test) (1, 12)  At (gamma, c):  [1.25792768 4.46415193]\n",
      "error of particle- 6 is (training, test) (2, 10)  At (gamma, c):  [0.57622572 4.23039561]\n",
      "error of particle- 7 is (training, test) (2, 10)  At (gamma, c):  [0.76202637 4.16119561]\n",
      "error of particle- 8 is (training, test) (4, 8)  At (gamma, c):  [0.23039699 3.94295555]\n",
      "error of particle- 9 is (training, test) (4, 8)  At (gamma, c):  [0.22195013 4.085845  ]\n",
      "error of particle- 10 is (training, test) (4, 8)  At (gamma, c):  [0.22832656 4.06220893]\n",
      "error of particle- 11 is (training, test) (3, 11)  At (gamma, c):  [0.3630245  4.10415248]\n",
      "error of particle- 12 is (training, test) (2, 10)  At (gamma, c):  [0.56120606 4.33867522]\n",
      "error of particle- 13 is (training, test) (3, 11)  At (gamma, c):  [0.32604909 4.58921095]\n",
      "error of particle- 14 is (training, test) (3, 11)  At (gamma, c):  [0.37599079 4.00019555]\n",
      "error of particle- 15 is (training, test) (8, 7)  At (gamma, c):  [0.17501805 4.44433475]\n",
      "error of particle- 16 is (training, test) (2, 10)  At (gamma, c):  [0.5812353 3.8704165]\n",
      "error of particle- 17 is (training, test) (4, 8)  At (gamma, c):  [0.21975148 4.09693245]\n",
      "error of particle- 18 is (training, test) (1, 11)  At (gamma, c):  [1.24317456 4.04828288]\n",
      "error of particle- 19 is (training, test) (3, 11)  At (gamma, c):  [0.33320617 4.28999671]\n",
      "error of particle- 20 is (training, test) (2, 9)  At (gamma, c):  [0.53136691 4.1218871 ]\n",
      "error of particle- 21 is (training, test) (4, 11)  At (gamma, c):  [0.23440416 4.57520504]\n",
      "error of particle- 22 is (training, test) (3, 11)  At (gamma, c):  [0.29694441 3.99746689]\n",
      "error of particle- 23 is (training, test) (2, 10)  At (gamma, c):  [0.76731909 4.0381329 ]\n",
      "error of particle- 24 is (training, test) (3, 11)  At (gamma, c):  [0.31547683 3.99276746]\n",
      "error of particle- 25 is (training, test) (2, 10)  At (gamma, c):  [0.75324741 4.00909049]\n",
      "error of particle- 26 is (training, test) (2, 9)  At (gamma, c):  [0.50812539 3.95755075]\n",
      "error of particle- 27 is (training, test) (2, 9)  At (gamma, c):  [0.50505827 3.95410603]\n",
      "error of particle- 28 is (training, test) (3, 11)  At (gamma, c):  [0.32470795 4.10915581]\n",
      "error of particle- 29 is (training, test) (2, 10)  At (gamma, c):  [0.66923777 3.92853451]\n",
      "error of particle- 30 is (training, test) (3, 11)  At (gamma, c):  [0.29381191 4.48518276]\n",
      "error of particle- 31 is (training, test) (2, 10)  At (gamma, c):  [0.60879725 3.88140139]\n",
      "error of particle- 32 is (training, test) (2, 9)  At (gamma, c):  [0.50387604 4.46898769]\n",
      "error of particle- 33 is (training, test) (3, 10)  At (gamma, c):  [0.4500866  3.81030248]\n",
      "error of particle- 34 is (training, test) (1, 12)  At (gamma, c):  [1.23807168 3.25116821]\n",
      "error of particle- 35 is (training, test) (4, 8)  At (gamma, c):  [0.2112501  4.23939529]\n",
      "error of particle- 36 is (training, test) (2, 10)  At (gamma, c):  [0.71471267 4.28595407]\n",
      "error of particle- 37 is (training, test) (2, 10)  At (gamma, c):  [0.68764469 4.35832318]\n",
      "error of particle- 38 is (training, test) (4, 8)  At (gamma, c):  [0.21859913 4.26724978]\n",
      "error of particle- 39 is (training, test) (0, 18)  At (gamma, c):  [1.60798875 4.4099292 ]\n",
      "error of particle- 40 is (training, test) (1, 11)  At (gamma, c):  [1.10318416 3.6821819 ]\n",
      "error of particle- 41 is (training, test) (3, 11)  At (gamma, c):  [0.29368073 4.38679099]\n",
      "error of particle- 42 is (training, test) (4, 10)  At (gamma, c):  [0.24820262 4.27840229]\n",
      "error of particle- 43 is (training, test) (2, 9)  At (gamma, c):  [0.50533356 4.03023595]\n",
      "error of particle- 44 is (training, test) (8, 7)  At (gamma, c):  [0.18814334 4.12142882]\n",
      "error of particle- 45 is (training, test) (5, 7)  At (gamma, c):  [0.20931171 3.9828014 ]\n",
      "error of particle- 46 is (training, test) (3, 11)  At (gamma, c):  [0.36742584 4.10235719]\n",
      "error of particle- 47 is (training, test) (3, 10)  At (gamma, c):  [0.41916642 4.09941184]\n",
      "error of particle- 48 is (training, test) (4, 7)  At (gamma, c):  [0.2214791  3.90617001]\n",
      "error of particle- 49 is (training, test) (3, 10)  At (gamma, c):  [0.39233385 4.05709225]\n",
      "error of particle- 50 is (training, test) (0, 18)  At (gamma, c):  [1.60643071 4.17644093]\n",
      "The best position is  [0.2214791  3.90617001] in iteration number 9 with error (train, test): (4, 7)\n",
      "The best position is  [0.2214791  3.90617001] in iteration number 10 with error (train, test): (4, 7)\n",
      "Wall time: 1h 33min 19s\n"
     ]
    }
   ],
   "source": [
    "%%time\n",
    "particle_position_vector = np.array([np.array([random.random()*10, random.random()*10]) for _ in range(n_particles)])\n",
    "pbest_position = particle_position_vector\n",
    "pbest_fitness_value = np.array([float('inf') for _ in range(n_particles)])\n",
    "gbest_fitness_value = np.array([float('inf'), float('inf')])\n",
    "gbest_position = np.array([float('inf'), float('inf')])\n",
    "\n",
    "velocity_vector = ([np.array([0, 0]) for _ in range(n_particles)])\n",
    "iteration = 0\n",
    "while iteration < n_iterations:\n",
    "    print(\"iteration :\", iteration+1)\n",
    "    plot(particle_position_vector)\n",
    "    for i in range(n_particles):\n",
    "        fitness_cadidate = fitness_function(particle_position_vector[i])\n",
    "        print(\"error of particle-\",i+1,\"is (training, test)\", fitness_cadidate, \" At (gamma, c): \", particle_position_vector[i])\n",
    "        \n",
    "        if(pbest_fitness_value[i] > fitness_cadidate[1]):\n",
    "            pbest_fitness_value[i] = fitness_cadidate[1]\n",
    "            pbest_position[i] = particle_position_vector[i]\n",
    "\n",
    "        if(gbest_fitness_value[1] > fitness_cadidate[1]):\n",
    "            gbest_fitness_value = fitness_cadidate\n",
    "            gbest_position = particle_position_vector[i]\n",
    "        elif(gbest_fitness_value[1] == fitness_cadidate[1] and gbest_fitness_value[0] > fitness_cadidate[0]):\n",
    "            gbest_fitness_value = fitness_cadidate\n",
    "            gbest_position = particle_position_vector[i]\n",
    "            \n",
    "    for i in range(n_particles):\n",
    "        new_velocity = (W*velocity_vector[i]) + (c1*random.random()) * (pbest_position[i] - particle_position_vector[i]) + (c2*random.random()) * (gbest_position-particle_position_vector[i])\n",
    "        new_position = new_velocity + particle_position_vector[i]\n",
    "        particle_position_vector[i] = new_position\n",
    "    \n",
    "    print(\"The best position is \", gbest_position, \"in iteration number\", iteration, \"with error (train, test):\", fitness_function(gbest_position))    \n",
    "    iteration = iteration + 1\n",
    "    \n",
    "print(\"The best position is \", gbest_position, \"in iteration number\", iteration, \"with error (train, test):\", fitness_function(gbest_position))"
   ]
  },
  {
   "cell_type": "code",
   "execution_count": 9,
   "id": "dba74abf",
   "metadata": {},
   "outputs": [
    {
     "name": "stdout",
     "output_type": "stream",
     "text": [
      "Akurasi SVM dengan optimasi PSO 64.85260770975057\n",
      "              precision    recall  f1-score   support\n",
      "\n",
      "       anger       0.67      0.75      0.71       119\n",
      "        fear       0.90      0.61      0.73        62\n",
      "       happy       0.62      0.55      0.58       111\n",
      "        love       0.82      0.76      0.79        55\n",
      "     sadness       0.48      0.60      0.53        94\n",
      "\n",
      "    accuracy                           0.65       441\n",
      "   macro avg       0.70      0.65      0.67       441\n",
      "weighted avg       0.67      0.65      0.65       441\n",
      "\n",
      "[[89  1  8  0 21]\n",
      " [ 6 38 10  0  8]\n",
      " [19  1 61  4 26]\n",
      " [ 0  1  6 42  6]\n",
      " [18  1 14  5 56]]\n"
     ]
    },
    {
     "data": {
      "text/plain": [
       "<AxesSubplot:>"
      ]
     },
     "execution_count": 9,
     "metadata": {},
     "output_type": "execute_result"
    },
    {
     "data": {
      "image/png": "[encoded data removed]",
      "text/plain": [
       "<Figure size 432x288 with 2 Axes>"
      ]
     },
     "metadata": {
      "needs_background": "light"
     },
     "output_type": "display_data"
    }
   ],
   "source": [
    "SVM = SVC(kernel= 'rbf', gamma= gbest_position[0], C= gbest_position[1])\n",
    "SVM.fit(X_train, y_train)\n",
    "predictions_SVM = SVM.predict(X_test)\n",
    "accuracy = accuracy_score(predictions_SVM, y_test)\n",
    "print('Akurasi SVM dengan optimasi PSO', accuracy*100)\n",
    "\n",
    "x = df['clean_data'].values.astype('U')\n",
    "y = df['label'].values\n",
    "\n",
    "encoder = LabelEncoder()\n",
    "encoder.fit(y)\n",
    "target_names = encoder.classes_\n",
    "\n",
    "print(classification_report(y_test, predictions_SVM, target_names=target_names))\n",
    "print(confusion_matrix(y_test, predictions_SVM, labels=[0, 1, 2, 3, 4]))\n",
    "\n",
    "cf = confusion_matrix(y_test, predictions_SVM, labels=[0, 1, 2, 3, 4])\n",
    "sns.heatmap(cf, annot=True, fmt='d')"
   ]
  },
  {
   "cell_type": "code",
   "execution_count": null,
   "id": "bdf37195",
   "metadata": {},
   "outputs": [],
   "source": []
  },
  {
   "cell_type": "code",
   "execution_count": null,
   "id": "622712d0",
   "metadata": {},
   "outputs": [],
   "source": []
  }
 ],
 "metadata": {
  "kernelspec": {
   "display_name": "Python 3 (ipykernel)",
   "language": "python",
   "name": "python3"
  },
  "language_info": {
   "codemirror_mode": {
    "name": "ipython",
    "version": 3
   },
   "file_extension": ".py",
   "mimetype": "text/x-python",
   "name": "python",
   "nbconvert_exporter": "python",
   "pygments_lexer": "ipython3",
   "version": "3.9.7"
  }
 },
 "nbformat": 4,
 "nbformat_minor": 5
}
