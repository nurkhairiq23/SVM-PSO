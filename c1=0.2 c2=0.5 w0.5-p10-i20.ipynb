{
 "cells": [
  {
   "cell_type": "code",
   "execution_count": 1,
   "id": "67b917d9",
   "metadata": {},
   "outputs": [],
   "source": [
    "import pandas as pd\n",
    "import numpy as np\n",
    "import random\n",
    "import csv\n",
    "from sklearn.preprocessing import LabelEncoder\n",
    "from sklearn.feature_extraction.text import TfidfVectorizer\n",
    "from sklearn.model_selection import train_test_split\n",
    "from sklearn.svm import SVC\n",
    "from sklearn.metrics import accuracy_score\n",
    "from sklearn.metrics import classification_report, confusion_matrix  \n",
    "import matplotlib.pyplot as plt\n",
    "import seaborn as sns"
   ]
  },
  {
   "cell_type": "code",
   "execution_count": 2,
   "id": "3fc2c868",
   "metadata": {},
   "outputs": [
    {
     "data": {
      "text/html": [
       "<div>\n",
       "<style scoped>\n",
       "    .dataframe tbody tr th:only-of-type {\n",
       "        vertical-align: middle;\n",
       "    }\n",
       "\n",
       "    .dataframe tbody tr th {\n",
       "        vertical-align: top;\n",
       "    }\n",
       "\n",
       "    .dataframe thead th {\n",
       "        text-align: right;\n",
       "    }\n",
       "</style>\n",
       "<table border=\"1\" class=\"dataframe\">\n",
       "  <thead>\n",
       "    <tr style=\"text-align: right;\">\n",
       "      <th></th>\n",
       "      <th>label</th>\n",
       "      <th>tweet</th>\n",
       "      <th>clean_data</th>\n",
       "    </tr>\n",
       "  </thead>\n",
       "  <tbody>\n",
       "    <tr>\n",
       "      <th>0</th>\n",
       "      <td>anger</td>\n",
       "      <td>Soal jln Jatibaru,polisi tdk bs GERTAK gubernu...</td>\n",
       "      <td>jalan jatibarupolisi gertak gubernur emangny p...</td>\n",
       "    </tr>\n",
       "    <tr>\n",
       "      <th>1</th>\n",
       "      <td>anger</td>\n",
       "      <td>Sesama cewe lho (kayaknya), harusnya bisa lebi...</td>\n",
       "      <td>cewek kayak rasain sibuk jaga rasain sakit hai...</td>\n",
       "    </tr>\n",
       "    <tr>\n",
       "      <th>2</th>\n",
       "      <td>happy</td>\n",
       "      <td>Kepingin gudeg mbarek Bu hj. Amad Foto dari go...</td>\n",
       "      <td>kepingin gudeg mbarek bu hj amad foto google s...</td>\n",
       "    </tr>\n",
       "    <tr>\n",
       "      <th>3</th>\n",
       "      <td>anger</td>\n",
       "      <td>Jln Jatibaru,bagian dari wilayah Tn Abang.Peng...</td>\n",
       "      <td>jalan jatibarubagian wilayah tn abangpengatura...</td>\n",
       "    </tr>\n",
       "    <tr>\n",
       "      <th>4</th>\n",
       "      <td>happy</td>\n",
       "      <td>Sharing pengalaman aja, kemarin jam 18.00 bata...</td>\n",
       "      <td>sharing alam kemarin jam batalin tiket stasiun...</td>\n",
       "    </tr>\n",
       "    <tr>\n",
       "      <th>...</th>\n",
       "      <td>...</td>\n",
       "      <td>...</td>\n",
       "      <td>...</td>\n",
       "    </tr>\n",
       "    <tr>\n",
       "      <th>4396</th>\n",
       "      <td>love</td>\n",
       "      <td>Tahukah kamu, bahwa saat itu papa memejamkan m...</td>\n",
       "      <td>papa mejam mata tahan gejolak batin papa tapu ...</td>\n",
       "    </tr>\n",
       "    <tr>\n",
       "      <th>4397</th>\n",
       "      <td>fear</td>\n",
       "      <td>Sulitnya menetapkan Calon Wapresnya Jokowi di ...</td>\n",
       "      <td>sulit calon wapresnya jokowi pilpres salah gem...</td>\n",
       "    </tr>\n",
       "    <tr>\n",
       "      <th>4398</th>\n",
       "      <td>anger</td>\n",
       "      <td>5. masa depannya nggak jelas. lha iya, gimana ...</td>\n",
       "      <td>iya gimana coba lulus seni nari kerja narinari...</td>\n",
       "    </tr>\n",
       "    <tr>\n",
       "      <th>4399</th>\n",
       "      <td>happy</td>\n",
       "      <td>[USERNAME] dulu beneran ada mahasiswa Teknik U...</td>\n",
       "      <td>mahasiswa teknik ui nembak pacar sahur kukus t...</td>\n",
       "    </tr>\n",
       "    <tr>\n",
       "      <th>4400</th>\n",
       "      <td>sadness</td>\n",
       "      <td>Ya Allah, hanya Engkau yang mengetahui rasa sa...</td>\n",
       "      <td>engkau sakit hati sembuh</td>\n",
       "    </tr>\n",
       "  </tbody>\n",
       "</table>\n",
       "<p>4401 rows × 3 columns</p>\n",
       "</div>"
      ],
      "text/plain": [
       "        label                                              tweet  \\\n",
       "0       anger  Soal jln Jatibaru,polisi tdk bs GERTAK gubernu...   \n",
       "1       anger  Sesama cewe lho (kayaknya), harusnya bisa lebi...   \n",
       "2       happy  Kepingin gudeg mbarek Bu hj. Amad Foto dari go...   \n",
       "3       anger  Jln Jatibaru,bagian dari wilayah Tn Abang.Peng...   \n",
       "4       happy  Sharing pengalaman aja, kemarin jam 18.00 bata...   \n",
       "...       ...                                                ...   \n",
       "4396     love  Tahukah kamu, bahwa saat itu papa memejamkan m...   \n",
       "4397     fear  Sulitnya menetapkan Calon Wapresnya Jokowi di ...   \n",
       "4398    anger  5. masa depannya nggak jelas. lha iya, gimana ...   \n",
       "4399    happy  [USERNAME] dulu beneran ada mahasiswa Teknik U...   \n",
       "4400  sadness  Ya Allah, hanya Engkau yang mengetahui rasa sa...   \n",
       "\n",
       "                                             clean_data  \n",
       "0     jalan jatibarupolisi gertak gubernur emangny p...  \n",
       "1     cewek kayak rasain sibuk jaga rasain sakit hai...  \n",
       "2     kepingin gudeg mbarek bu hj amad foto google s...  \n",
       "3     jalan jatibarubagian wilayah tn abangpengatura...  \n",
       "4     sharing alam kemarin jam batalin tiket stasiun...  \n",
       "...                                                 ...  \n",
       "4396  papa mejam mata tahan gejolak batin papa tapu ...  \n",
       "4397  sulit calon wapresnya jokowi pilpres salah gem...  \n",
       "4398  iya gimana coba lulus seni nari kerja narinari...  \n",
       "4399  mahasiswa teknik ui nembak pacar sahur kukus t...  \n",
       "4400                           engkau sakit hati sembuh  \n",
       "\n",
       "[4401 rows x 3 columns]"
      ]
     },
     "execution_count": 2,
     "metadata": {},
     "output_type": "execute_result"
    }
   ],
   "source": [
    "df= pd.read_excel('../Dataset/Clean Dataset.xlsx') \n",
    "df"
   ]
  },
  {
   "cell_type": "code",
   "execution_count": 3,
   "id": "2e72187d",
   "metadata": {},
   "outputs": [],
   "source": [
    "X = df['clean_data'].values.astype('U')\n",
    "y = df['label'].values\n",
    "X_train, X_test, y_train, y_test = train_test_split(X, y, test_size = 0.10, random_state = 42)"
   ]
  },
  {
   "cell_type": "code",
   "execution_count": 4,
   "id": "476fd6fd",
   "metadata": {},
   "outputs": [],
   "source": [
    "# transformasi data label\n",
    "encoder = LabelEncoder()\n",
    "encoder.fit(y)\n",
    "y_train = encoder.transform(y_train)\n",
    "y_test = encoder.transform(y_test)\n",
    "    \n",
    "# term weighting\n",
    "tfidf = TfidfVectorizer()\n",
    "tfidf.fit(X)\n",
    "    \n",
    "X_train = tfidf.transform(X_train)\n",
    "X_test = tfidf.transform(X_test)"
   ]
  },
  {
   "cell_type": "code",
   "execution_count": 5,
   "id": "da80e298",
   "metadata": {},
   "outputs": [],
   "source": [
    "#################### PARAMETERS ####################\n",
    "W = 0.5\n",
    "c1 = 0.2\n",
    "c2 = 0.5\n",
    "\n",
    "n_iterations = 20\n",
    "n_particles = 10"
   ]
  },
  {
   "cell_type": "code",
   "execution_count": 6,
   "id": "9d7ef92a",
   "metadata": {},
   "outputs": [],
   "source": [
    "#mencari nilai 0-1 loss dari tiap partikel\n",
    "#partikle = (gamma,C) untuk rbf\n",
    "def fitness_function(position):\n",
    "    svclassifier = SVC(kernel='rbf', gamma = position[0], C = position[1] )  \n",
    "    svclassifier.fit(X_train, y_train)\n",
    "    y_train_pred = svclassifier.predict(X_train)\n",
    "    y_test_pred = svclassifier.predict(X_test)   \n",
    "    return confusion_matrix(y_train,y_train_pred)[0][1] + confusion_matrix(y_train,y_train_pred)[1][0], confusion_matrix(y_test,y_test_pred)[0][1] + confusion_matrix(y_test,y_test_pred)[1][0]\n",
    "\n",
    "#plotting (x axis = gamma, y axis = C)\n",
    "def plot(position):\n",
    "    x = []\n",
    "    y = []\n",
    "    for i in range(0,len(particle_position_vector)):\n",
    "        x.append(particle_position_vector[i][0])\n",
    "        y.append(particle_position_vector[i][1])\n",
    "    colors = (0,0,0)\n",
    "    plt.scatter(x, y, c = colors, alpha = 0.1)\n",
    "    plt.xlabel('C')\n",
    "    plt.ylabel('gamma')\n",
    "    plt.axis([0,10,0,10])\n",
    "    plt.gca().set_aspect('equal', adjustable='box')\n",
    "    return plt.show()"
   ]
  },
  {
   "cell_type": "code",
   "execution_count": 7,
   "id": "5885076e",
   "metadata": {},
   "outputs": [
    {
     "name": "stdout",
     "output_type": "stream",
     "text": [
      "iteration : 1\n"
     ]
    },
    {
     "name": "stderr",
     "output_type": "stream",
     "text": [
      "*c* argument looks like a single numeric RGB or RGBA sequence, which should be avoided as value-mapping will have precedence in case its length matches with *x* & *y*.  Please use the *color* keyword-argument or provide a 2D array with a single row if you intend to specify the same RGB or RGBA value for all points.\n"
     ]
    },
    {
     "data": {
      "image/png": "[encoded data removed]",
      "text/plain": [
       "<Figure size 432x288 with 1 Axes>"
      ]
     },
     "metadata": {
      "needs_background": "light"
     },
     "output_type": "display_data"
    },
    {
     "name": "stdout",
     "output_type": "stream",
     "text": [
      "error of particle- 1 is (training, test) (0, 58)  At (gamma, c):  [3.75926128 6.79386307]\n",
      "error of particle- 2 is (training, test) (0, 60)  At (gamma, c):  [7.66671645 1.37966704]\n",
      "error of particle- 3 is (training, test) (0, 60)  At (gamma, c):  [5.40074758 4.48727332]\n",
      "error of particle- 4 is (training, test) (11, 7)  At (gamma, c):  [0.09042939 7.83358499]\n",
      "error of particle- 5 is (training, test) (0, 60)  At (gamma, c):  [6.95902296 8.63889758]\n",
      "error of particle- 6 is (training, test) (0, 60)  At (gamma, c):  [4.96815589 8.23253282]\n",
      "error of particle- 7 is (training, test) (0, 28)  At (gamma, c):  [2.24598241 8.15870982]\n",
      "error of particle- 8 is (training, test) (0, 19)  At (gamma, c):  [1.75906855 9.92103629]\n",
      "error of particle- 9 is (training, test) (0, 58)  At (gamma, c):  [3.78067457 9.14951671]\n",
      "error of particle- 10 is (training, test) (2, 11)  At (gamma, c):  [0.24954602 8.12982961]\n"
     ]
    },
    {
     "name": "stderr",
     "output_type": "stream",
     "text": [
      "*c* argument looks like a single numeric RGB or RGBA sequence, which should be avoided as value-mapping will have precedence in case its length matches with *x* & *y*.  Please use the *color* keyword-argument or provide a 2D array with a single row if you intend to specify the same RGB or RGBA value for all points.\n"
     ]
    },
    {
     "name": "stdout",
     "output_type": "stream",
     "text": [
      "The best position is  [0.09042939 7.83358499] in iteration number 0 with error (train, test): (11, 7)\n",
      "iteration : 2\n"
     ]
    },
    {
     "data": {
      "image/png": "[encoded data removed]",
      "text/plain": [
       "<Figure size 432x288 with 1 Axes>"
      ]
     },
     "metadata": {
      "needs_background": "light"
     },
     "output_type": "display_data"
    },
    {
     "name": "stdout",
     "output_type": "stream",
     "text": [
      "error of particle- 1 is (training, test) (0, 27)  At (gamma, c):  [2.17140616 7.24385037]\n",
      "error of particle- 2 is (training, test) (0, 60)  At (gamma, c):  [6.36734452 2.48654693]\n",
      "error of particle- 3 is (training, test) (0, 52)  At (gamma, c):  [2.99962654 6.00034637]\n",
      "error of particle- 4 is (training, test) (11, 7)  At (gamma, c):  [0.09042939 7.83358499]\n",
      "error of particle- 5 is (training, test) (0, 60)  At (gamma, c):  [6.73912182 8.61311513]\n",
      "error of particle- 6 is (training, test) (0, 58)  At (gamma, c):  [3.69949387 8.12876932]\n",
      "error of particle- 7 is (training, test) (0, 15)  At (gamma, c):  [1.46379179 8.040731  ]\n",
      "error of particle- 8 is (training, test) (0, 17)  At (gamma, c):  [1.52908293 9.63332652]\n",
      "error of particle- 9 is (training, test) (0, 52)  At (gamma, c):  [3.02649905 8.8805797 ]\n",
      "error of particle- 10 is (training, test) (3, 11)  At (gamma, c):  [0.20401706 8.04506343]\n"
     ]
    },
    {
     "name": "stderr",
     "output_type": "stream",
     "text": [
      "*c* argument looks like a single numeric RGB or RGBA sequence, which should be avoided as value-mapping will have precedence in case its length matches with *x* & *y*.  Please use the *color* keyword-argument or provide a 2D array with a single row if you intend to specify the same RGB or RGBA value for all points.\n"
     ]
    },
    {
     "name": "stdout",
     "output_type": "stream",
     "text": [
      "The best position is  [0.09042939 7.83358499] in iteration number 1 with error (train, test): (11, 7)\n",
      "iteration : 3\n"
     ]
    },
    {
     "data": {
      "image/png": "[encoded data removed]",
      "text/plain": [
       "<Figure size 432x288 with 1 Axes>"
      ]
     },
     "metadata": {
      "needs_background": "light"
     },
     "output_type": "display_data"
    },
    {
     "name": "stdout",
     "output_type": "stream",
     "text": [
      "error of particle- 1 is (training, test) (0, 11)  At (gamma, c):  [1.13315442 7.53808383]\n",
      "error of particle- 2 is (training, test) (0, 54)  At (gamma, c):  [3.41602014 5.00065513]\n",
      "error of particle- 3 is (training, test) (0, 32)  At (gamma, c):  [2.41358057 6.36964486]\n",
      "error of particle- 4 is (training, test) (11, 7)  At (gamma, c):  [0.09042939 7.83358499]\n",
      "error of particle- 5 is (training, test) (0, 60)  At (gamma, c):  [6.69449884 8.60788328]\n",
      "error of particle- 6 is (training, test) (0, 39)  At (gamma, c):  [2.56701485 8.03614419]\n",
      "error of particle- 7 is (training, test) (0, 11)  At (gamma, c):  [1.00908542 7.97214706]\n",
      "error of particle- 8 is (training, test) (0, 11)  At (gamma, c):  [1.10290559 9.10018283]\n",
      "error of particle- 9 is (training, test) (0, 39)  At (gamma, c):  [2.56515815 8.71606676]\n",
      "error of particle- 10 is (training, test) (3, 11)  At (gamma, c):  [0.19035911 8.01963495]\n"
     ]
    },
    {
     "name": "stderr",
     "output_type": "stream",
     "text": [
      "*c* argument looks like a single numeric RGB or RGBA sequence, which should be avoided as value-mapping will have precedence in case its length matches with *x* & *y*.  Please use the *color* keyword-argument or provide a 2D array with a single row if you intend to specify the same RGB or RGBA value for all points.\n"
     ]
    },
    {
     "name": "stdout",
     "output_type": "stream",
     "text": [
      "The best position is  [0.09042939 7.83358499] in iteration number 2 with error (train, test): (11, 7)\n",
      "iteration : 4\n"
     ]
    },
    {
     "data": {
      "image/png": "[encoded data removed]",
      "text/plain": [
       "<Figure size 432x288 with 1 Axes>"
      ]
     },
     "metadata": {
      "needs_background": "light"
     },
     "output_type": "display_data"
    },
    {
     "name": "stdout",
     "output_type": "stream",
     "text": [
      "error of particle- 1 is (training, test) (1, 10)  At (gamma, c):  [0.70468702 7.65950857]\n",
      "error of particle- 2 is (training, test) (0, 54)  At (gamma, c):  [3.16741065 5.21243502]\n",
      "error of particle- 3 is (training, test) (0, 19)  At (gamma, c):  [1.72042701 6.80643748]\n",
      "error of particle- 4 is (training, test) (11, 7)  At (gamma, c):  [0.09042939 7.83358499]\n",
      "error of particle- 5 is (training, test) (0, 60)  At (gamma, c):  [6.47817701 8.5825205 ]\n",
      "error of particle- 6 is (training, test) (0, 19)  At (gamma, c):  [1.74969836 7.96929611]\n",
      "error of particle- 7 is (training, test) (0, 11)  At (gamma, c):  [0.8894673 7.9541049]\n",
      "error of particle- 8 is (training, test) (0, 10)  At (gamma, c):  [0.78141783 8.69800478]\n",
      "error of particle- 9 is (training, test) (0, 20)  At (gamma, c):  [1.88950215 8.4751296 ]\n",
      "error of particle- 10 is (training, test) (4, 11)  At (gamma, c):  [0.14702307 7.93895157]\n"
     ]
    },
    {
     "name": "stderr",
     "output_type": "stream",
     "text": [
      "*c* argument looks like a single numeric RGB or RGBA sequence, which should be avoided as value-mapping will have precedence in case its length matches with *x* & *y*.  Please use the *color* keyword-argument or provide a 2D array with a single row if you intend to specify the same RGB or RGBA value for all points.\n"
     ]
    },
    {
     "name": "stdout",
     "output_type": "stream",
     "text": [
      "The best position is  [0.09042939 7.83358499] in iteration number 3 with error (train, test): (11, 7)\n",
      "iteration : 5\n"
     ]
    },
    {
     "data": {
      "image/png": "[encoded data removed]",
      "text/plain": [
       "<Figure size 432x288 with 1 Axes>"
      ]
     },
     "metadata": {
      "needs_background": "light"
     },
     "output_type": "display_data"
    },
    {
     "name": "stdout",
     "output_type": "stream",
     "text": [
      "error of particle- 1 is (training, test) (1, 10)  At (gamma, c):  [0.50105598 7.71721622]\n",
      "error of particle- 2 is (training, test) (0, 19)  At (gamma, c):  [1.81099922 6.36790445]\n",
      "error of particle- 3 is (training, test) (0, 11)  At (gamma, c):  [1.08523006 7.2067086 ]\n",
      "error of particle- 4 is (training, test) (11, 7)  At (gamma, c):  [0.09042939 7.83358499]\n",
      "error of particle- 5 is (training, test) (0, 60)  At (gamma, c):  [5.45445593 8.46249367]\n",
      "error of particle- 6 is (training, test) (0, 11)  At (gamma, c):  [1.18359117 7.92299437]\n",
      "error of particle- 7 is (training, test) (1, 9)  At (gamma, c):  [0.55864439 7.90420646]\n",
      "error of particle- 8 is (training, test) (1, 10)  At (gamma, c):  [0.70268193 8.59950694]\n",
      "error of particle- 9 is (training, test) (0, 11)  At (gamma, c):  [1.21397756 8.23423931]\n",
      "error of particle- 10 is (training, test) (4, 10)  At (gamma, c):  [0.13296911 7.91278578]\n"
     ]
    },
    {
     "name": "stderr",
     "output_type": "stream",
     "text": [
      "*c* argument looks like a single numeric RGB or RGBA sequence, which should be avoided as value-mapping will have precedence in case its length matches with *x* & *y*.  Please use the *color* keyword-argument or provide a 2D array with a single row if you intend to specify the same RGB or RGBA value for all points.\n"
     ]
    },
    {
     "name": "stdout",
     "output_type": "stream",
     "text": [
      "The best position is  [0.09042939 7.83358499] in iteration number 4 with error (train, test): (11, 7)\n",
      "iteration : 6\n"
     ]
    },
    {
     "data": {
      "image/png": "[encoded data removed]",
      "text/plain": [
       "<Figure size 432x288 with 1 Axes>"
      ]
     },
     "metadata": {
      "needs_background": "light"
     },
     "output_type": "display_data"
    },
    {
     "name": "stdout",
     "output_type": "stream",
     "text": [
      "error of particle- 1 is (training, test) (2, 10)  At (gamma, c):  [0.46987909 7.72605153]\n",
      "error of particle- 2 is (training, test) (0, 20)  At (gamma, c):  [1.69390663 6.46765066]\n",
      "error of particle- 3 is (training, test) (1, 10)  At (gamma, c):  [0.67538424 7.46497407]\n",
      "error of particle- 4 is (training, test) (11, 7)  At (gamma, c):  [0.09042939 7.83358499]\n",
      "error of particle- 5 is (training, test) (0, 60)  At (gamma, c):  [5.15759822 8.4276884 ]\n",
      "error of particle- 6 is (training, test) (0, 11)  At (gamma, c):  [0.99995978 7.90797522]\n",
      "error of particle- 7 is (training, test) (1, 10)  At (gamma, c):  [0.49505445 7.89461511]\n",
      "error of particle- 8 is (training, test) (1, 10)  At (gamma, c):  [0.69321573 8.58766483]\n",
      "error of particle- 9 is (training, test) (0, 11)  At (gamma, c):  [0.98306384 8.15189609]\n",
      "error of particle- 10 is (training, test) (4, 9)  At (gamma, c):  [0.12134046 7.89113548]\n"
     ]
    },
    {
     "name": "stderr",
     "output_type": "stream",
     "text": [
      "*c* argument looks like a single numeric RGB or RGBA sequence, which should be avoided as value-mapping will have precedence in case its length matches with *x* & *y*.  Please use the *color* keyword-argument or provide a 2D array with a single row if you intend to specify the same RGB or RGBA value for all points.\n"
     ]
    },
    {
     "name": "stdout",
     "output_type": "stream",
     "text": [
      "The best position is  [0.09042939 7.83358499] in iteration number 5 with error (train, test): (11, 7)\n",
      "iteration : 7\n"
     ]
    },
    {
     "data": {
      "image/png": "[encoded data removed]",
      "text/plain": [
       "<Figure size 432x288 with 1 Axes>"
      ]
     },
     "metadata": {
      "needs_background": "light"
     },
     "output_type": "display_data"
    },
    {
     "name": "stdout",
     "output_type": "stream",
     "text": [
      "error of particle- 1 is (training, test) (2, 11)  At (gamma, c):  [0.34870255 7.76039214]\n",
      "error of particle- 2 is (training, test) (0, 11)  At (gamma, c):  [1.08416039 6.98706765]\n",
      "error of particle- 3 is (training, test) (1, 10)  At (gamma, c):  [0.56522109 7.53439369]\n",
      "error of particle- 4 is (training, test) (11, 7)  At (gamma, c):  [0.09042939 7.83358499]\n",
      "error of particle- 5 is (training, test) (0, 58)  At (gamma, c):  [3.8355199  8.27268049]\n",
      "error of particle- 6 is (training, test) (1, 10)  At (gamma, c):  [0.60016068 7.87527576]\n",
      "error of particle- 7 is (training, test) (2, 11)  At (gamma, c):  [0.30986412 7.86668261]\n",
      "error of particle- 8 is (training, test) (2, 10)  At (gamma, c):  [0.41613029 8.24103364]\n",
      "error of particle- 9 is (training, test) (1, 10)  At (gamma, c):  [0.73729615 8.06425598]\n",
      "error of particle- 10 is (training, test) (4, 10)  At (gamma, c):  [0.11588299 7.88097472]\n"
     ]
    },
    {
     "name": "stderr",
     "output_type": "stream",
     "text": [
      "*c* argument looks like a single numeric RGB or RGBA sequence, which should be avoided as value-mapping will have precedence in case its length matches with *x* & *y*.  Please use the *color* keyword-argument or provide a 2D array with a single row if you intend to specify the same RGB or RGBA value for all points.\n"
     ]
    },
    {
     "name": "stdout",
     "output_type": "stream",
     "text": [
      "The best position is  [0.09042939 7.83358499] in iteration number 6 with error (train, test): (11, 7)\n",
      "iteration : 8\n"
     ]
    },
    {
     "data": {
      "image/png": "[encoded data removed]",
      "text/plain": [
       "<Figure size 432x288 with 1 Axes>"
      ]
     },
     "metadata": {
      "needs_background": "light"
     },
     "output_type": "display_data"
    },
    {
     "name": "stdout",
     "output_type": "stream",
     "text": [
      "error of particle- 1 is (training, test) (2, 11)  At (gamma, c):  [0.25915018 7.78577067]\n",
      "error of particle- 2 is (training, test) (1, 10)  At (gamma, c):  [0.85233876 7.18454668]\n",
      "error of particle- 3 is (training, test) (2, 11)  At (gamma, c):  [0.376056   7.65359659]\n",
      "error of particle- 4 is (training, test) (11, 7)  At (gamma, c):  [0.09042939 7.83358499]\n",
      "error of particle- 5 is (training, test) (0, 52)  At (gamma, c):  [2.93981774 8.16766333]\n",
      "error of particle- 6 is (training, test) (1, 10)  At (gamma, c):  [0.57542458 7.87325261]\n",
      "error of particle- 7 is (training, test) (2, 11)  At (gamma, c):  [0.29254828 7.86407084]\n",
      "error of particle- 8 is (training, test) (2, 11)  At (gamma, c):  [0.28101211 8.07200212]\n",
      "error of particle- 9 is (training, test) (1, 10)  At (gamma, c):  [0.67210879 8.04101033]\n",
      "error of particle- 10 is (training, test) (4, 9)  At (gamma, c):  [0.11273636 7.87511628]\n"
     ]
    },
    {
     "name": "stderr",
     "output_type": "stream",
     "text": [
      "*c* argument looks like a single numeric RGB or RGBA sequence, which should be avoided as value-mapping will have precedence in case its length matches with *x* & *y*.  Please use the *color* keyword-argument or provide a 2D array with a single row if you intend to specify the same RGB or RGBA value for all points.\n"
     ]
    },
    {
     "name": "stdout",
     "output_type": "stream",
     "text": [
      "The best position is  [0.09042939 7.83358499] in iteration number 7 with error (train, test): (11, 7)\n",
      "iteration : 9\n"
     ]
    },
    {
     "data": {
      "image/png": "[encoded data removed]",
      "text/plain": [
       "<Figure size 432x288 with 1 Axes>"
      ]
     },
     "metadata": {
      "needs_background": "light"
     },
     "output_type": "display_data"
    },
    {
     "name": "stdout",
     "output_type": "stream",
     "text": [
      "error of particle- 1 is (training, test) (3, 11)  At (gamma, c):  [0.2052241  7.80105295]\n",
      "error of particle- 2 is (training, test) (1, 10)  At (gamma, c):  [0.85222286 7.1846454 ]\n",
      "error of particle- 3 is (training, test) (2, 11)  At (gamma, c):  [0.35794988 7.66500621]\n",
      "error of particle- 4 is (training, test) (11, 7)  At (gamma, c):  [0.09042939 7.83358499]\n",
      "error of particle- 5 is (training, test) (0, 31)  At (gamma, c):  [2.3664328  8.10043645]\n",
      "error of particle- 6 is (training, test) (2, 10)  At (gamma, c):  [0.44211477 7.86234923]\n",
      "error of particle- 7 is (training, test) (3, 11)  At (gamma, c):  [0.198005   7.84981076]\n",
      "error of particle- 8 is (training, test) (2, 11)  At (gamma, c):  [0.26955175 8.05766532]\n",
      "error of particle- 9 is (training, test) (2, 10)  At (gamma, c):  [0.39660782 7.94276741]\n",
      "error of particle- 10 is (training, test) (5, 7)  At (gamma, c):  [0.10303057 7.85704598]\n"
     ]
    },
    {
     "name": "stderr",
     "output_type": "stream",
     "text": [
      "*c* argument looks like a single numeric RGB or RGBA sequence, which should be avoided as value-mapping will have precedence in case its length matches with *x* & *y*.  Please use the *color* keyword-argument or provide a 2D array with a single row if you intend to specify the same RGB or RGBA value for all points.\n"
     ]
    },
    {
     "name": "stdout",
     "output_type": "stream",
     "text": [
      "The best position is  [0.10303057 7.85704598] in iteration number 8 with error (train, test): (5, 7)\n",
      "iteration : 10\n"
     ]
    },
    {
     "data": {
      "image/png": "[encoded data removed]",
      "text/plain": [
       "<Figure size 432x288 with 1 Axes>"
      ]
     },
     "metadata": {
      "needs_background": "light"
     },
     "output_type": "display_data"
    },
    {
     "name": "stdout",
     "output_type": "stream",
     "text": [
      "error of particle- 1 is (training, test) (3, 11)  At (gamma, c):  [0.15553063 7.82828059]\n",
      "error of particle- 2 is (training, test) (1, 10)  At (gamma, c):  [0.81858977 7.21483112]\n",
      "error of particle- 3 is (training, test) (2, 11)  At (gamma, c):  [0.27183111 7.72988254]\n",
      "error of particle- 4 is (training, test) (9, 7)  At (gamma, c):  [0.09480198 7.84172592]\n",
      "error of particle- 5 is (training, test) (0, 27)  At (gamma, c):  [2.24803484 8.08770476]\n",
      "error of particle- 6 is (training, test) (2, 10)  At (gamma, c):  [0.40143079 7.86171294]\n",
      "error of particle- 7 is (training, test) (3, 11)  At (gamma, c):  [0.18811118 7.85056448]\n",
      "error of particle- 8 is (training, test) (2, 11)  At (gamma, c):  [0.26899345 8.0569927 ]\n",
      "error of particle- 9 is (training, test) (2, 11)  At (gamma, c):  [0.36931224 7.9347974 ]\n",
      "error of particle- 10 is (training, test) (5, 7)  At (gamma, c):  [0.10303057 7.85704598]\n"
     ]
    },
    {
     "name": "stderr",
     "output_type": "stream",
     "text": [
      "*c* argument looks like a single numeric RGB or RGBA sequence, which should be avoided as value-mapping will have precedence in case its length matches with *x* & *y*.  Please use the *color* keyword-argument or provide a 2D array with a single row if you intend to specify the same RGB or RGBA value for all points.\n"
     ]
    },
    {
     "name": "stdout",
     "output_type": "stream",
     "text": [
      "The best position is  [0.10303057 7.85704598] in iteration number 9 with error (train, test): (5, 7)\n",
      "iteration : 11\n"
     ]
    },
    {
     "data": {
      "image/png": "[encoded data removed]",
      "text/plain": [
       "<Figure size 432x288 with 1 Axes>"
      ]
     },
     "metadata": {
      "needs_background": "light"
     },
     "output_type": "display_data"
    },
    {
     "name": "stdout",
     "output_type": "stream",
     "text": [
      "error of particle- 1 is (training, test) (4, 10)  At (gamma, c):  [0.13484844 7.8396126 ]\n",
      "error of particle- 2 is (training, test) (1, 10)  At (gamma, c):  [0.69034104 7.32993444]\n",
      "error of particle- 3 is (training, test) (3, 11)  At (gamma, c):  [0.23370045 7.75860772]\n",
      "error of particle- 4 is (training, test) (7, 7)  At (gamma, c):  [0.09823094 7.84810999]\n",
      "error of particle- 5 is (training, test) (0, 16)  At (gamma, c):  [1.48632188 8.00579547]\n",
      "error of particle- 6 is (training, test) (2, 10)  At (gamma, c):  [0.39785039 7.86165694]\n",
      "error of particle- 7 is (training, test) (3, 11)  At (gamma, c):  [0.16152097 7.85259014]\n",
      "error of particle- 8 is (training, test) (2, 11)  At (gamma, c):  [0.24635006 8.02971267]\n",
      "error of particle- 9 is (training, test) (2, 11)  At (gamma, c):  [0.28925213 7.91142069]\n",
      "error of particle- 10 is (training, test) (5, 7)  At (gamma, c):  [0.10303057 7.85704598]\n"
     ]
    },
    {
     "name": "stderr",
     "output_type": "stream",
     "text": [
      "*c* argument looks like a single numeric RGB or RGBA sequence, which should be avoided as value-mapping will have precedence in case its length matches with *x* & *y*.  Please use the *color* keyword-argument or provide a 2D array with a single row if you intend to specify the same RGB or RGBA value for all points.\n"
     ]
    },
    {
     "name": "stdout",
     "output_type": "stream",
     "text": [
      "The best position is  [0.10303057 7.85704598] in iteration number 10 with error (train, test): (5, 7)\n",
      "iteration : 12\n"
     ]
    },
    {
     "data": {
      "image/png": "[encoded data removed]",
      "text/plain": [
       "<Figure size 432x288 with 1 Axes>"
      ]
     },
     "metadata": {
      "needs_background": "light"
     },
     "output_type": "display_data"
    },
    {
     "name": "stdout",
     "output_type": "stream",
     "text": [
      "error of particle- 1 is (training, test) (4, 10)  At (gamma, c):  [0.12042981 7.84751273]\n",
      "error of particle- 2 is (training, test) (2, 10)  At (gamma, c):  [0.50665011 7.49479718]\n",
      "error of particle- 3 is (training, test) (3, 11)  At (gamma, c):  [0.19512417 7.7876686 ]\n",
      "error of particle- 4 is (training, test) (6, 7)  At (gamma, c):  [0.10034065 7.85203786]\n",
      "error of particle- 5 is (training, test) (0, 11)  At (gamma, c):  [0.8639167  7.93886636]\n",
      "error of particle- 6 is (training, test) (2, 11)  At (gamma, c):  [0.26611346 7.85959659]\n",
      "error of particle- 7 is (training, test) (4, 11)  At (gamma, c):  [0.1379753  7.85438386]\n",
      "error of particle- 8 is (training, test) (3, 11)  At (gamma, c):  [0.21138439 7.98758716]\n",
      "error of particle- 9 is (training, test) (3, 11)  At (gamma, c):  [0.20291735 7.88621186]\n",
      "error of particle- 10 is (training, test) (5, 7)  At (gamma, c):  [0.10303057 7.85704598]\n"
     ]
    },
    {
     "name": "stderr",
     "output_type": "stream",
     "text": [
      "*c* argument looks like a single numeric RGB or RGBA sequence, which should be avoided as value-mapping will have precedence in case its length matches with *x* & *y*.  Please use the *color* keyword-argument or provide a 2D array with a single row if you intend to specify the same RGB or RGBA value for all points.\n"
     ]
    },
    {
     "name": "stdout",
     "output_type": "stream",
     "text": [
      "The best position is  [0.10303057 7.85704598] in iteration number 11 with error (train, test): (5, 7)\n",
      "iteration : 13\n"
     ]
    },
    {
     "data": {
      "image/png": "[encoded data removed]",
      "text/plain": [
       "<Figure size 432x288 with 1 Axes>"
      ]
     },
     "metadata": {
      "needs_background": "light"
     },
     "output_type": "display_data"
    },
    {
     "name": "stdout",
     "output_type": "stream",
     "text": [
      "error of particle- 1 is (training, test) (4, 10)  At (gamma, c):  [0.11822214 7.84872234]\n",
      "error of particle- 2 is (training, test) (2, 11)  At (gamma, c):  [0.36709926 7.62004415]\n",
      "error of particle- 3 is (training, test) (3, 11)  At (gamma, c):  [0.18483894 7.79541683]\n",
      "error of particle- 4 is (training, test) (6, 7)  At (gamma, c):  [0.10093694 7.85314804]\n",
      "error of particle- 5 is (training, test) (0, 10)  At (gamma, c):  [0.83901129 7.93618821]\n",
      "error of particle- 6 is (training, test) (3, 11)  At (gamma, c):  [0.21727714 7.85883279]\n",
      "error of particle- 7 is (training, test) (4, 10)  At (gamma, c):  [0.13384318 7.85469865]\n",
      "error of particle- 8 is (training, test) (3, 11)  At (gamma, c):  [0.19377991 7.96637785]\n",
      "error of particle- 9 is (training, test) (3, 11)  At (gamma, c):  [0.19994288 7.88534334]\n",
      "error of particle- 10 is (training, test) (5, 7)  At (gamma, c):  [0.10303057 7.85704598]\n"
     ]
    },
    {
     "name": "stderr",
     "output_type": "stream",
     "text": [
      "*c* argument looks like a single numeric RGB or RGBA sequence, which should be avoided as value-mapping will have precedence in case its length matches with *x* & *y*.  Please use the *color* keyword-argument or provide a 2D array with a single row if you intend to specify the same RGB or RGBA value for all points.\n"
     ]
    },
    {
     "name": "stdout",
     "output_type": "stream",
     "text": [
      "The best position is  [0.10303057 7.85704598] in iteration number 12 with error (train, test): (5, 7)\n",
      "iteration : 14\n"
     ]
    },
    {
     "data": {
      "image/png": "[encoded data removed]",
      "text/plain": [
       "<Figure size 432x288 with 1 Axes>"
      ]
     },
     "metadata": {
      "needs_background": "light"
     },
     "output_type": "display_data"
    },
    {
     "name": "stdout",
     "output_type": "stream",
     "text": [
      "error of particle- 1 is (training, test) (4, 10)  At (gamma, c):  [0.11729669 7.8492294 ]\n",
      "error of particle- 2 is (training, test) (2, 11)  At (gamma, c):  [0.27882367 7.69927156]\n",
      "error of particle- 3 is (training, test) (3, 11)  At (gamma, c):  [0.15336711 7.81912568]\n",
      "error of particle- 4 is (training, test) (6, 7)  At (gamma, c):  [0.10183423 7.85481862]\n",
      "error of particle- 5 is (training, test) (1, 10)  At (gamma, c):  [0.63485957 7.91423516]\n",
      "error of particle- 6 is (training, test) (3, 11)  At (gamma, c):  [0.21605489 7.85881367]\n",
      "error of particle- 7 is (training, test) (4, 9)  At (gamma, c):  [0.12473997 7.85539214]\n",
      "error of particle- 8 is (training, test) (3, 11)  At (gamma, c):  [0.16458666 7.93120676]\n",
      "error of particle- 9 is (training, test) (3, 11)  At (gamma, c):  [0.19799022 7.88477319]\n",
      "error of particle- 10 is (training, test) (5, 7)  At (gamma, c):  [0.10303057 7.85704598]\n"
     ]
    },
    {
     "name": "stderr",
     "output_type": "stream",
     "text": [
      "*c* argument looks like a single numeric RGB or RGBA sequence, which should be avoided as value-mapping will have precedence in case its length matches with *x* & *y*.  Please use the *color* keyword-argument or provide a 2D array with a single row if you intend to specify the same RGB or RGBA value for all points.\n"
     ]
    },
    {
     "name": "stdout",
     "output_type": "stream",
     "text": [
      "The best position is  [0.10303057 7.85704598] in iteration number 13 with error (train, test): (5, 7)\n",
      "iteration : 15\n"
     ]
    },
    {
     "data": {
      "image/png": "[encoded data removed]",
      "text/plain": [
       "<Figure size 432x288 with 1 Axes>"
      ]
     },
     "metadata": {
      "needs_background": "light"
     },
     "output_type": "display_data"
    },
    {
     "name": "stdout",
     "output_type": "stream",
     "text": [
      "error of particle- 1 is (training, test) (4, 8)  At (gamma, c):  [0.11157991 7.8523617 ]\n",
      "error of particle- 2 is (training, test) (3, 11)  At (gamma, c):  [0.23013815 7.74296685]\n",
      "error of particle- 3 is (training, test) (4, 11)  At (gamma, c):  [0.14590233 7.82474916]\n",
      "error of particle- 4 is (training, test) (6, 7)  At (gamma, c):  [0.10203044 7.85518393]\n",
      "error of particle- 5 is (training, test) (2, 10)  At (gamma, c):  [0.46401804 7.89586405]\n",
      "error of particle- 6 is (training, test) (3, 11)  At (gamma, c):  [0.18518262 7.85833083]\n",
      "error of particle- 7 is (training, test) (4, 9)  At (gamma, c):  [0.11482962 7.85614712]\n",
      "error of particle- 8 is (training, test) (4, 11)  At (gamma, c):  [0.13962147 7.90112951]\n",
      "error of particle- 9 is (training, test) (3, 11)  At (gamma, c):  [0.15178621 7.87128211]\n",
      "error of particle- 10 is (training, test) (5, 7)  At (gamma, c):  [0.10303057 7.85704598]\n"
     ]
    },
    {
     "name": "stderr",
     "output_type": "stream",
     "text": [
      "*c* argument looks like a single numeric RGB or RGBA sequence, which should be avoided as value-mapping will have precedence in case its length matches with *x* & *y*.  Please use the *color* keyword-argument or provide a 2D array with a single row if you intend to specify the same RGB or RGBA value for all points.\n"
     ]
    },
    {
     "name": "stdout",
     "output_type": "stream",
     "text": [
      "The best position is  [0.10303057 7.85704598] in iteration number 14 with error (train, test): (5, 7)\n",
      "iteration : 16\n"
     ]
    },
    {
     "data": {
      "image/png": "[encoded data removed]",
      "text/plain": [
       "<Figure size 432x288 with 1 Axes>"
      ]
     },
     "metadata": {
      "needs_background": "light"
     },
     "output_type": "display_data"
    },
    {
     "name": "stdout",
     "output_type": "stream",
     "text": [
      "error of particle- 1 is (training, test) (4, 8)  At (gamma, c):  [0.11015893 7.85314027]\n",
      "error of particle- 2 is (training, test) (3, 11)  At (gamma, c):  [0.22994736 7.74313807]\n",
      "error of particle- 3 is (training, test) (4, 11)  At (gamma, c):  [0.14324599 7.82675027]\n",
      "error of particle- 4 is (training, test) (6, 7)  At (gamma, c):  [0.10215424 7.85541441]\n",
      "error of particle- 5 is (training, test) (2, 11)  At (gamma, c):  [0.36673707 7.88540313]\n",
      "error of particle- 6 is (training, test) (3, 11)  At (gamma, c):  [0.1497448  7.85777659]\n",
      "error of particle- 7 is (training, test) (4, 8)  At (gamma, c):  [0.10919735 7.85657619]\n",
      "error of particle- 8 is (training, test) (4, 9)  At (gamma, c):  [0.12572452 7.88438692]\n",
      "error of particle- 9 is (training, test) (4, 10)  At (gamma, c):  [0.12786524 7.86429744]\n",
      "error of particle- 10 is (training, test) (5, 7)  At (gamma, c):  [0.10303057 7.85704598]\n"
     ]
    },
    {
     "name": "stderr",
     "output_type": "stream",
     "text": [
      "*c* argument looks like a single numeric RGB or RGBA sequence, which should be avoided as value-mapping will have precedence in case its length matches with *x* & *y*.  Please use the *color* keyword-argument or provide a 2D array with a single row if you intend to specify the same RGB or RGBA value for all points.\n"
     ]
    },
    {
     "name": "stdout",
     "output_type": "stream",
     "text": [
      "The best position is  [0.10303057 7.85704598] in iteration number 15 with error (train, test): (5, 7)\n",
      "iteration : 17\n"
     ]
    },
    {
     "data": {
      "image/png": "[encoded data removed]",
      "text/plain": [
       "<Figure size 432x288 with 1 Axes>"
      ]
     },
     "metadata": {
      "needs_background": "light"
     },
     "output_type": "display_data"
    },
    {
     "name": "stdout",
     "output_type": "stream",
     "text": [
      "error of particle- 1 is (training, test) (4, 7)  At (gamma, c):  [0.1077785  7.85444454]\n",
      "error of particle- 2 is (training, test) (3, 11)  At (gamma, c):  [0.18112297 7.786958  ]\n",
      "error of particle- 3 is (training, test) (4, 9)  At (gamma, c):  [0.12584747 7.8398572 ]\n",
      "error of particle- 4 is (training, test) (6, 7)  At (gamma, c):  [0.10252541 7.85610547]\n",
      "error of particle- 5 is (training, test) (2, 12)  At (gamma, c):  [0.32039277 7.88041959]\n",
      "error of particle- 6 is (training, test) (4, 11)  At (gamma, c):  [0.14251616 7.85766353]\n",
      "error of particle- 7 is (training, test) (5, 7)  At (gamma, c):  [0.107057   7.85673924]\n",
      "error of particle- 8 is (training, test) (4, 10)  At (gamma, c):  [0.11583843 7.87247647]\n",
      "error of particle- 9 is (training, test) (4, 10)  At (gamma, c):  [0.11696992 7.86111612]\n",
      "error of particle- 10 is (training, test) (5, 7)  At (gamma, c):  [0.10303057 7.85704598]\n"
     ]
    },
    {
     "name": "stderr",
     "output_type": "stream",
     "text": [
      "*c* argument looks like a single numeric RGB or RGBA sequence, which should be avoided as value-mapping will have precedence in case its length matches with *x* & *y*.  Please use the *color* keyword-argument or provide a 2D array with a single row if you intend to specify the same RGB or RGBA value for all points.\n"
     ]
    },
    {
     "name": "stdout",
     "output_type": "stream",
     "text": [
      "The best position is  [0.1077785  7.85444454] in iteration number 16 with error (train, test): (4, 7)\n",
      "iteration : 18\n"
     ]
    },
    {
     "data": {
      "image/png": "[encoded data removed]",
      "text/plain": [
       "<Figure size 432x288 with 1 Axes>"
      ]
     },
     "metadata": {
      "needs_background": "light"
     },
     "output_type": "display_data"
    },
    {
     "name": "stdout",
     "output_type": "stream",
     "text": [
      "error of particle- 1 is (training, test) (4, 7)  At (gamma, c):  [0.1077785  7.85444454]\n",
      "error of particle- 2 is (training, test) (3, 11)  At (gamma, c):  [0.18008423 7.78791378]\n",
      "error of particle- 3 is (training, test) (4, 10)  At (gamma, c):  [0.12036366 7.84428436]\n",
      "error of particle- 4 is (training, test) (5, 7)  At (gamma, c):  [0.10423858 7.8555638 ]\n",
      "error of particle- 5 is (training, test) (2, 11)  At (gamma, c):  [0.28718918 7.87636311]\n",
      "error of particle- 6 is (training, test) (4, 11)  At (gamma, c):  [0.13726369 7.85717681]\n",
      "error of particle- 7 is (training, test) (5, 7)  At (gamma, c):  [0.10709886 7.85660612]\n",
      "error of particle- 8 is (training, test) (4, 10)  At (gamma, c):  [0.11549598 7.87171034]\n",
      "error of particle- 9 is (training, test) (4, 9)  At (gamma, c):  [0.11258504 7.85793336]\n",
      "error of particle- 10 is (training, test) (5, 7)  At (gamma, c):  [0.10369991 7.85667924]\n"
     ]
    },
    {
     "name": "stderr",
     "output_type": "stream",
     "text": [
      "*c* argument looks like a single numeric RGB or RGBA sequence, which should be avoided as value-mapping will have precedence in case its length matches with *x* & *y*.  Please use the *color* keyword-argument or provide a 2D array with a single row if you intend to specify the same RGB or RGBA value for all points.\n"
     ]
    },
    {
     "name": "stdout",
     "output_type": "stream",
     "text": [
      "The best position is  [0.1077785  7.85444454] in iteration number 17 with error (train, test): (4, 7)\n",
      "iteration : 19\n"
     ]
    },
    {
     "data": {
      "image/png": "[encoded data removed]",
      "text/plain": [
       "<Figure size 432x288 with 1 Axes>"
      ]
     },
     "metadata": {
      "needs_background": "light"
     },
     "output_type": "display_data"
    },
    {
     "name": "stdout",
     "output_type": "stream",
     "text": [
      "error of particle- 1 is (training, test) (4, 7)  At (gamma, c):  [0.1077785  7.85444454]\n",
      "error of particle- 2 is (training, test) (3, 11)  At (gamma, c):  [0.17146546 7.79584417]\n",
      "error of particle- 3 is (training, test) (4, 10)  At (gamma, c):  [0.1167315  7.84721665]\n",
      "error of particle- 4 is (training, test) (5, 7)  At (gamma, c):  [0.10443348 7.85550217]\n",
      "error of particle- 5 is (training, test) (3, 11)  At (gamma, c):  [0.23402872 7.86986851]\n",
      "error of particle- 6 is (training, test) (4, 10)  At (gamma, c):  [0.1335758  7.85683507]\n",
      "error of particle- 7 is (training, test) (4, 7)  At (gamma, c):  [0.10731396 7.85592199]\n",
      "error of particle- 8 is (training, test) (4, 9)  At (gamma, c):  [0.11190952 7.86368659]\n",
      "error of particle- 9 is (training, test) (4, 8)  At (gamma, c):  [0.11158013 7.85720395]\n",
      "error of particle- 10 is (training, test) (5, 7)  At (gamma, c):  [0.10444467 7.85627118]\n"
     ]
    },
    {
     "name": "stderr",
     "output_type": "stream",
     "text": [
      "*c* argument looks like a single numeric RGB or RGBA sequence, which should be avoided as value-mapping will have precedence in case its length matches with *x* & *y*.  Please use the *color* keyword-argument or provide a 2D array with a single row if you intend to specify the same RGB or RGBA value for all points.\n"
     ]
    },
    {
     "name": "stdout",
     "output_type": "stream",
     "text": [
      "The best position is  [0.1077785  7.85444454] in iteration number 18 with error (train, test): (4, 7)\n",
      "iteration : 20\n"
     ]
    },
    {
     "data": {
      "image/png": "[encoded data removed]",
      "text/plain": [
       "<Figure size 432x288 with 1 Axes>"
      ]
     },
     "metadata": {
      "needs_background": "light"
     },
     "output_type": "display_data"
    },
    {
     "name": "stdout",
     "output_type": "stream",
     "text": [
      "error of particle- 1 is (training, test) (4, 7)  At (gamma, c):  [0.1077785  7.85444454]\n",
      "error of particle- 2 is (training, test) (3, 11)  At (gamma, c):  [0.15720969 7.80896136]\n",
      "error of particle- 3 is (training, test) (4, 9)  At (gamma, c):  [0.11384084 7.84955032]\n",
      "error of particle- 4 is (training, test) (5, 7)  At (gamma, c):  [0.10603632 7.85499538]\n",
      "error of particle- 5 is (training, test) (3, 11)  At (gamma, c):  [0.20717406 7.86658768]\n",
      "error of particle- 6 is (training, test) (4, 10)  At (gamma, c):  [0.12841005 7.85635638]\n",
      "error of particle- 7 is (training, test) (4, 7)  At (gamma, c):  [0.10749032 7.85536106]\n",
      "error of particle- 8 is (training, test) (4, 9)  At (gamma, c):  [0.11177617 7.86338826]\n",
      "error of particle- 9 is (training, test) (4, 8)  At (gamma, c):  [0.1100776  7.85611333]\n",
      "error of particle- 10 is (training, test) (5, 7)  At (gamma, c):  [0.10523031 7.85584072]\n",
      "The best position is  [0.1077785  7.85444454] in iteration number 19 with error (train, test): (4, 7)\n",
      "The best position is  [0.1077785  7.85444454] in iteration number 20 with error (train, test): (4, 7)\n",
      "Wall time: 45min\n"
     ]
    }
   ],
   "source": [
    "%%time\n",
    "particle_position_vector = np.array([np.array([random.random()*10, random.random()*10]) for _ in range(n_particles)])\n",
    "pbest_position = particle_position_vector\n",
    "pbest_fitness_value = np.array([float('inf') for _ in range(n_particles)])\n",
    "gbest_fitness_value = np.array([float('inf'), float('inf')])\n",
    "gbest_position = np.array([float('inf'), float('inf')])\n",
    "\n",
    "velocity_vector = ([np.array([0, 0]) for _ in range(n_particles)])\n",
    "iteration = 0\n",
    "while iteration < n_iterations:\n",
    "    print(\"iteration :\", iteration+1)\n",
    "    plot(particle_position_vector)\n",
    "    for i in range(n_particles):\n",
    "        fitness_cadidate = fitness_function(particle_position_vector[i])\n",
    "        print(\"error of particle-\",i+1,\"is (training, test)\", fitness_cadidate, \" At (gamma, c): \", particle_position_vector[i])\n",
    "        \n",
    "        if(pbest_fitness_value[i] > fitness_cadidate[1]):\n",
    "            pbest_fitness_value[i] = fitness_cadidate[1]\n",
    "            pbest_position[i] = particle_position_vector[i]\n",
    "\n",
    "        if(gbest_fitness_value[1] > fitness_cadidate[1]):\n",
    "            gbest_fitness_value = fitness_cadidate\n",
    "            gbest_position = particle_position_vector[i]\n",
    "        elif(gbest_fitness_value[1] == fitness_cadidate[1] and gbest_fitness_value[0] > fitness_cadidate[0]):\n",
    "            gbest_fitness_value = fitness_cadidate\n",
    "            gbest_position = particle_position_vector[i]\n",
    "            \n",
    "    for i in range(n_particles):\n",
    "        new_velocity = (W*velocity_vector[i]) + (c1*random.random()) * (pbest_position[i] - particle_position_vector[i]) + (c2*random.random()) * (gbest_position-particle_position_vector[i])\n",
    "        new_position = new_velocity + particle_position_vector[i]\n",
    "        particle_position_vector[i] = new_position\n",
    "    \n",
    "    print(\"The best position is \", gbest_position, \"in iteration number\", iteration, \"with error (train, test):\", fitness_function(gbest_position))    \n",
    "    iteration = iteration + 1\n",
    "    \n",
    "print(\"The best position is \", gbest_position, \"in iteration number\", iteration, \"with error (train, test):\", fitness_function(gbest_position))"
   ]
  },
  {
   "cell_type": "code",
   "execution_count": 8,
   "id": "dba74abf",
   "metadata": {},
   "outputs": [
    {
     "name": "stdout",
     "output_type": "stream",
     "text": [
      "Akurasi SVM dengan optimasi PSO 63.94557823129252\n",
      "              precision    recall  f1-score   support\n",
      "\n",
      "       anger       0.67      0.75      0.71       119\n",
      "        fear       0.86      0.61      0.72        62\n",
      "       happy       0.62      0.53      0.57       111\n",
      "        love       0.79      0.76      0.78        55\n",
      "     sadness       0.46      0.57      0.51        94\n",
      "\n",
      "    accuracy                           0.64       441\n",
      "   macro avg       0.68      0.65      0.66       441\n",
      "weighted avg       0.66      0.64      0.64       441\n",
      "\n",
      "[[89  1  8  0 21]\n",
      " [ 6 38  9  1  8]\n",
      " [18  1 59  5 28]\n",
      " [ 0  1  6 42  6]\n",
      " [19  3 13  5 54]]\n"
     ]
    },
    {
     "data": {
      "text/plain": [
       "<AxesSubplot:>"
      ]
     },
     "execution_count": 8,
     "metadata": {},
     "output_type": "execute_result"
    },
    {
     "data": {
      "image/png": "[encoded data removed]",
      "text/plain": [
       "<Figure size 432x288 with 2 Axes>"
      ]
     },
     "metadata": {
      "needs_background": "light"
     },
     "output_type": "display_data"
    }
   ],
   "source": [
    "SVM = SVC(kernel= 'rbf', gamma= gbest_position[0], C= gbest_position[1])\n",
    "SVM.fit(X_train, y_train)\n",
    "predictions_SVM = SVM.predict(X_test)\n",
    "accuracy = accuracy_score(predictions_SVM, y_test)\n",
    "print('Akurasi SVM dengan optimasi PSO', accuracy*100)\n",
    "\n",
    "x = df['clean_data'].values.astype('U')\n",
    "y = df['label'].values\n",
    "\n",
    "encoder = LabelEncoder()\n",
    "encoder.fit(y)\n",
    "target_names = encoder.classes_\n",
    "\n",
    "print(classification_report(y_test, predictions_SVM, target_names=target_names))\n",
    "print(confusion_matrix(y_test, predictions_SVM, labels=[0, 1, 2, 3, 4]))\n",
    "\n",
    "cf = confusion_matrix(y_test, predictions_SVM, labels=[0, 1, 2, 3, 4])\n",
    "sns.heatmap(cf, annot=True, fmt='d')"
   ]
  },
  {
   "cell_type": "code",
   "execution_count": null,
   "id": "bdf37195",
   "metadata": {},
   "outputs": [],
   "source": []
  },
  {
   "cell_type": "code",
   "execution_count": null,
   "id": "622712d0",
   "metadata": {},
   "outputs": [],
   "source": []
  }
 ],
 "metadata": {
  "kernelspec": {
   "display_name": "Python 3 (ipykernel)",
   "language": "python",
   "name": "python3"
  },
  "language_info": {
   "codemirror_mode": {
    "name": "ipython",
    "version": 3
   },
   "file_extension": ".py",
   "mimetype": "text/x-python",
   "name": "python",
   "nbconvert_exporter": "python",
   "pygments_lexer": "ipython3",
   "version": "3.9.7"
  }
 },
 "nbformat": 4,
 "nbformat_minor": 5
}
