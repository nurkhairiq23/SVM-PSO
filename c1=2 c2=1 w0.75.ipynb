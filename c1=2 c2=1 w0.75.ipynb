{
 "cells": [
  {
   "cell_type": "code",
   "execution_count": 1,
   "id": "67b917d9",
   "metadata": {},
   "outputs": [],
   "source": [
    "import pandas as pd\n",
    "import numpy as np\n",
    "import random\n",
    "import csv\n",
    "from sklearn.preprocessing import LabelEncoder\n",
    "from sklearn.feature_extraction.text import TfidfVectorizer\n",
    "from sklearn.model_selection import train_test_split\n",
    "from sklearn.svm import SVC\n",
    "from sklearn.metrics import accuracy_score\n",
    "from sklearn.metrics import classification_report, confusion_matrix  \n",
    "import matplotlib.pyplot as plt\n",
    "import seaborn as sns"
   ]
  },
  {
   "cell_type": "code",
   "execution_count": 2,
   "id": "3fc2c868",
   "metadata": {},
   "outputs": [
    {
     "data": {
      "text/html": [
       "<div>\n",
       "<style scoped>\n",
       "    .dataframe tbody tr th:only-of-type {\n",
       "        vertical-align: middle;\n",
       "    }\n",
       "\n",
       "    .dataframe tbody tr th {\n",
       "        vertical-align: top;\n",
       "    }\n",
       "\n",
       "    .dataframe thead th {\n",
       "        text-align: right;\n",
       "    }\n",
       "</style>\n",
       "<table border=\"1\" class=\"dataframe\">\n",
       "  <thead>\n",
       "    <tr style=\"text-align: right;\">\n",
       "      <th></th>\n",
       "      <th>label</th>\n",
       "      <th>tweet</th>\n",
       "      <th>clean_data</th>\n",
       "    </tr>\n",
       "  </thead>\n",
       "  <tbody>\n",
       "    <tr>\n",
       "      <th>0</th>\n",
       "      <td>anger</td>\n",
       "      <td>Soal jln Jatibaru,polisi tdk bs GERTAK gubernu...</td>\n",
       "      <td>jalan jatibarupolisi gertak gubernur emangny p...</td>\n",
       "    </tr>\n",
       "    <tr>\n",
       "      <th>1</th>\n",
       "      <td>anger</td>\n",
       "      <td>Sesama cewe lho (kayaknya), harusnya bisa lebi...</td>\n",
       "      <td>cewek kayak rasain sibuk jaga rasain sakit hai...</td>\n",
       "    </tr>\n",
       "    <tr>\n",
       "      <th>2</th>\n",
       "      <td>happy</td>\n",
       "      <td>Kepingin gudeg mbarek Bu hj. Amad Foto dari go...</td>\n",
       "      <td>kepingin gudeg mbarek bu hj amad foto google s...</td>\n",
       "    </tr>\n",
       "    <tr>\n",
       "      <th>3</th>\n",
       "      <td>anger</td>\n",
       "      <td>Jln Jatibaru,bagian dari wilayah Tn Abang.Peng...</td>\n",
       "      <td>jalan jatibarubagian wilayah tn abangpengatura...</td>\n",
       "    </tr>\n",
       "    <tr>\n",
       "      <th>4</th>\n",
       "      <td>happy</td>\n",
       "      <td>Sharing pengalaman aja, kemarin jam 18.00 bata...</td>\n",
       "      <td>sharing alam kemarin jam batalin tiket stasiun...</td>\n",
       "    </tr>\n",
       "    <tr>\n",
       "      <th>...</th>\n",
       "      <td>...</td>\n",
       "      <td>...</td>\n",
       "      <td>...</td>\n",
       "    </tr>\n",
       "    <tr>\n",
       "      <th>4396</th>\n",
       "      <td>love</td>\n",
       "      <td>Tahukah kamu, bahwa saat itu papa memejamkan m...</td>\n",
       "      <td>papa mejam mata tahan gejolak batin papa tapu ...</td>\n",
       "    </tr>\n",
       "    <tr>\n",
       "      <th>4397</th>\n",
       "      <td>fear</td>\n",
       "      <td>Sulitnya menetapkan Calon Wapresnya Jokowi di ...</td>\n",
       "      <td>sulit calon wapresnya jokowi pilpres salah gem...</td>\n",
       "    </tr>\n",
       "    <tr>\n",
       "      <th>4398</th>\n",
       "      <td>anger</td>\n",
       "      <td>5. masa depannya nggak jelas. lha iya, gimana ...</td>\n",
       "      <td>iya gimana coba lulus seni nari kerja narinari...</td>\n",
       "    </tr>\n",
       "    <tr>\n",
       "      <th>4399</th>\n",
       "      <td>happy</td>\n",
       "      <td>[USERNAME] dulu beneran ada mahasiswa Teknik U...</td>\n",
       "      <td>mahasiswa teknik ui nembak pacar sahur kukus t...</td>\n",
       "    </tr>\n",
       "    <tr>\n",
       "      <th>4400</th>\n",
       "      <td>sadness</td>\n",
       "      <td>Ya Allah, hanya Engkau yang mengetahui rasa sa...</td>\n",
       "      <td>engkau sakit hati sembuh</td>\n",
       "    </tr>\n",
       "  </tbody>\n",
       "</table>\n",
       "<p>4401 rows × 3 columns</p>\n",
       "</div>"
      ],
      "text/plain": [
       "        label                                              tweet  \\\n",
       "0       anger  Soal jln Jatibaru,polisi tdk bs GERTAK gubernu...   \n",
       "1       anger  Sesama cewe lho (kayaknya), harusnya bisa lebi...   \n",
       "2       happy  Kepingin gudeg mbarek Bu hj. Amad Foto dari go...   \n",
       "3       anger  Jln Jatibaru,bagian dari wilayah Tn Abang.Peng...   \n",
       "4       happy  Sharing pengalaman aja, kemarin jam 18.00 bata...   \n",
       "...       ...                                                ...   \n",
       "4396     love  Tahukah kamu, bahwa saat itu papa memejamkan m...   \n",
       "4397     fear  Sulitnya menetapkan Calon Wapresnya Jokowi di ...   \n",
       "4398    anger  5. masa depannya nggak jelas. lha iya, gimana ...   \n",
       "4399    happy  [USERNAME] dulu beneran ada mahasiswa Teknik U...   \n",
       "4400  sadness  Ya Allah, hanya Engkau yang mengetahui rasa sa...   \n",
       "\n",
       "                                             clean_data  \n",
       "0     jalan jatibarupolisi gertak gubernur emangny p...  \n",
       "1     cewek kayak rasain sibuk jaga rasain sakit hai...  \n",
       "2     kepingin gudeg mbarek bu hj amad foto google s...  \n",
       "3     jalan jatibarubagian wilayah tn abangpengatura...  \n",
       "4     sharing alam kemarin jam batalin tiket stasiun...  \n",
       "...                                                 ...  \n",
       "4396  papa mejam mata tahan gejolak batin papa tapu ...  \n",
       "4397  sulit calon wapresnya jokowi pilpres salah gem...  \n",
       "4398  iya gimana coba lulus seni nari kerja narinari...  \n",
       "4399  mahasiswa teknik ui nembak pacar sahur kukus t...  \n",
       "4400                           engkau sakit hati sembuh  \n",
       "\n",
       "[4401 rows x 3 columns]"
      ]
     },
     "execution_count": 2,
     "metadata": {},
     "output_type": "execute_result"
    }
   ],
   "source": [
    "df= pd.read_excel('../Dataset/Clean Dataset.xlsx') \n",
    "df"
   ]
  },
  {
   "cell_type": "code",
   "execution_count": 3,
   "id": "2e72187d",
   "metadata": {},
   "outputs": [],
   "source": [
    "X = df['clean_data'].values.astype('U')\n",
    "y = df['label'].values\n",
    "X_train, X_test, y_train, y_test = train_test_split(X, y, test_size = 0.10, random_state = 42)"
   ]
  },
  {
   "cell_type": "code",
   "execution_count": 4,
   "id": "476fd6fd",
   "metadata": {},
   "outputs": [],
   "source": [
    "# transformasi data label\n",
    "encoder = LabelEncoder()\n",
    "encoder.fit(y)\n",
    "y_train = encoder.transform(y_train)\n",
    "y_test = encoder.transform(y_test)\n",
    "    \n",
    "# term weighting\n",
    "tfidf = TfidfVectorizer()\n",
    "tfidf.fit(X)\n",
    "    \n",
    "X_train = tfidf.transform(X_train)\n",
    "X_test = tfidf.transform(X_test)"
   ]
  },
  {
   "cell_type": "code",
   "execution_count": 5,
   "id": "da80e298",
   "metadata": {},
   "outputs": [],
   "source": [
    "#################### PARAMETERS ####################\n",
    "W = 0.75\n",
    "c1 = 2\n",
    "c2 = 1\n",
    "\n",
    "n_iterations = 10\n",
    "n_particles = 10"
   ]
  },
  {
   "cell_type": "code",
   "execution_count": 6,
   "id": "9d7ef92a",
   "metadata": {},
   "outputs": [],
   "source": [
    "#mencari nilai 0-1 loss dari tiap partikel\n",
    "#partikle = (gamma,C) untuk rbf\n",
    "def fitness_function(position):\n",
    "    svclassifier = SVC(kernel='rbf', gamma = position[0], C = position[1] )  \n",
    "    svclassifier.fit(X_train, y_train)\n",
    "    y_train_pred = svclassifier.predict(X_train)\n",
    "    y_test_pred = svclassifier.predict(X_test)   \n",
    "    return confusion_matrix(y_train,y_train_pred)[0][1] + confusion_matrix(y_train,y_train_pred)[1][0], confusion_matrix(y_test,y_test_pred)[0][1] + confusion_matrix(y_test,y_test_pred)[1][0]\n",
    "\n",
    "#plotting (x axis = gamma, y axis = C)\n",
    "def plot(position):\n",
    "    x = []\n",
    "    y = []\n",
    "    for i in range(0,len(particle_position_vector)):\n",
    "        x.append(particle_position_vector[i][0])\n",
    "        y.append(particle_position_vector[i][1])\n",
    "    colors = (0,0,0)\n",
    "    plt.scatter(x, y, c = colors, alpha = 0.1)\n",
    "    plt.xlabel('C')\n",
    "    plt.ylabel('gamma')\n",
    "    plt.axis([0,10,0,10])\n",
    "    plt.gca().set_aspect('equal', adjustable='box')\n",
    "    return plt.show()"
   ]
  },
  {
   "cell_type": "code",
   "execution_count": 7,
   "id": "5885076e",
   "metadata": {},
   "outputs": [
    {
     "name": "stdout",
     "output_type": "stream",
     "text": [
      "iteration : 1\n"
     ]
    },
    {
     "name": "stderr",
     "output_type": "stream",
     "text": [
      "*c* argument looks like a single numeric RGB or RGBA sequence, which should be avoided as value-mapping will have precedence in case its length matches with *x* & *y*.  Please use the *color* keyword-argument or provide a 2D array with a single row if you intend to specify the same RGB or RGBA value for all points.\n"
     ]
    },
    {
     "data": {
      "image/png": "[encoded data removed]",
      "text/plain": [
       "<Figure size 432x288 with 1 Axes>"
      ]
     },
     "metadata": {
      "needs_background": "light"
     },
     "output_type": "display_data"
    },
    {
     "name": "stdout",
     "output_type": "stream",
     "text": [
      "error of particle- 1 is (training, test) (1, 10)  At (gamma, c):  [0.41593869 9.52096877]\n",
      "error of particle- 2 is (training, test) (0, 60)  At (gamma, c):  [5.70199836 2.15334228]\n",
      "error of particle- 3 is (training, test) (0, 14)  At (gamma, c):  [1.40789784 8.29016072]\n",
      "error of particle- 4 is (training, test) (0, 58)  At (gamma, c):  [3.65058546 6.95143625]\n",
      "error of particle- 5 is (training, test) (0, 60)  At (gamma, c):  [7.56716027 2.24069324]\n",
      "error of particle- 6 is (training, test) (0, 60)  At (gamma, c):  [4.4265186 3.6617372]\n",
      "error of particle- 7 is (training, test) (0, 58)  At (gamma, c):  [3.69205246 6.66257636]\n",
      "error of particle- 8 is (training, test) (0, 60)  At (gamma, c):  [8.82149919 9.71386416]\n",
      "error of particle- 9 is (training, test) (0, 60)  At (gamma, c):  [4.69217061 7.63635486]\n",
      "error of particle- 10 is (training, test) (0, 60)  At (gamma, c):  [9.11985843 1.35106699]\n"
     ]
    },
    {
     "name": "stderr",
     "output_type": "stream",
     "text": [
      "*c* argument looks like a single numeric RGB or RGBA sequence, which should be avoided as value-mapping will have precedence in case its length matches with *x* & *y*.  Please use the *color* keyword-argument or provide a 2D array with a single row if you intend to specify the same RGB or RGBA value for all points.\n"
     ]
    },
    {
     "name": "stdout",
     "output_type": "stream",
     "text": [
      "The best position is  [0.41593869 9.52096877] in iteration number 0 with error (train, test): (1, 10)\n",
      "iteration : 2\n"
     ]
    },
    {
     "data": {
      "image/png": "[encoded data removed]",
      "text/plain": [
       "<Figure size 432x288 with 1 Axes>"
      ]
     },
     "metadata": {
      "needs_background": "light"
     },
     "output_type": "display_data"
    },
    {
     "name": "stdout",
     "output_type": "stream",
     "text": [
      "error of particle- 1 is (training, test) (1, 10)  At (gamma, c):  [0.41593869 9.52096877]\n",
      "error of particle- 2 is (training, test) (0, 20)  At (gamma, c):  [1.84902554 7.52355496]\n",
      "error of particle- 3 is (training, test) (0, 11)  At (gamma, c):  [1.13130485 8.63335316]\n",
      "error of particle- 4 is (training, test) (0, 11)  At (gamma, c):  [1.07224982 8.99960959]\n",
      "error of particle- 5 is (training, test) (0, 32)  At (gamma, c):  [2.41401832 7.48683096]\n",
      "error of particle- 6 is (training, test) (0, 13)  At (gamma, c):  [1.36456675 8.13507656]\n",
      "error of particle- 7 is (training, test) (0, 11)  At (gamma, c):  [1.14466193 8.8851615 ]\n",
      "error of particle- 8 is (training, test) (0, 60)  At (gamma, c):  [4.21962514 9.60825784]\n",
      "error of particle- 9 is (training, test) (0, 44)  At (gamma, c):  [2.72483059 8.50339772]\n",
      "error of particle- 10 is (training, test) (0, 18)  At (gamma, c):  [1.58199151 8.42645764]\n"
     ]
    },
    {
     "name": "stderr",
     "output_type": "stream",
     "text": [
      "*c* argument looks like a single numeric RGB or RGBA sequence, which should be avoided as value-mapping will have precedence in case its length matches with *x* & *y*.  Please use the *color* keyword-argument or provide a 2D array with a single row if you intend to specify the same RGB or RGBA value for all points.\n"
     ]
    },
    {
     "name": "stdout",
     "output_type": "stream",
     "text": [
      "The best position is  [0.41593869 9.52096877] in iteration number 1 with error (train, test): (1, 10)\n",
      "iteration : 3\n"
     ]
    },
    {
     "data": {
      "image/png": "[encoded data removed]",
      "text/plain": [
       "<Figure size 432x288 with 1 Axes>"
      ]
     },
     "metadata": {
      "needs_background": "light"
     },
     "output_type": "display_data"
    },
    {
     "name": "stdout",
     "output_type": "stream",
     "text": [
      "error of particle- 1 is (training, test) (1, 10)  At (gamma, c):  [0.41593869 9.52096877]\n",
      "error of particle- 2 is (training, test) (0, 11)  At (gamma, c):  [1.24624715 8.36369795]\n",
      "error of particle- 3 is (training, test) (0, 11)  At (gamma, c):  [1.05933999 8.72264608]\n",
      "error of particle- 4 is (training, test) (1, 10)  At (gamma, c):  [0.65317043 9.33251708]\n",
      "error of particle- 5 is (training, test) (0, 22)  At (gamma, c):  [2.00791058 7.90026749]\n",
      "error of particle- 6 is (training, test) (0, 11)  At (gamma, c):  [1.01594257 8.64439688]\n",
      "error of particle- 7 is (training, test) (1, 9)  At (gamma, c):  [0.54302152 9.41008966]\n",
      "error of particle- 8 is (training, test) (0, 28)  At (gamma, c):  [2.24168769 9.56286706]\n",
      "error of particle- 9 is (training, test) (0, 19)  At (gamma, c):  [1.81323162 8.90515612]\n",
      "error of particle- 10 is (training, test) (0, 14)  At (gamma, c):  [1.43856174 8.56108746]\n"
     ]
    },
    {
     "name": "stderr",
     "output_type": "stream",
     "text": [
      "*c* argument looks like a single numeric RGB or RGBA sequence, which should be avoided as value-mapping will have precedence in case its length matches with *x* & *y*.  Please use the *color* keyword-argument or provide a 2D array with a single row if you intend to specify the same RGB or RGBA value for all points.\n"
     ]
    },
    {
     "name": "stdout",
     "output_type": "stream",
     "text": [
      "The best position is  [0.54302152 9.41008966] in iteration number 2 with error (train, test): (1, 9)\n",
      "iteration : 4\n"
     ]
    },
    {
     "data": {
      "image/png": "[encoded data removed]",
      "text/plain": [
       "<Figure size 432x288 with 1 Axes>"
      ]
     },
     "metadata": {
      "needs_background": "light"
     },
     "output_type": "display_data"
    },
    {
     "name": "stdout",
     "output_type": "stream",
     "text": [
      "error of particle- 1 is (training, test) (1, 10)  At (gamma, c):  [0.47538545 9.46910178]\n",
      "error of particle- 2 is (training, test) (0, 11)  At (gamma, c):  [0.8848528  8.90144862]\n",
      "error of particle- 3 is (training, test) (0, 11)  At (gamma, c):  [0.99987076 8.80182539]\n",
      "error of particle- 4 is (training, test) (1, 10)  At (gamma, c):  [0.59217163 9.3754756 ]\n",
      "error of particle- 5 is (training, test) (0, 19)  At (gamma, c):  [1.65197    8.26712598]\n",
      "error of particle- 6 is (training, test) (1, 10)  At (gamma, c):  [0.65672076 9.22600252]\n",
      "error of particle- 7 is (training, test) (1, 9)  At (gamma, c):  [0.54302152 9.41008966]\n",
      "error of particle- 8 is (training, test) (1, 9)  At (gamma, c):  [0.55298569 9.41098583]\n",
      "error of particle- 9 is (training, test) (0, 11)  At (gamma, c):  [1.19676081 9.15021542]\n",
      "error of particle- 10 is (training, test) (0, 10)  At (gamma, c):  [0.80294804 9.1636706 ]\n"
     ]
    },
    {
     "name": "stderr",
     "output_type": "stream",
     "text": [
      "*c* argument looks like a single numeric RGB or RGBA sequence, which should be avoided as value-mapping will have precedence in case its length matches with *x* & *y*.  Please use the *color* keyword-argument or provide a 2D array with a single row if you intend to specify the same RGB or RGBA value for all points.\n"
     ]
    },
    {
     "name": "stdout",
     "output_type": "stream",
     "text": [
      "The best position is  [0.54302152 9.41008966] in iteration number 3 with error (train, test): (1, 9)\n",
      "iteration : 5\n"
     ]
    },
    {
     "data": {
      "image/png": "[encoded data removed]",
      "text/plain": [
       "<Figure size 432x288 with 1 Axes>"
      ]
     },
     "metadata": {
      "needs_background": "light"
     },
     "output_type": "display_data"
    },
    {
     "name": "stdout",
     "output_type": "stream",
     "text": [
      "error of particle- 1 is (training, test) (1, 10)  At (gamma, c):  [0.49556556 9.45149474]\n",
      "error of particle- 2 is (training, test) (1, 10)  At (gamma, c):  [0.5734914  9.36475083]\n",
      "error of particle- 3 is (training, test) (0, 10)  At (gamma, c):  [0.72032818 9.17401768]\n",
      "error of particle- 4 is (training, test) (1, 10)  At (gamma, c):  [0.57436123 9.38801861]\n",
      "error of particle- 5 is (training, test) (0, 17)  At (gamma, c):  [1.51186573 8.41152772]\n",
      "error of particle- 6 is (training, test) (1, 10)  At (gamma, c):  [0.63842076 9.2556315 ]\n",
      "error of particle- 7 is (training, test) (1, 9)  At (gamma, c):  [0.54302152 9.41008966]\n",
      "error of particle- 8 is (training, test) (1, 9)  At (gamma, c):  [0.54481167 9.41025067]\n",
      "error of particle- 9 is (training, test) (1, 10)  At (gamma, c):  [0.60605874 9.38503112]\n",
      "error of particle- 10 is (training, test) (0, 10)  At (gamma, c):  [0.75155615 9.21239183]\n"
     ]
    },
    {
     "name": "stderr",
     "output_type": "stream",
     "text": [
      "*c* argument looks like a single numeric RGB or RGBA sequence, which should be avoided as value-mapping will have precedence in case its length matches with *x* & *y*.  Please use the *color* keyword-argument or provide a 2D array with a single row if you intend to specify the same RGB or RGBA value for all points.\n"
     ]
    },
    {
     "name": "stdout",
     "output_type": "stream",
     "text": [
      "The best position is  [0.54302152 9.41008966] in iteration number 4 with error (train, test): (1, 9)\n",
      "iteration : 6\n"
     ]
    },
    {
     "data": {
      "image/png": "[encoded data removed]",
      "text/plain": [
       "<Figure size 432x288 with 1 Axes>"
      ]
     },
     "metadata": {
      "needs_background": "light"
     },
     "output_type": "display_data"
    },
    {
     "name": "stdout",
     "output_type": "stream",
     "text": [
      "error of particle- 1 is (training, test) (1, 10)  At (gamma, c):  [0.5182902  9.43166761]\n",
      "error of particle- 2 is (training, test) (1, 10)  At (gamma, c):  [0.57112059 9.36827857]\n",
      "error of particle- 3 is (training, test) (1, 10)  At (gamma, c):  [0.67139838 9.23916444]\n",
      "error of particle- 4 is (training, test) (1, 10)  At (gamma, c):  [0.56012272 9.39804611]\n",
      "error of particle- 5 is (training, test) (0, 17)  At (gamma, c):  [1.50910551 8.4143726 ]\n",
      "error of particle- 6 is (training, test) (1, 10)  At (gamma, c):  [0.63222751 9.26565883]\n",
      "error of particle- 7 is (training, test) (1, 9)  At (gamma, c):  [0.54302152 9.41008966]\n",
      "error of particle- 8 is (training, test) (1, 9)  At (gamma, c):  [0.54425876 9.41020094]\n",
      "error of particle- 9 is (training, test) (1, 10)  At (gamma, c):  [0.58313648 9.39414317]\n",
      "error of particle- 10 is (training, test) (1, 10)  At (gamma, c):  [0.56012331 9.39387659]\n"
     ]
    },
    {
     "name": "stderr",
     "output_type": "stream",
     "text": [
      "*c* argument looks like a single numeric RGB or RGBA sequence, which should be avoided as value-mapping will have precedence in case its length matches with *x* & *y*.  Please use the *color* keyword-argument or provide a 2D array with a single row if you intend to specify the same RGB or RGBA value for all points.\n"
     ]
    },
    {
     "name": "stdout",
     "output_type": "stream",
     "text": [
      "The best position is  [0.54302152 9.41008966] in iteration number 5 with error (train, test): (1, 9)\n",
      "iteration : 7\n"
     ]
    },
    {
     "data": {
      "image/png": "[encoded data removed]",
      "text/plain": [
       "<Figure size 432x288 with 1 Axes>"
      ]
     },
     "metadata": {
      "needs_background": "light"
     },
     "output_type": "display_data"
    },
    {
     "name": "stdout",
     "output_type": "stream",
     "text": [
      "error of particle- 1 is (training, test) (1, 10)  At (gamma, c):  [0.52512517 9.42570413]\n",
      "error of particle- 2 is (training, test) (1, 9)  At (gamma, c):  [0.55906002 9.38622455]\n",
      "error of particle- 3 is (training, test) (1, 10)  At (gamma, c):  [0.65716964 9.25810906]\n",
      "error of particle- 4 is (training, test) (1, 9)  At (gamma, c):  [0.55552053 9.40128721]\n",
      "error of particle- 5 is (training, test) (0, 11)  At (gamma, c):  [0.86063589 9.08273298]\n",
      "error of particle- 6 is (training, test) (1, 10)  At (gamma, c):  [0.63176259 9.26641156]\n",
      "error of particle- 7 is (training, test) (1, 9)  At (gamma, c):  [0.54302152 9.41008966]\n",
      "error of particle- 8 is (training, test) (1, 9)  At (gamma, c):  [0.54353443 9.41013579]\n",
      "error of particle- 9 is (training, test) (1, 10)  At (gamma, c):  [0.56060137 9.40310132]\n",
      "error of particle- 10 is (training, test) (1, 9)  At (gamma, c):  [0.54385871 9.40929597]\n"
     ]
    },
    {
     "name": "stderr",
     "output_type": "stream",
     "text": [
      "*c* argument looks like a single numeric RGB or RGBA sequence, which should be avoided as value-mapping will have precedence in case its length matches with *x* & *y*.  Please use the *color* keyword-argument or provide a 2D array with a single row if you intend to specify the same RGB or RGBA value for all points.\n"
     ]
    },
    {
     "name": "stdout",
     "output_type": "stream",
     "text": [
      "The best position is  [0.54302152 9.41008966] in iteration number 6 with error (train, test): (1, 9)\n",
      "iteration : 8\n"
     ]
    },
    {
     "data": {
      "image/png": "[encoded data removed]",
      "text/plain": [
       "<Figure size 432x288 with 1 Axes>"
      ]
     },
     "metadata": {
      "needs_background": "light"
     },
     "output_type": "display_data"
    },
    {
     "name": "stdout",
     "output_type": "stream",
     "text": [
      "error of particle- 1 is (training, test) (1, 9)  At (gamma, c):  [0.5416555  9.41128151]\n",
      "error of particle- 2 is (training, test) (1, 9)  At (gamma, c):  [0.55021272 9.39938923]\n",
      "error of particle- 3 is (training, test) (1, 9)  At (gamma, c):  [0.55474118 9.39448572]\n",
      "error of particle- 4 is (training, test) (1, 9)  At (gamma, c):  [0.5491943  9.40574247]\n",
      "error of particle- 5 is (training, test) (1, 10)  At (gamma, c):  [0.58518003 9.36663801]\n",
      "error of particle- 6 is (training, test) (1, 9)  At (gamma, c):  [0.54543619 9.40618013]\n",
      "error of particle- 7 is (training, test) (1, 9)  At (gamma, c):  [0.54302152 9.41008966]\n",
      "error of particle- 8 is (training, test) (1, 9)  At (gamma, c):  [0.54321587 9.41010714]\n",
      "error of particle- 9 is (training, test) (1, 9)  At (gamma, c):  [0.54354461 9.40988172]\n",
      "error of particle- 10 is (training, test) (1, 9)  At (gamma, c):  [0.54326882 9.40985521]\n"
     ]
    },
    {
     "name": "stderr",
     "output_type": "stream",
     "text": [
      "*c* argument looks like a single numeric RGB or RGBA sequence, which should be avoided as value-mapping will have precedence in case its length matches with *x* & *y*.  Please use the *color* keyword-argument or provide a 2D array with a single row if you intend to specify the same RGB or RGBA value for all points.\n"
     ]
    },
    {
     "name": "stdout",
     "output_type": "stream",
     "text": [
      "The best position is  [0.54302152 9.41008966] in iteration number 7 with error (train, test): (1, 9)\n",
      "iteration : 9\n"
     ]
    },
    {
     "data": {
      "image/png": "[encoded data removed]",
      "text/plain": [
       "<Figure size 432x288 with 1 Axes>"
      ]
     },
     "metadata": {
      "needs_background": "light"
     },
     "output_type": "display_data"
    },
    {
     "name": "stdout",
     "output_type": "stream",
     "text": [
      "error of particle- 1 is (training, test) (1, 9)  At (gamma, c):  [0.54254469 9.41050569]\n",
      "error of particle- 2 is (training, test) (1, 9)  At (gamma, c):  [0.54876573 9.40154234]\n",
      "error of particle- 3 is (training, test) (1, 9)  At (gamma, c):  [0.54958313 9.40135332]\n",
      "error of particle- 4 is (training, test) (1, 9)  At (gamma, c):  [0.54346343 9.40977844]\n",
      "error of particle- 5 is (training, test) (1, 9)  At (gamma, c):  [0.54526639 9.40777594]\n",
      "error of particle- 6 is (training, test) (1, 9)  At (gamma, c):  [0.54333279 9.40958569]\n",
      "error of particle- 7 is (training, test) (1, 9)  At (gamma, c):  [0.54302152 9.41008966]\n",
      "error of particle- 8 is (training, test) (1, 9)  At (gamma, c):  [0.5430627  9.41009336]\n",
      "error of particle- 9 is (training, test) (1, 9)  At (gamma, c):  [0.54329619 9.40998047]\n",
      "error of particle- 10 is (training, test) (1, 9)  At (gamma, c):  [0.54324223 9.40988042]\n"
     ]
    },
    {
     "name": "stderr",
     "output_type": "stream",
     "text": [
      "*c* argument looks like a single numeric RGB or RGBA sequence, which should be avoided as value-mapping will have precedence in case its length matches with *x* & *y*.  Please use the *color* keyword-argument or provide a 2D array with a single row if you intend to specify the same RGB or RGBA value for all points.\n"
     ]
    },
    {
     "name": "stdout",
     "output_type": "stream",
     "text": [
      "The best position is  [0.54302152 9.41008966] in iteration number 8 with error (train, test): (1, 9)\n",
      "iteration : 10\n"
     ]
    },
    {
     "data": {
      "image/png": "[encoded data removed]",
      "text/plain": [
       "<Figure size 432x288 with 1 Axes>"
      ]
     },
     "metadata": {
      "needs_background": "light"
     },
     "output_type": "display_data"
    },
    {
     "name": "stdout",
     "output_type": "stream",
     "text": [
      "error of particle- 1 is (training, test) (1, 9)  At (gamma, c):  [0.54279545 9.41028691]\n",
      "error of particle- 2 is (training, test) (1, 9)  At (gamma, c):  [0.5461701  9.40540461]\n",
      "error of particle- 3 is (training, test) (1, 9)  At (gamma, c):  [0.54950569 9.40145642]\n",
      "error of particle- 4 is (training, test) (1, 9)  At (gamma, c):  [0.54319216 9.40996948]\n",
      "error of particle- 5 is (training, test) (1, 9)  At (gamma, c):  [0.54493325 9.40811929]\n",
      "error of particle- 6 is (training, test) (1, 9)  At (gamma, c):  [0.5431464  9.40988747]\n",
      "error of particle- 7 is (training, test) (1, 9)  At (gamma, c):  [0.54302152 9.41008966]\n",
      "error of particle- 8 is (training, test) (1, 9)  At (gamma, c):  [0.54302413 9.41008989]\n",
      "error of particle- 9 is (training, test) (1, 9)  At (gamma, c):  [0.54313741 9.41004359]\n",
      "error of particle- 10 is (training, test) (1, 9)  At (gamma, c):  [0.54311141 9.41000444]\n",
      "The best position is  [0.54302152 9.41008966] in iteration number 9 with error (train, test): (1, 9)\n",
      "The best position is  [0.54302152 9.41008966] in iteration number 10 with error (train, test): (1, 9)\n",
      "Wall time: 21min 24s\n"
     ]
    }
   ],
   "source": [
    "%%time\n",
    "particle_position_vector = np.array([np.array([random.random()*10, random.random()*10]) for _ in range(n_particles)])\n",
    "pbest_position = particle_position_vector\n",
    "pbest_fitness_value = np.array([float('inf') for _ in range(n_particles)])\n",
    "gbest_fitness_value = np.array([float('inf'), float('inf')])\n",
    "gbest_position = np.array([float('inf'), float('inf')])\n",
    "\n",
    "velocity_vector = ([np.array([0, 0]) for _ in range(n_particles)])\n",
    "iteration = 0\n",
    "while iteration < n_iterations:\n",
    "    print(\"iteration :\", iteration+1)\n",
    "    plot(particle_position_vector)\n",
    "    for i in range(n_particles):\n",
    "        fitness_cadidate = fitness_function(particle_position_vector[i])\n",
    "        print(\"error of particle-\",i+1,\"is (training, test)\", fitness_cadidate, \" At (gamma, c): \", particle_position_vector[i])\n",
    "        \n",
    "        if(pbest_fitness_value[i] > fitness_cadidate[1]):\n",
    "            pbest_fitness_value[i] = fitness_cadidate[1]\n",
    "            pbest_position[i] = particle_position_vector[i]\n",
    "\n",
    "        if(gbest_fitness_value[1] > fitness_cadidate[1]):\n",
    "            gbest_fitness_value = fitness_cadidate\n",
    "            gbest_position = particle_position_vector[i]\n",
    "        elif(gbest_fitness_value[1] == fitness_cadidate[1] and gbest_fitness_value[0] > fitness_cadidate[0]):\n",
    "            gbest_fitness_value = fitness_cadidate\n",
    "            gbest_position = particle_position_vector[i]\n",
    "            \n",
    "    for i in range(n_particles):\n",
    "        new_velocity = (W*velocity_vector[i]) + (c1*random.random()) * (pbest_position[i] - particle_position_vector[i]) + (c2*random.random()) * (gbest_position-particle_position_vector[i])\n",
    "        new_position = new_velocity + particle_position_vector[i]\n",
    "        particle_position_vector[i] = new_position\n",
    "        \n",
    "    print(\"The best position is \", gbest_position, \"in iteration number\", iteration, \"with error (train, test):\", fitness_function(gbest_position))  \n",
    "    iteration = iteration + 1\n",
    "    \n",
    "print(\"The best position is \", gbest_position, \"in iteration number\", iteration, \"with error (train, test):\", fitness_function(gbest_position))"
   ]
  },
  {
   "cell_type": "code",
   "execution_count": 8,
   "id": "dba74abf",
   "metadata": {},
   "outputs": [
    {
     "name": "stdout",
     "output_type": "stream",
     "text": [
      "Akurasi SVM dengan optimasi PSO 65.07936507936508\n",
      "              precision    recall  f1-score   support\n",
      "\n",
      "       anger       0.67      0.74      0.70       119\n",
      "        fear       0.90      0.58      0.71        62\n",
      "       happy       0.66      0.59      0.63       111\n",
      "        love       0.82      0.73      0.77        55\n",
      "     sadness       0.47      0.61      0.53        94\n",
      "\n",
      "    accuracy                           0.65       441\n",
      "   macro avg       0.70      0.65      0.67       441\n",
      "weighted avg       0.68      0.65      0.66       441\n",
      "\n",
      "[[88  1  6  0 24]\n",
      " [ 8 36 11  0  7]\n",
      " [16  0 66  4 25]\n",
      " [ 0  1  6 40  8]\n",
      " [19  2 11  5 57]]\n"
     ]
    },
    {
     "data": {
      "text/plain": [
       "<AxesSubplot:>"
      ]
     },
     "execution_count": 8,
     "metadata": {},
     "output_type": "execute_result"
    },
    {
     "data": {
      "image/png": "[encoded data removed]",
      "text/plain": [
       "<Figure size 432x288 with 2 Axes>"
      ]
     },
     "metadata": {
      "needs_background": "light"
     },
     "output_type": "display_data"
    }
   ],
   "source": [
    "SVM = SVC(kernel= 'rbf', gamma= gbest_position[0], C= gbest_position[1])\n",
    "SVM.fit(X_train, y_train)\n",
    "predictions_SVM = SVM.predict(X_test)\n",
    "accuracy = accuracy_score(predictions_SVM, y_test)\n",
    "print('Akurasi SVM dengan optimasi PSO', accuracy*100)\n",
    "\n",
    "x = df['clean_data'].values.astype('U')\n",
    "y = df['label'].values\n",
    "\n",
    "encoder = LabelEncoder()\n",
    "encoder.fit(y)\n",
    "target_names = encoder.classes_\n",
    "\n",
    "print(classification_report(y_test, predictions_SVM, target_names=target_names))\n",
    "print(confusion_matrix(y_test, predictions_SVM, labels=[0, 1, 2, 3, 4]))\n",
    "\n",
    "cf = confusion_matrix(y_test, predictions_SVM, labels=[0, 1, 2, 3, 4])\n",
    "sns.heatmap(cf, annot=True, fmt='d')"
   ]
  },
  {
   "cell_type": "code",
   "execution_count": null,
   "id": "bdf37195",
   "metadata": {},
   "outputs": [],
   "source": []
  },
  {
   "cell_type": "code",
   "execution_count": null,
   "id": "622712d0",
   "metadata": {},
   "outputs": [],
   "source": []
  }
 ],
 "metadata": {
  "kernelspec": {
   "display_name": "Python 3 (ipykernel)",
   "language": "python",
   "name": "python3"
  },
  "language_info": {
   "codemirror_mode": {
    "name": "ipython",
    "version": 3
   },
   "file_extension": ".py",
   "mimetype": "text/x-python",
   "name": "python",
   "nbconvert_exporter": "python",
   "pygments_lexer": "ipython3",
   "version": "3.9.7"
  }
 },
 "nbformat": 4,
 "nbformat_minor": 5
}
