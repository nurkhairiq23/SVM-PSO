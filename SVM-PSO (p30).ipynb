{
 "cells": [
  {
   "cell_type": "code",
   "execution_count": 1,
   "id": "67b917d9",
   "metadata": {},
   "outputs": [],
   "source": [
    "import pandas as pd\n",
    "import numpy as np\n",
    "import random\n",
    "import csv\n",
    "from sklearn.preprocessing import LabelEncoder\n",
    "from sklearn.feature_extraction.text import TfidfVectorizer\n",
    "from sklearn.model_selection import train_test_split\n",
    "from sklearn.svm import SVC\n",
    "from sklearn.metrics import accuracy_score\n",
    "from sklearn.metrics import classification_report, confusion_matrix  \n",
    "import matplotlib.pyplot as plt\n",
    "import seaborn as sns"
   ]
  },
  {
   "cell_type": "code",
   "execution_count": 2,
   "id": "3fc2c868",
   "metadata": {},
   "outputs": [
    {
     "data": {
      "text/html": [
       "<div>\n",
       "<style scoped>\n",
       "    .dataframe tbody tr th:only-of-type {\n",
       "        vertical-align: middle;\n",
       "    }\n",
       "\n",
       "    .dataframe tbody tr th {\n",
       "        vertical-align: top;\n",
       "    }\n",
       "\n",
       "    .dataframe thead th {\n",
       "        text-align: right;\n",
       "    }\n",
       "</style>\n",
       "<table border=\"1\" class=\"dataframe\">\n",
       "  <thead>\n",
       "    <tr style=\"text-align: right;\">\n",
       "      <th></th>\n",
       "      <th>label</th>\n",
       "      <th>tweet</th>\n",
       "      <th>clean_data</th>\n",
       "    </tr>\n",
       "  </thead>\n",
       "  <tbody>\n",
       "    <tr>\n",
       "      <th>0</th>\n",
       "      <td>anger</td>\n",
       "      <td>Soal jln Jatibaru,polisi tdk bs GERTAK gubernu...</td>\n",
       "      <td>jalan jatibarupolisi gertak gubernur emangny p...</td>\n",
       "    </tr>\n",
       "    <tr>\n",
       "      <th>1</th>\n",
       "      <td>anger</td>\n",
       "      <td>Sesama cewe lho (kayaknya), harusnya bisa lebi...</td>\n",
       "      <td>cewek kayak rasain sibuk jaga rasain sakit hai...</td>\n",
       "    </tr>\n",
       "    <tr>\n",
       "      <th>2</th>\n",
       "      <td>happy</td>\n",
       "      <td>Kepingin gudeg mbarek Bu hj. Amad Foto dari go...</td>\n",
       "      <td>kepingin gudeg mbarek bu hj amad foto google s...</td>\n",
       "    </tr>\n",
       "    <tr>\n",
       "      <th>3</th>\n",
       "      <td>anger</td>\n",
       "      <td>Jln Jatibaru,bagian dari wilayah Tn Abang.Peng...</td>\n",
       "      <td>jalan jatibarubagian wilayah tn abangpengatura...</td>\n",
       "    </tr>\n",
       "    <tr>\n",
       "      <th>4</th>\n",
       "      <td>happy</td>\n",
       "      <td>Sharing pengalaman aja, kemarin jam 18.00 bata...</td>\n",
       "      <td>sharing alam kemarin jam batalin tiket stasiun...</td>\n",
       "    </tr>\n",
       "    <tr>\n",
       "      <th>...</th>\n",
       "      <td>...</td>\n",
       "      <td>...</td>\n",
       "      <td>...</td>\n",
       "    </tr>\n",
       "    <tr>\n",
       "      <th>4396</th>\n",
       "      <td>love</td>\n",
       "      <td>Tahukah kamu, bahwa saat itu papa memejamkan m...</td>\n",
       "      <td>papa mejam mata tahan gejolak batin papa tapu ...</td>\n",
       "    </tr>\n",
       "    <tr>\n",
       "      <th>4397</th>\n",
       "      <td>fear</td>\n",
       "      <td>Sulitnya menetapkan Calon Wapresnya Jokowi di ...</td>\n",
       "      <td>sulit calon wapresnya jokowi pilpres salah gem...</td>\n",
       "    </tr>\n",
       "    <tr>\n",
       "      <th>4398</th>\n",
       "      <td>anger</td>\n",
       "      <td>5. masa depannya nggak jelas. lha iya, gimana ...</td>\n",
       "      <td>iya gimana coba lulus seni nari kerja narinari...</td>\n",
       "    </tr>\n",
       "    <tr>\n",
       "      <th>4399</th>\n",
       "      <td>happy</td>\n",
       "      <td>[USERNAME] dulu beneran ada mahasiswa Teknik U...</td>\n",
       "      <td>mahasiswa teknik ui nembak pacar sahur kukus t...</td>\n",
       "    </tr>\n",
       "    <tr>\n",
       "      <th>4400</th>\n",
       "      <td>sadness</td>\n",
       "      <td>Ya Allah, hanya Engkau yang mengetahui rasa sa...</td>\n",
       "      <td>engkau sakit hati sembuh</td>\n",
       "    </tr>\n",
       "  </tbody>\n",
       "</table>\n",
       "<p>4401 rows × 3 columns</p>\n",
       "</div>"
      ],
      "text/plain": [
       "        label                                              tweet  \\\n",
       "0       anger  Soal jln Jatibaru,polisi tdk bs GERTAK gubernu...   \n",
       "1       anger  Sesama cewe lho (kayaknya), harusnya bisa lebi...   \n",
       "2       happy  Kepingin gudeg mbarek Bu hj. Amad Foto dari go...   \n",
       "3       anger  Jln Jatibaru,bagian dari wilayah Tn Abang.Peng...   \n",
       "4       happy  Sharing pengalaman aja, kemarin jam 18.00 bata...   \n",
       "...       ...                                                ...   \n",
       "4396     love  Tahukah kamu, bahwa saat itu papa memejamkan m...   \n",
       "4397     fear  Sulitnya menetapkan Calon Wapresnya Jokowi di ...   \n",
       "4398    anger  5. masa depannya nggak jelas. lha iya, gimana ...   \n",
       "4399    happy  [USERNAME] dulu beneran ada mahasiswa Teknik U...   \n",
       "4400  sadness  Ya Allah, hanya Engkau yang mengetahui rasa sa...   \n",
       "\n",
       "                                             clean_data  \n",
       "0     jalan jatibarupolisi gertak gubernur emangny p...  \n",
       "1     cewek kayak rasain sibuk jaga rasain sakit hai...  \n",
       "2     kepingin gudeg mbarek bu hj amad foto google s...  \n",
       "3     jalan jatibarubagian wilayah tn abangpengatura...  \n",
       "4     sharing alam kemarin jam batalin tiket stasiun...  \n",
       "...                                                 ...  \n",
       "4396  papa mejam mata tahan gejolak batin papa tapu ...  \n",
       "4397  sulit calon wapresnya jokowi pilpres salah gem...  \n",
       "4398  iya gimana coba lulus seni nari kerja narinari...  \n",
       "4399  mahasiswa teknik ui nembak pacar sahur kukus t...  \n",
       "4400                           engkau sakit hati sembuh  \n",
       "\n",
       "[4401 rows x 3 columns]"
      ]
     },
     "execution_count": 2,
     "metadata": {},
     "output_type": "execute_result"
    }
   ],
   "source": [
    "df= pd.read_excel('../Dataset/Clean Dataset.xlsx') \n",
    "df"
   ]
  },
  {
   "cell_type": "code",
   "execution_count": 3,
   "id": "2e72187d",
   "metadata": {},
   "outputs": [],
   "source": [
    "X = df['clean_data'].values.astype('U')\n",
    "y = df['label'].values\n",
    "X_train, X_test, y_train, y_test = train_test_split(X, y, test_size = 0.10, random_state = 42)"
   ]
  },
  {
   "cell_type": "code",
   "execution_count": 4,
   "id": "476fd6fd",
   "metadata": {},
   "outputs": [],
   "source": [
    "# transformasi data label\n",
    "encoder = LabelEncoder()\n",
    "encoder.fit(y)\n",
    "y_train = encoder.transform(y_train)\n",
    "y_test = encoder.transform(y_test)\n",
    "    \n",
    "# term weighting\n",
    "tfidf = TfidfVectorizer()\n",
    "tfidf.fit(X)\n",
    "    \n",
    "X_train = tfidf.transform(X_train)\n",
    "X_test = tfidf.transform(X_test)"
   ]
  },
  {
   "cell_type": "code",
   "execution_count": 5,
   "id": "da80e298",
   "metadata": {},
   "outputs": [],
   "source": [
    "#################### PARAMETERS ####################\n",
    "W = 0.5\n",
    "c1 = 0.2\n",
    "c2 = 0.5\n",
    "\n",
    "n_iterations = 10\n",
    "n_particles = 30"
   ]
  },
  {
   "cell_type": "code",
   "execution_count": 6,
   "id": "9d7ef92a",
   "metadata": {},
   "outputs": [],
   "source": [
    "#mencari nilai 0-1 loss dari tiap partikel\n",
    "#partikle = (gamma,C) untuk rbf\n",
    "def fitness_function(position):\n",
    "    svclassifier = SVC(kernel='rbf', gamma = position[0], C = position[1] )  \n",
    "    svclassifier.fit(X_train, y_train)\n",
    "    y_train_pred = svclassifier.predict(X_train)\n",
    "    y_test_pred = svclassifier.predict(X_test)   \n",
    "    return confusion_matrix(y_train,y_train_pred)[0][1] + confusion_matrix(y_train,y_train_pred)[1][0], confusion_matrix(y_test,y_test_pred)[0][1] + confusion_matrix(y_test,y_test_pred)[1][0]\n",
    "\n",
    "#plotting (x axis = gamma, y axis = C)\n",
    "def plot(position):\n",
    "    x = []\n",
    "    y = []\n",
    "    for i in range(0,len(particle_position_vector)):\n",
    "        x.append(particle_position_vector[i][0])\n",
    "        y.append(particle_position_vector[i][1])\n",
    "    colors = (0,0,0)\n",
    "    plt.scatter(x, y, c = colors, alpha = 0.1)\n",
    "    plt.xlabel('C')\n",
    "    plt.ylabel('gamma')\n",
    "    plt.axis([0,10,0,10])\n",
    "    plt.gca().set_aspect('equal', adjustable='box')\n",
    "    return plt.show()"
   ]
  },
  {
   "cell_type": "code",
   "execution_count": 7,
   "id": "5885076e",
   "metadata": {},
   "outputs": [
    {
     "name": "stdout",
     "output_type": "stream",
     "text": [
      "iteration : 1\n"
     ]
    },
    {
     "name": "stderr",
     "output_type": "stream",
     "text": [
      "*c* argument looks like a single numeric RGB or RGBA sequence, which should be avoided as value-mapping will have precedence in case its length matches with *x* & *y*.  Please use the *color* keyword-argument or provide a 2D array with a single row if you intend to specify the same RGB or RGBA value for all points.\n"
     ]
    },
    {
     "data": {
      "image/png": "[encoded data removed]",
      "text/plain": [
       "<Figure size 432x288 with 1 Axes>"
      ]
     },
     "metadata": {
      "needs_background": "light"
     },
     "output_type": "display_data"
    },
    {
     "name": "stdout",
     "output_type": "stream",
     "text": [
      "error of particle- 1 is (training, test) (0, 60)  At (gamma, c):  [9.53491333 4.15824726]\n",
      "error of particle- 2 is (training, test) (0, 51)  At (gamma, c):  [2.89636966 6.17485959]\n",
      "error of particle- 3 is (training, test) (0, 60)  At (gamma, c):  [9.11792114 7.67485113]\n",
      "error of particle- 4 is (training, test) (0, 60)  At (gamma, c):  [5.49485459 3.43641672]\n",
      "error of particle- 5 is (training, test) (580, 62)  At (gamma, c):  [0.93238148 0.11145432]\n",
      "error of particle- 6 is (training, test) (0, 60)  At (gamma, c):  [9.19706802 2.76875214]\n",
      "error of particle- 7 is (training, test) (0, 43)  At (gamma, c):  [2.69284519 6.10690694]\n",
      "error of particle- 8 is (training, test) (0, 11)  At (gamma, c):  [1.11550471 7.51396926]\n",
      "error of particle- 9 is (training, test) (0, 60)  At (gamma, c):  [6.22129485 3.5814436 ]\n",
      "error of particle- 10 is (training, test) (1, 10)  At (gamma, c):  [0.59985954 9.44157629]\n",
      "error of particle- 11 is (training, test) (0, 55)  At (gamma, c):  [3.49493262 3.33580929]\n",
      "error of particle- 12 is (training, test) (1, 10)  At (gamma, c):  [0.59602078 8.17762353]\n",
      "error of particle- 13 is (training, test) (0, 60)  At (gamma, c):  [7.39455351 4.69475766]\n",
      "error of particle- 14 is (training, test) (0, 60)  At (gamma, c):  [5.69493736 2.14660773]\n",
      "error of particle- 15 is (training, test) (560, 61)  At (gamma, c):  [0.17408642 0.21398047]\n",
      "error of particle- 16 is (training, test) (0, 60)  At (gamma, c):  [4.64203353 9.42806576]\n",
      "error of particle- 17 is (training, test) (0, 47)  At (gamma, c):  [2.83035581 4.66060566]\n",
      "error of particle- 18 is (training, test) (0, 60)  At (gamma, c):  [9.77044515 4.14427329]\n",
      "error of particle- 19 is (training, test) (0, 60)  At (gamma, c):  [9.89321485 8.22755851]\n",
      "error of particle- 20 is (training, test) (0, 60)  At (gamma, c):  [4.92077727 5.35008176]\n",
      "error of particle- 21 is (training, test) (361, 45)  At (gamma, c):  [0.08220523 0.97194248]\n",
      "error of particle- 22 is (training, test) (0, 46)  At (gamma, c):  [2.78078015 5.72509549]\n",
      "error of particle- 23 is (training, test) (0, 60)  At (gamma, c):  [5.57697984 8.17863067]\n",
      "error of particle- 24 is (training, test) (566, 60)  At (gamma, c):  [6.96925877 0.52478203]\n",
      "error of particle- 25 is (training, test) (0, 57)  At (gamma, c):  [3.6034734  9.86682984]\n",
      "error of particle- 26 is (training, test) (1, 32)  At (gamma, c):  [2.41406085 1.99937765]\n",
      "error of particle- 27 is (training, test) (0, 60)  At (gamma, c):  [4.52550554 5.98810735]\n",
      "error of particle- 28 is (training, test) (0, 56)  At (gamma, c):  [3.55525528 2.90319154]\n",
      "error of particle- 29 is (training, test) (0, 60)  At (gamma, c):  [9.04843967 2.87577248]\n",
      "error of particle- 30 is (training, test) (0, 60)  At (gamma, c):  [8.24393951 0.70061546]\n",
      "The best position is  [0.59985954 9.44157629] in iteration number 0 with error (train, test): (1, 10)\n",
      "iteration : 2\n"
     ]
    },
    {
     "name": "stderr",
     "output_type": "stream",
     "text": [
      "*c* argument looks like a single numeric RGB or RGBA sequence, which should be avoided as value-mapping will have precedence in case its length matches with *x* & *y*.  Please use the *color* keyword-argument or provide a 2D array with a single row if you intend to specify the same RGB or RGBA value for all points.\n"
     ]
    },
    {
     "data": {
      "image/png": "[encoded data removed]",
      "text/plain": [
       "<Figure size 432x288 with 1 Axes>"
      ]
     },
     "metadata": {
      "needs_background": "light"
     },
     "output_type": "display_data"
    },
    {
     "name": "stdout",
     "output_type": "stream",
     "text": [
      "error of particle- 1 is (training, test) (0, 60)  At (gamma, c):  [7.55897527 5.32662645]\n",
      "error of particle- 2 is (training, test) (0, 20)  At (gamma, c):  [1.91827389 7.56617146]\n",
      "error of particle- 3 is (training, test) (0, 60)  At (gamma, c):  [5.5136794  8.42240437]\n",
      "error of particle- 4 is (training, test) (0, 60)  At (gamma, c):  [4.06711982 5.18795579]\n",
      "error of particle- 5 is (training, test) (348, 53)  At (gamma, c):  [0.92483291 0.32325719]\n",
      "error of particle- 6 is (training, test) (0, 60)  At (gamma, c):  [8.88932905 3.00760736]\n",
      "error of particle- 7 is (training, test) (0, 20)  At (gamma, c):  [1.89981342 7.37041238]\n",
      "error of particle- 8 is (training, test) (0, 11)  At (gamma, c):  [0.86220175 8.46087731]\n",
      "error of particle- 9 is (training, test) (0, 54)  At (gamma, c):  [3.47898976 6.44019245]\n",
      "error of particle- 10 is (training, test) (1, 10)  At (gamma, c):  [0.59985954 9.44157629]\n",
      "error of particle- 11 is (training, test) (0, 53)  At (gamma, c):  [3.09826938 4.17238   ]\n",
      "error of particle- 12 is (training, test) (1, 10)  At (gamma, c):  [0.59763735 8.7098965 ]\n",
      "error of particle- 13 is (training, test) (0, 60)  At (gamma, c):  [4.23097196 6.90485688]\n",
      "error of particle- 14 is (training, test) (0, 56)  At (gamma, c):  [3.58824474 5.16290248]\n",
      "error of particle- 15 is (training, test) (3, 11)  At (gamma, c):  [0.35961712 4.23490667]\n",
      "error of particle- 16 is (training, test) (0, 52)  At (gamma, c):  [3.00291801 9.43354433]\n",
      "error of particle- 17 is (training, test) (0, 44)  At (gamma, c):  [2.74127295 4.85155085]\n",
      "error of particle- 18 is (training, test) (0, 60)  At (gamma, c):  [8.63277663 4.80143687]\n",
      "error of particle- 19 is (training, test) (0, 60)  At (gamma, c):  [7.26106164 8.57140427]\n",
      "error of particle- 20 is (training, test) (0, 59)  At (gamma, c):  [3.91705767 6.30050792]\n",
      "error of particle- 21 is (training, test) (53, 12)  At (gamma, c):  [0.17039268 2.41482701]\n",
      "error of particle- 22 is (training, test) (0, 20)  At (gamma, c):  [1.94133326 7.15558692]\n",
      "error of particle- 23 is (training, test) (0, 60)  At (gamma, c):  [4.15905312 8.53842996]\n",
      "error of particle- 24 is (training, test) (0, 60)  At (gamma, c):  [4.02350882 4.6486633 ]\n",
      "error of particle- 25 is (training, test) (0, 53)  At (gamma, c):  [3.11731559 9.79799931]\n",
      "error of particle- 26 is (training, test) (0, 20)  At (gamma, c):  [1.92740011 3.99575251]\n",
      "error of particle- 27 is (training, test) (0, 60)  At (gamma, c):  [4.10179692 6.36085226]\n",
      "error of particle- 28 is (training, test) (0, 28)  At (gamma, c):  [2.21985129 5.85757933]\n",
      "error of particle- 29 is (training, test) (0, 60)  At (gamma, c):  [8.96815381 2.93816654]\n",
      "error of particle- 30 is (training, test) (0, 60)  At (gamma, c):  [4.63367611 4.82893059]\n",
      "The best position is  [0.59985954 9.44157629] in iteration number 1 with error (train, test): (1, 10)\n",
      "iteration : 3\n"
     ]
    },
    {
     "name": "stderr",
     "output_type": "stream",
     "text": [
      "*c* argument looks like a single numeric RGB or RGBA sequence, which should be avoided as value-mapping will have precedence in case its length matches with *x* & *y*.  Please use the *color* keyword-argument or provide a 2D array with a single row if you intend to specify the same RGB or RGBA value for all points.\n"
     ]
    },
    {
     "data": {
      "image/png": "[encoded data removed]",
      "text/plain": [
       "<Figure size 432x288 with 1 Axes>"
      ]
     },
     "metadata": {
      "needs_background": "light"
     },
     "output_type": "display_data"
    },
    {
     "name": "stdout",
     "output_type": "stream",
     "text": [
      "error of particle- 1 is (training, test) (0, 60)  At (gamma, c):  [6.61255963 5.88624538]\n",
      "error of particle- 2 is (training, test) (0, 20)  At (gamma, c):  [1.66469394 7.92688132]\n",
      "error of particle- 3 is (training, test) (0, 60)  At (gamma, c):  [4.43008963 8.64715096]\n",
      "error of particle- 4 is (training, test) (0, 59)  At (gamma, c):  [3.92645703 5.36052032]\n",
      "error of particle- 5 is (training, test) (2, 10)  At (gamma, c):  [0.76311761 4.86077279]\n",
      "error of particle- 6 is (training, test) (0, 60)  At (gamma, c):  [6.467732  4.8871583]\n",
      "error of particle- 7 is (training, test) (0, 14)  At (gamma, c):  [1.42030925 8.13438697]\n",
      "error of particle- 8 is (training, test) (0, 10)  At (gamma, c):  [0.82083815 8.61550451]\n",
      "error of particle- 9 is (training, test) (0, 54)  At (gamma, c):  [3.32377406 6.60199892]\n",
      "error of particle- 10 is (training, test) (1, 10)  At (gamma, c):  [0.59985954 9.44157629]\n",
      "error of particle- 11 is (training, test) (0, 42)  At (gamma, c):  [2.64882545 5.12026623]\n",
      "error of particle- 12 is (training, test) (1, 10)  At (gamma, c):  [0.59812162 8.86934791]\n",
      "error of particle- 13 is (training, test) (0, 54)  At (gamma, c):  [3.18281648 7.63710531]\n",
      "error of particle- 14 is (training, test) (0, 54)  At (gamma, c):  [3.32706751 5.53684764]\n",
      "error of particle- 15 is (training, test) (2, 10)  At (gamma, c):  [0.43616897 5.89398173]\n",
      "error of particle- 16 is (training, test) (0, 20)  At (gamma, c):  [1.92857024 9.43713522]\n",
      "error of particle- 17 is (training, test) (0, 33)  At (gamma, c):  [2.43952682 5.4983304 ]\n",
      "error of particle- 18 is (training, test) (0, 60)  At (gamma, c):  [5.5477324  6.58348382]\n",
      "error of particle- 19 is (training, test) (0, 60)  At (gamma, c):  [5.69338162 8.77619483]\n",
      "error of particle- 20 is (training, test) (0, 31)  At (gamma, c):  [2.3893188  7.74713005]\n",
      "error of particle- 21 is (training, test) (3, 11)  At (gamma, c):  [0.33469847 5.10312665]\n",
      "error of particle- 22 is (training, test) (0, 20)  At (gamma, c):  [1.83452718 7.33759389]\n",
      "error of particle- 23 is (training, test) (0, 56)  At (gamma, c):  [3.53853295 8.69588712]\n",
      "error of particle- 24 is (training, test) (0, 52)  At (gamma, c):  [2.94537937 6.15798282]\n",
      "error of particle- 25 is (training, test) (0, 48)  At (gamma, c):  [2.86036309 9.76161981]\n",
      "error of particle- 26 is (training, test) (0, 13)  At (gamma, c):  [1.37541177 6.26011364]\n",
      "error of particle- 27 is (training, test) (0, 39)  At (gamma, c):  [2.59782688 7.68392464]\n",
      "error of particle- 28 is (training, test) (0, 22)  At (gamma, c):  [2.06392794 6.20253714]\n",
      "error of particle- 29 is (training, test) (0, 60)  At (gamma, c):  [5.61664717 5.54278586]\n",
      "error of particle- 30 is (training, test) (0, 60)  At (gamma, c):  [4.62005826 4.84450252]\n"
     ]
    },
    {
     "name": "stderr",
     "output_type": "stream",
     "text": [
      "*c* argument looks like a single numeric RGB or RGBA sequence, which should be avoided as value-mapping will have precedence in case its length matches with *x* & *y*.  Please use the *color* keyword-argument or provide a 2D array with a single row if you intend to specify the same RGB or RGBA value for all points.\n"
     ]
    },
    {
     "name": "stdout",
     "output_type": "stream",
     "text": [
      "The best position is  [0.82083815 8.61550451] in iteration number 2 with error (train, test): (0, 10)\n",
      "iteration : 4\n"
     ]
    },
    {
     "data": {
      "image/png": "[encoded data removed]",
      "text/plain": [
       "<Figure size 432x288 with 1 Axes>"
      ]
     },
     "metadata": {
      "needs_background": "light"
     },
     "output_type": "display_data"
    },
    {
     "name": "stdout",
     "output_type": "stream",
     "text": [
      "error of particle- 1 is (training, test) (0, 60)  At (gamma, c):  [5.76857768 6.28395882]\n",
      "error of particle- 2 is (training, test) (0, 16)  At (gamma, c):  [1.49257429 8.06733847]\n",
      "error of particle- 3 is (training, test) (0, 51)  At (gamma, c):  [2.89471329 8.63368856]\n",
      "error of particle- 4 is (training, test) (0, 51)  At (gamma, c):  [2.911672   6.42411162]\n",
      "error of particle- 5 is (training, test) (1, 10)  At (gamma, c):  [0.79143499 6.7028236 ]\n",
      "error of particle- 6 is (training, test) (0, 60)  At (gamma, c):  [6.43158663 4.91102318]\n",
      "error of particle- 7 is (training, test) (0, 13)  At (gamma, c):  [1.30516746 8.22679632]\n",
      "error of particle- 8 is (training, test) (0, 10)  At (gamma, c):  [0.82083815 8.61550451]\n",
      "error of particle- 9 is (training, test) (0, 37)  At (gamma, c):  [2.54403968 7.2292621 ]\n",
      "error of particle- 10 is (training, test) (1, 10)  At (gamma, c):  [0.66140391 9.21150848]\n",
      "error of particle- 11 is (training, test) (0, 19)  At (gamma, c):  [1.76774296 6.80495695]\n",
      "error of particle- 12 is (training, test) (1, 10)  At (gamma, c):  [0.65998791 8.79883518]\n",
      "error of particle- 13 is (training, test) (0, 32)  At (gamma, c):  [2.41943499 7.95331983]\n",
      "error of particle- 14 is (training, test) (0, 31)  At (gamma, c):  [2.36310637 6.72097932]\n",
      "error of particle- 15 is (training, test) (1, 10)  At (gamma, c):  [0.61487021 7.15828756]\n",
      "error of particle- 16 is (training, test) (0, 14)  At (gamma, c):  [1.38584408 9.03458257]\n",
      "error of particle- 17 is (training, test) (0, 22)  At (gamma, c):  [2.04883638 6.25069876]\n",
      "error of particle- 18 is (training, test) (0, 60)  At (gamma, c):  [5.14488572 6.75666154]\n",
      "error of particle- 19 is (training, test) (0, 60)  At (gamma, c):  [4.21158376 8.72732701]\n",
      "error of particle- 20 is (training, test) (0, 23)  At (gamma, c):  [2.09606739 7.90948592]\n",
      "error of particle- 21 is (training, test) (2, 9)  At (gamma, c):  [0.5494698  6.65485774]\n",
      "error of particle- 22 is (training, test) (0, 14)  At (gamma, c):  [1.44004713 7.83489655]\n",
      "error of particle- 23 is (training, test) (0, 46)  At (gamma, c):  [2.77394639 8.67327256]\n",
      "error of particle- 24 is (training, test) (0, 20)  At (gamma, c):  [1.94898559 7.31054192]\n",
      "error of particle- 25 is (training, test) (0, 48)  At (gamma, c):  [2.85177344 9.75679284]\n",
      "error of particle- 26 is (training, test) (0, 13)  At (gamma, c):  [1.33597102 6.42762678]\n",
      "error of particle- 27 is (training, test) (0, 31)  At (gamma, c):  [2.38071266 7.79774598]\n",
      "error of particle- 28 is (training, test) (0, 20)  At (gamma, c):  [1.92958764 6.46330571]\n",
      "error of particle- 29 is (training, test) (0, 58)  At (gamma, c):  [3.76267914 6.73064011]\n",
      "error of particle- 30 is (training, test) (0, 58)  At (gamma, c):  [3.85158112 5.60727191]\n"
     ]
    },
    {
     "name": "stderr",
     "output_type": "stream",
     "text": [
      "*c* argument looks like a single numeric RGB or RGBA sequence, which should be avoided as value-mapping will have precedence in case its length matches with *x* & *y*.  Please use the *color* keyword-argument or provide a 2D array with a single row if you intend to specify the same RGB or RGBA value for all points.\n"
     ]
    },
    {
     "name": "stdout",
     "output_type": "stream",
     "text": [
      "The best position is  [0.5494698  6.65485774] in iteration number 3 with error (train, test): (2, 9)\n",
      "iteration : 5\n"
     ]
    },
    {
     "data": {
      "image/png": "[encoded data removed]",
      "text/plain": [
       "<Figure size 432x288 with 1 Axes>"
      ]
     },
     "metadata": {
      "needs_background": "light"
     },
     "output_type": "display_data"
    },
    {
     "name": "stdout",
     "output_type": "stream",
     "text": [
      "error of particle- 1 is (training, test) (0, 60)  At (gamma, c):  [4.48571057 6.37512651]\n",
      "error of particle- 2 is (training, test) (0, 14)  At (gamma, c):  [1.38264577 7.90269933]\n",
      "error of particle- 3 is (training, test) (0, 22)  At (gamma, c):  [2.04265838 7.91475574]\n",
      "error of particle- 4 is (training, test) (0, 31)  At (gamma, c):  [2.38770734 6.47529387]\n",
      "error of particle- 5 is (training, test) (1, 10)  At (gamma, c):  [0.78161555 6.70087705]\n",
      "error of particle- 6 is (training, test) (0, 60)  At (gamma, c):  [4.45932715 5.49572667]\n",
      "error of particle- 7 is (training, test) (0, 11)  At (gamma, c):  [1.17305978 7.95199707]\n",
      "error of particle- 8 is (training, test) (1, 10)  At (gamma, c):  [0.73727909 8.01178707]\n",
      "error of particle- 9 is (training, test) (0, 20)  At (gamma, c):  [1.9025751  7.04453052]\n",
      "error of particle- 10 is (training, test) (1, 10)  At (gamma, c):  [0.61614383 8.17773774]\n",
      "error of particle- 11 is (training, test) (0, 13)  At (gamma, c):  [1.30464109 6.74789978]\n",
      "error of particle- 12 is (training, test) (1, 10)  At (gamma, c):  [0.65461607 8.69462503]\n",
      "error of particle- 13 is (training, test) (0, 27)  At (gamma, c):  [2.25511094 7.83921687]\n",
      "error of particle- 14 is (training, test) (0, 23)  At (gamma, c):  [2.10754143 6.71166193]\n",
      "error of particle- 15 is (training, test) (1, 10)  At (gamma, c):  [0.59737213 7.02359335]\n",
      "error of particle- 16 is (training, test) (0, 13)  At (gamma, c):  [1.37096495 8.99224721]\n",
      "error of particle- 17 is (training, test) (0, 14)  At (gamma, c):  [1.3891951  6.42850714]\n",
      "error of particle- 18 is (training, test) (0, 54)  At (gamma, c):  [3.4535635  6.71919311]\n",
      "error of particle- 19 is (training, test) (0, 52)  At (gamma, c):  [2.94154972 8.00858735]\n",
      "error of particle- 20 is (training, test) (0, 19)  At (gamma, c):  [1.70232901 7.59007817]\n",
      "error of particle- 21 is (training, test) (2, 9)  At (gamma, c):  [0.5494698  6.65485774]\n",
      "error of particle- 22 is (training, test) (0, 12)  At (gamma, c):  [1.281512   7.62483326]\n",
      "error of particle- 23 is (training, test) (0, 20)  At (gamma, c):  [1.83978314 7.82564443]\n",
      "error of particle- 24 is (training, test) (0, 13)  At (gamma, c):  [1.28658241 7.00020081]\n",
      "error of particle- 25 is (training, test) (0, 23)  At (gamma, c):  [2.14487654 8.80437793]\n",
      "error of particle- 26 is (training, test) (0, 11)  At (gamma, c):  [1.0145855  6.52047946]\n",
      "error of particle- 27 is (training, test) (0, 18)  At (gamma, c):  [1.59270442 7.30594592]\n",
      "error of particle- 28 is (training, test) (0, 20)  At (gamma, c):  [1.85286874 6.47395383]\n",
      "error of particle- 29 is (training, test) (0, 46)  At (gamma, c):  [2.79955485 6.70792518]\n",
      "error of particle- 30 is (training, test) (0, 52)  At (gamma, c):  [2.99679849 5.87844937]\n"
     ]
    },
    {
     "name": "stderr",
     "output_type": "stream",
     "text": [
      "*c* argument looks like a single numeric RGB or RGBA sequence, which should be avoided as value-mapping will have precedence in case its length matches with *x* & *y*.  Please use the *color* keyword-argument or provide a 2D array with a single row if you intend to specify the same RGB or RGBA value for all points.\n"
     ]
    },
    {
     "name": "stdout",
     "output_type": "stream",
     "text": [
      "The best position is  [0.5494698  6.65485774] in iteration number 4 with error (train, test): (2, 9)\n",
      "iteration : 6\n"
     ]
    },
    {
     "data": {
      "image/png": "[encoded data removed]",
      "text/plain": [
       "<Figure size 432x288 with 1 Axes>"
      ]
     },
     "metadata": {
      "needs_background": "light"
     },
     "output_type": "display_data"
    },
    {
     "name": "stdout",
     "output_type": "stream",
     "text": [
      "error of particle- 1 is (training, test) (0, 60)  At (gamma, c):  [4.03390366 6.40723443]\n",
      "error of particle- 2 is (training, test) (0, 13)  At (gamma, c):  [1.31808979 7.80601431]\n",
      "error of particle- 3 is (training, test) (0, 19)  At (gamma, c):  [1.79580857 7.70647288]\n",
      "error of particle- 4 is (training, test) (0, 27)  At (gamma, c):  [2.17811243 6.49576765]\n",
      "error of particle- 5 is (training, test) (1, 10)  At (gamma, c):  [0.68691178 6.68210349]\n",
      "error of particle- 6 is (training, test) (0, 42)  At (gamma, c):  [2.67760211 6.0239436 ]\n",
      "error of particle- 7 is (training, test) (0, 11)  At (gamma, c):  [1.04681682 7.6893971 ]\n",
      "error of particle- 8 is (training, test) (1, 10)  At (gamma, c):  [0.68831649 7.65803042]\n",
      "error of particle- 9 is (training, test) (0, 16)  At (gamma, c):  [1.49028578 6.92579776]\n",
      "error of particle- 10 is (training, test) (1, 10)  At (gamma, c):  [0.58789037 7.53240949]\n",
      "error of particle- 11 is (training, test) (0, 11)  At (gamma, c):  [0.95986178 6.70542071]\n",
      "error of particle- 12 is (training, test) (1, 10)  At (gamma, c):  [0.62272627 8.07598421]\n",
      "error of particle- 13 is (training, test) (0, 14)  At (gamma, c):  [1.42163153 7.26046738]\n",
      "error of particle- 14 is (training, test) (0, 13)  At (gamma, c):  [1.34643426 6.68391348]\n",
      "error of particle- 15 is (training, test) (1, 10)  At (gamma, c):  [0.58222277 6.90697887]\n",
      "error of particle- 16 is (training, test) (0, 11)  At (gamma, c):  [0.99998192 7.93669402]\n",
      "error of particle- 17 is (training, test) (0, 11)  At (gamma, c):  [1.25613553 6.46437377]\n",
      "error of particle- 18 is (training, test) (0, 54)  At (gamma, c):  [3.26204353 6.7149503 ]\n",
      "error of particle- 19 is (training, test) (0, 19)  At (gamma, c):  [1.75029005 7.33442782]\n",
      "error of particle- 20 is (training, test) (0, 14)  At (gamma, c):  [1.41142617 7.35409247]\n",
      "error of particle- 21 is (training, test) (2, 9)  At (gamma, c):  [0.5494698  6.65485774]\n",
      "error of particle- 22 is (training, test) (0, 11)  At (gamma, c):  [1.21977344 7.54302801]\n",
      "error of particle- 23 is (training, test) (0, 13)  At (gamma, c):  [1.33411867 7.36682159]\n",
      "error of particle- 24 is (training, test) (0, 11)  At (gamma, c):  [0.96116417 6.8477398 ]\n",
      "error of particle- 25 is (training, test) (0, 18)  At (gamma, c):  [1.62597381 8.10525096]\n",
      "error of particle- 26 is (training, test) (1, 10)  At (gamma, c):  [0.84097318 6.57063843]\n",
      "error of particle- 27 is (training, test) (0, 11)  At (gamma, c):  [1.09584528 6.99585354]\n",
      "error of particle- 28 is (training, test) (0, 18)  At (gamma, c):  [1.60354929 6.50855787]\n",
      "error of particle- 29 is (training, test) (0, 44)  At (gamma, c):  [2.70980694 6.70580851]\n",
      "error of particle- 30 is (training, test) (0, 27)  At (gamma, c):  [2.20321903 6.1302103 ]\n"
     ]
    },
    {
     "name": "stderr",
     "output_type": "stream",
     "text": [
      "*c* argument looks like a single numeric RGB or RGBA sequence, which should be avoided as value-mapping will have precedence in case its length matches with *x* & *y*.  Please use the *color* keyword-argument or provide a 2D array with a single row if you intend to specify the same RGB or RGBA value for all points.\n"
     ]
    },
    {
     "name": "stdout",
     "output_type": "stream",
     "text": [
      "The best position is  [0.5494698  6.65485774] in iteration number 5 with error (train, test): (2, 9)\n",
      "iteration : 7\n"
     ]
    },
    {
     "data": {
      "image/png": "[encoded data removed]",
      "text/plain": [
       "<Figure size 432x288 with 1 Axes>"
      ]
     },
     "metadata": {
      "needs_background": "light"
     },
     "output_type": "display_data"
    },
    {
     "name": "stdout",
     "output_type": "stream",
     "text": [
      "error of particle- 1 is (training, test) (0, 42)  At (gamma, c):  [2.66789804 6.50431041]\n",
      "error of particle- 2 is (training, test) (0, 11)  At (gamma, c):  [1.23589582 7.68291299]\n",
      "error of particle- 3 is (training, test) (0, 19)  At (gamma, c):  [1.66336879 7.59472504]\n",
      "error of particle- 4 is (training, test) (0, 15)  At (gamma, c):  [1.45443225 6.56645863]\n",
      "error of particle- 5 is (training, test) (1, 10)  At (gamma, c):  [0.62724188 6.67027485]\n",
      "error of particle- 6 is (training, test) (0, 19)  At (gamma, c):  [1.77872841 6.29042709]\n",
      "error of particle- 7 is (training, test) (0, 11)  At (gamma, c):  [0.87357533 7.32903476]\n",
      "error of particle- 8 is (training, test) (1, 10)  At (gamma, c):  [0.64640683 7.35523155]\n",
      "error of particle- 9 is (training, test) (0, 13)  At (gamma, c):  [1.34998907 6.88539454]\n",
      "error of particle- 10 is (training, test) (1, 10)  At (gamma, c):  [0.58733083 7.51962937]\n",
      "error of particle- 11 is (training, test) (1, 10)  At (gamma, c):  [0.82896219 6.68929303]\n",
      "error of particle- 12 is (training, test) (1, 10)  At (gamma, c):  [0.59621343 7.56165291]\n",
      "error of particle- 13 is (training, test) (0, 11)  At (gamma, c):  [1.032692   6.99039645]\n",
      "error of particle- 14 is (training, test) (0, 11)  At (gamma, c):  [1.14626181 6.67661559]\n",
      "error of particle- 15 is (training, test) (1, 10)  At (gamma, c):  [0.57739134 6.86978815]\n",
      "error of particle- 16 is (training, test) (0, 11)  At (gamma, c):  [0.93805234 7.76048658]\n",
      "error of particle- 17 is (training, test) (0, 11)  At (gamma, c):  [1.2285767  6.47180234]\n",
      "error of particle- 18 is (training, test) (0, 22)  At (gamma, c):  [2.03934793 6.68786352]\n",
      "error of particle- 19 is (training, test) (0, 11)  At (gamma, c):  [1.2501446  7.05138473]\n",
      "error of particle- 20 is (training, test) (0, 12)  At (gamma, c):  [1.28240115 7.24942503]\n",
      "error of particle- 21 is (training, test) (2, 9)  At (gamma, c):  [0.5494698  6.65485774]\n",
      "error of particle- 22 is (training, test) (0, 11)  At (gamma, c):  [1.1359886  7.43201086]\n",
      "error of particle- 23 is (training, test) (0, 11)  At (gamma, c):  [1.26447392 7.3036283 ]\n",
      "error of particle- 24 is (training, test) (1, 10)  At (gamma, c):  [0.76776663 6.75713153]\n",
      "error of particle- 25 is (training, test) (0, 11)  At (gamma, c):  [1.26704376 7.62165805]\n",
      "error of particle- 26 is (training, test) (1, 10)  At (gamma, c):  [0.81874679 6.57705994]\n",
      "error of particle- 27 is (training, test) (0, 11)  At (gamma, c):  [0.99427652 6.93246394]\n",
      "error of particle- 28 is (training, test) (0, 18)  At (gamma, c):  [1.59372037 6.50992207]\n",
      "error of particle- 29 is (training, test) (0, 28)  At (gamma, c):  [2.28039404 6.69568096]\n",
      "error of particle- 30 is (training, test) (0, 17)  At (gamma, c):  [1.53349015 6.34267997]\n"
     ]
    },
    {
     "name": "stderr",
     "output_type": "stream",
     "text": [
      "*c* argument looks like a single numeric RGB or RGBA sequence, which should be avoided as value-mapping will have precedence in case its length matches with *x* & *y*.  Please use the *color* keyword-argument or provide a 2D array with a single row if you intend to specify the same RGB or RGBA value for all points.\n"
     ]
    },
    {
     "name": "stdout",
     "output_type": "stream",
     "text": [
      "The best position is  [0.5494698  6.65485774] in iteration number 6 with error (train, test): (2, 9)\n",
      "iteration : 8\n"
     ]
    },
    {
     "data": {
      "image/png": "[encoded data removed]",
      "text/plain": [
       "<Figure size 432x288 with 1 Axes>"
      ]
     },
     "metadata": {
      "needs_background": "light"
     },
     "output_type": "display_data"
    },
    {
     "name": "stdout",
     "output_type": "stream",
     "text": [
      "error of particle- 1 is (training, test) (0, 27)  At (gamma, c):  [2.25083942 6.53394892]\n",
      "error of particle- 2 is (training, test) (0, 11)  At (gamma, c):  [1.03847731 7.38724073]\n",
      "error of particle- 3 is (training, test) (0, 13)  At (gamma, c):  [1.35995507 7.33871562]\n",
      "error of particle- 4 is (training, test) (0, 11)  At (gamma, c):  [1.19809861 6.59149797]\n",
      "error of particle- 5 is (training, test) (1, 10)  At (gamma, c):  [0.61682885 6.66821063]\n",
      "error of particle- 6 is (training, test) (0, 16)  At (gamma, c):  [1.48619064 6.37715394]\n",
      "error of particle- 7 is (training, test) (1, 10)  At (gamma, c):  [0.76115734 7.09519234]\n",
      "error of particle- 8 is (training, test) (1, 10)  At (gamma, c):  [0.61705299 7.14314888]\n",
      "error of particle- 9 is (training, test) (0, 13)  At (gamma, c):  [1.31276134 6.87467355]\n",
      "error of particle- 10 is (training, test) (1, 10)  At (gamma, c):  [0.58293454 7.41921511]\n",
      "error of particle- 11 is (training, test) (1, 10)  At (gamma, c):  [0.70885516 6.67449506]\n",
      "error of particle- 12 is (training, test) (1, 10)  At (gamma, c):  [0.59031759 7.44727757]\n",
      "error of particle- 13 is (training, test) (0, 11)  At (gamma, c):  [0.91820576 6.91089976]\n",
      "error of particle- 14 is (training, test) (0, 11)  At (gamma, c):  [1.06246834 6.67356065]\n",
      "error of particle- 15 is (training, test) (1, 10)  At (gamma, c):  [0.57527614 6.85350604]\n",
      "error of particle- 16 is (training, test) (1, 10)  At (gamma, c):  [0.81424015 7.40820537]\n",
      "error of particle- 17 is (training, test) (0, 11)  At (gamma, c):  [1.01133611 6.53036022]\n",
      "error of particle- 18 is (training, test) (0, 20)  At (gamma, c):  [1.93089201 6.68546085]\n",
      "error of particle- 19 is (training, test) (0, 11)  At (gamma, c):  [1.07821064 6.95408359]\n",
      "error of particle- 20 is (training, test) (0, 11)  At (gamma, c):  [1.16047112 7.15051316]\n",
      "error of particle- 21 is (training, test) (2, 9)  At (gamma, c):  [0.5494698  6.65485774]\n",
      "error of particle- 22 is (training, test) (0, 11)  At (gamma, c):  [1.11076709 7.39859168]\n",
      "error of particle- 23 is (training, test) (0, 11)  At (gamma, c):  [0.95870338 7.02618245]\n",
      "error of particle- 24 is (training, test) (1, 10)  At (gamma, c):  [0.7571261  6.75214636]\n",
      "error of particle- 25 is (training, test) (0, 11)  At (gamma, c):  [0.96474916 7.2143711 ]\n",
      "error of particle- 26 is (training, test) (1, 10)  At (gamma, c):  [0.69727358 6.61215521]\n",
      "error of particle- 27 is (training, test) (0, 11)  At (gamma, c):  [0.97865988 6.92271752]\n",
      "error of particle- 28 is (training, test) (0, 15)  At (gamma, c):  [1.46278607 6.52809496]\n",
      "error of particle- 29 is (training, test) (0, 14)  At (gamma, c):  [1.43080067 6.67564361]\n",
      "error of particle- 30 is (training, test) (0, 11)  At (gamma, c):  [1.10025847 6.48012154]\n"
     ]
    },
    {
     "name": "stderr",
     "output_type": "stream",
     "text": [
      "*c* argument looks like a single numeric RGB or RGBA sequence, which should be avoided as value-mapping will have precedence in case its length matches with *x* & *y*.  Please use the *color* keyword-argument or provide a 2D array with a single row if you intend to specify the same RGB or RGBA value for all points.\n"
     ]
    },
    {
     "name": "stdout",
     "output_type": "stream",
     "text": [
      "The best position is  [0.5494698  6.65485774] in iteration number 7 with error (train, test): (2, 9)\n",
      "iteration : 9\n"
     ]
    },
    {
     "data": {
      "image/png": "[encoded data removed]",
      "text/plain": [
       "<Figure size 432x288 with 1 Axes>"
      ]
     },
     "metadata": {
      "needs_background": "light"
     },
     "output_type": "display_data"
    },
    {
     "name": "stdout",
     "output_type": "stream",
     "text": [
      "error of particle- 1 is (training, test) (0, 16)  At (gamma, c):  [1.48636282 6.5882769 ]\n",
      "error of particle- 2 is (training, test) (0, 11)  At (gamma, c):  [0.94113836 7.24145689]\n",
      "error of particle- 3 is (training, test) (0, 13)  At (gamma, c):  [1.2897028  7.27943932]\n",
      "error of particle- 4 is (training, test) (0, 11)  At (gamma, c):  [0.96819504 6.61395556]\n",
      "error of particle- 5 is (training, test) (1, 10)  At (gamma, c):  [0.59125317 6.66314065]\n",
      "error of particle- 6 is (training, test) (0, 14)  At (gamma, c):  [1.39877925 6.40306826]\n",
      "error of particle- 7 is (training, test) (1, 10)  At (gamma, c):  [0.72144722 7.01259067]\n",
      "error of particle- 8 is (training, test) (1, 10)  At (gamma, c):  [0.58737877 6.92875149]\n",
      "error of particle- 9 is (training, test) (0, 11)  At (gamma, c):  [0.94411041 6.76850795]\n",
      "error of particle- 10 is (training, test) (1, 10)  At (gamma, c):  [0.57715952 7.28730965]\n",
      "error of particle- 11 is (training, test) (1, 10)  At (gamma, c):  [0.68317272 6.67133082]\n",
      "error of particle- 12 is (training, test) (1, 10)  At (gamma, c):  [0.58645052 7.37225901]\n",
      "error of particle- 13 is (training, test) (1, 10)  At (gamma, c):  [0.73633235 6.78461093]\n",
      "error of particle- 14 is (training, test) (0, 11)  At (gamma, c):  [1.060257   6.67348003]\n",
      "error of particle- 15 is (training, test) (1, 10)  At (gamma, c):  [0.57467356 6.84886766]\n",
      "error of particle- 16 is (training, test) (1, 10)  At (gamma, c):  [0.69564034 7.07075489]\n",
      "error of particle- 17 is (training, test) (1, 11)  At (gamma, c):  [0.93895888 6.54986973]\n",
      "error of particle- 18 is (training, test) (0, 13)  At (gamma, c):  [1.38091577 6.67327705]\n",
      "error of particle- 19 is (training, test) (0, 11)  At (gamma, c):  [1.05264685 6.93961649]\n",
      "error of particle- 20 is (training, test) (0, 11)  At (gamma, c):  [0.93351677 6.96640365]\n",
      "error of particle- 21 is (training, test) (2, 9)  At (gamma, c):  [0.5494698  6.65485774]\n",
      "error of particle- 22 is (training, test) (0, 11)  At (gamma, c):  [0.98599846 7.2332699 ]\n",
      "error of particle- 23 is (training, test) (1, 10)  At (gamma, c):  [0.79899021 6.88126412]\n",
      "error of particle- 24 is (training, test) (1, 10)  At (gamma, c):  [0.7481713  6.74795096]\n",
      "error of particle- 25 is (training, test) (0, 11)  At (gamma, c):  [0.91439354 7.14652607]\n",
      "error of particle- 26 is (training, test) (1, 10)  At (gamma, c):  [0.6501825  6.62576047]\n",
      "error of particle- 27 is (training, test) (0, 11)  At (gamma, c):  [0.9312142  6.89310642]\n",
      "error of particle- 28 is (training, test) (0, 11)  At (gamma, c):  [1.25649466 6.55672696]\n",
      "error of particle- 29 is (training, test) (0, 11)  At (gamma, c):  [1.24447705 6.67124924]\n",
      "error of particle- 30 is (training, test) (1, 11)  At (gamma, c):  [0.87237248 6.55241775]\n"
     ]
    },
    {
     "name": "stderr",
     "output_type": "stream",
     "text": [
      "*c* argument looks like a single numeric RGB or RGBA sequence, which should be avoided as value-mapping will have precedence in case its length matches with *x* & *y*.  Please use the *color* keyword-argument or provide a 2D array with a single row if you intend to specify the same RGB or RGBA value for all points.\n"
     ]
    },
    {
     "name": "stdout",
     "output_type": "stream",
     "text": [
      "The best position is  [0.5494698  6.65485774] in iteration number 8 with error (train, test): (2, 9)\n",
      "iteration : 10\n"
     ]
    },
    {
     "data": {
      "image/png": "[encoded data removed]",
      "text/plain": [
       "<Figure size 432x288 with 1 Axes>"
      ]
     },
     "metadata": {
      "needs_background": "light"
     },
     "output_type": "display_data"
    },
    {
     "name": "stdout",
     "output_type": "stream",
     "text": [
      "error of particle- 1 is (training, test) (0, 11)  At (gamma, c):  [1.21603091 6.60748819]\n",
      "error of particle- 2 is (training, test) (1, 11)  At (gamma, c):  [0.857275   7.11585535]\n",
      "error of particle- 3 is (training, test) (0, 11)  At (gamma, c):  [0.94883581 6.9918282 ]\n",
      "error of particle- 4 is (training, test) (1, 11)  At (gamma, c):  [0.89370704 6.62123174]\n",
      "error of particle- 5 is (training, test) (2, 10)  At (gamma, c):  [0.57781214 6.66047617]\n",
      "error of particle- 6 is (training, test) (0, 11)  At (gamma, c):  [1.09296164 6.4937321 ]\n",
      "error of particle- 7 is (training, test) (1, 10)  At (gamma, c):  [0.64185081 6.84702094]\n",
      "error of particle- 8 is (training, test) (1, 10)  At (gamma, c):  [0.58387    6.90340056]\n",
      "error of particle- 9 is (training, test) (1, 10)  At (gamma, c):  [0.80647371 6.72887078]\n",
      "error of particle- 10 is (training, test) (1, 10)  At (gamma, c):  [0.56847733 7.0890027 ]\n",
      "error of particle- 11 is (training, test) (1, 10)  At (gamma, c):  [0.61755786 6.66324664]\n",
      "error of particle- 12 is (training, test) (1, 10)  At (gamma, c):  [0.57349557 7.12094164]\n",
      "error of particle- 13 is (training, test) (1, 10)  At (gamma, c):  [0.70677748 6.76408869]\n",
      "error of particle- 14 is (training, test) (0, 11)  At (gamma, c):  [1.01331525 6.67176862]\n",
      "error of particle- 15 is (training, test) (2, 10)  At (gamma, c):  [0.56849697 6.80132237]\n",
      "error of particle- 16 is (training, test) (1, 10)  At (gamma, c):  [0.65024958 6.94160514]\n",
      "error of particle- 17 is (training, test) (1, 10)  At (gamma, c):  [0.7667708  6.59628357]\n",
      "error of particle- 18 is (training, test) (0, 11)  At (gamma, c):  [1.16092667 6.66840355]\n",
      "error of particle- 19 is (training, test) (1, 11)  At (gamma, c):  [0.87463437 6.83887539]\n",
      "error of particle- 20 is (training, test) (0, 11)  At (gamma, c):  [0.91602389 6.95221311]\n",
      "error of particle- 21 is (training, test) (2, 9)  At (gamma, c):  [0.5494698  6.65485774]\n",
      "error of particle- 22 is (training, test) (0, 11)  At (gamma, c):  [0.96032341 7.19924978]\n",
      "error of particle- 23 is (training, test) (1, 10)  At (gamma, c):  [0.69780872 6.78945547]\n",
      "error of particle- 24 is (training, test) (1, 10)  At (gamma, c):  [0.73143561 6.74011016]\n",
      "error of particle- 25 is (training, test) (1, 11)  At (gamma, c):  [0.85973525 7.07288397]\n",
      "error of particle- 26 is (training, test) (1, 10)  At (gamma, c):  [0.63399126 6.63043834]\n",
      "error of particle- 27 is (training, test) (1, 10)  At (gamma, c):  [0.76123432 6.78702109]\n",
      "error of particle- 28 is (training, test) (0, 11)  At (gamma, c):  [1.14521244 6.57217226]\n",
      "error of particle- 29 is (training, test) (0, 11)  At (gamma, c):  [1.10614208 6.66798666]\n",
      "error of particle- 30 is (training, test) (1, 10)  At (gamma, c):  [0.85262258 6.55868335]\n",
      "The best position is  [0.5494698  6.65485774] in iteration number 9 with error (train, test): (2, 9)\n",
      "The best position is  [0.5494698  6.65485774] in iteration number 10 with error (train, test): (2, 9)\n",
      "Wall time: 1h 11min 39s\n"
     ]
    }
   ],
   "source": [
    "%%time\n",
    "particle_position_vector = np.array([np.array([random.random()*10, random.random()*10]) for _ in range(n_particles)])\n",
    "pbest_position = particle_position_vector\n",
    "pbest_fitness_value = np.array([float('inf') for _ in range(n_particles)])\n",
    "gbest_fitness_value = np.array([float('inf'), float('inf')])\n",
    "gbest_position = np.array([float('inf'), float('inf')])\n",
    "\n",
    "velocity_vector = ([np.array([0, 0]) for _ in range(n_particles)])\n",
    "iteration = 0\n",
    "while iteration < n_iterations:\n",
    "    print(\"iteration :\", iteration+1)\n",
    "    plot(particle_position_vector)\n",
    "    for i in range(n_particles):\n",
    "        fitness_cadidate = fitness_function(particle_position_vector[i])\n",
    "        print(\"error of particle-\",i+1,\"is (training, test)\", fitness_cadidate, \" At (gamma, c): \", particle_position_vector[i])\n",
    "        \n",
    "        if(pbest_fitness_value[i] > fitness_cadidate[1]):\n",
    "            pbest_fitness_value[i] = fitness_cadidate[1]\n",
    "            pbest_position[i] = particle_position_vector[i]\n",
    "\n",
    "        if(gbest_fitness_value[1] > fitness_cadidate[1]):\n",
    "            gbest_fitness_value = fitness_cadidate\n",
    "            gbest_position = particle_position_vector[i]\n",
    "        elif(gbest_fitness_value[1] == fitness_cadidate[1] and gbest_fitness_value[0] > fitness_cadidate[0]):\n",
    "            gbest_fitness_value = fitness_cadidate\n",
    "            gbest_position = particle_position_vector[i]\n",
    "            \n",
    "    for i in range(n_particles):\n",
    "        new_velocity = (W*velocity_vector[i]) + (c1*random.random()) * (pbest_position[i] - particle_position_vector[i]) + (c2*random.random()) * (gbest_position-particle_position_vector[i])\n",
    "        new_position = new_velocity + particle_position_vector[i]\n",
    "        particle_position_vector[i] = new_position\n",
    "    \n",
    "    print(\"The best position is \", gbest_position, \"in iteration number\", iteration, \"with error (train, test):\", fitness_function(gbest_position))    \n",
    "    iteration = iteration + 1\n",
    "    \n",
    "print(\"The best position is \", gbest_position, \"in iteration number\", iteration, \"with error (train, test):\", fitness_function(gbest_position))"
   ]
  },
  {
   "cell_type": "code",
   "execution_count": 9,
   "id": "dba74abf",
   "metadata": {},
   "outputs": [
    {
     "name": "stdout",
     "output_type": "stream",
     "text": [
      "Akurasi SVM dengan optimasi PSO 65.07936507936508\n",
      "              precision    recall  f1-score   support\n",
      "\n",
      "       anger       0.67      0.74      0.70       119\n",
      "        fear       0.90      0.58      0.71        62\n",
      "       happy       0.66      0.59      0.63       111\n",
      "        love       0.82      0.73      0.77        55\n",
      "     sadness       0.47      0.61      0.53        94\n",
      "\n",
      "    accuracy                           0.65       441\n",
      "   macro avg       0.70      0.65      0.67       441\n",
      "weighted avg       0.68      0.65      0.66       441\n",
      "\n",
      "[[88  1  6  0 24]\n",
      " [ 8 36 11  0  7]\n",
      " [16  0 66  4 25]\n",
      " [ 0  1  6 40  8]\n",
      " [19  2 11  5 57]]\n"
     ]
    },
    {
     "data": {
      "text/plain": [
       "<AxesSubplot:>"
      ]
     },
     "execution_count": 9,
     "metadata": {},
     "output_type": "execute_result"
    },
    {
     "data": {
      "image/png": "[encoded data removed]",
      "text/plain": [
       "<Figure size 432x288 with 2 Axes>"
      ]
     },
     "metadata": {
      "needs_background": "light"
     },
     "output_type": "display_data"
    }
   ],
   "source": [
    "SVM = SVC(kernel= 'rbf', gamma= gbest_position[0], C= gbest_position[1])\n",
    "SVM.fit(X_train, y_train)\n",
    "predictions_SVM = SVM.predict(X_test)\n",
    "accuracy = accuracy_score(predictions_SVM, y_test)\n",
    "print('Akurasi SVM dengan optimasi PSO', accuracy*100)\n",
    "\n",
    "x = df['clean_data'].values.astype('U')\n",
    "y = df['label'].values\n",
    "\n",
    "encoder = LabelEncoder()\n",
    "encoder.fit(y)\n",
    "target_names = encoder.classes_\n",
    "\n",
    "print(classification_report(y_test, predictions_SVM, target_names=target_names))\n",
    "print(confusion_matrix(y_test, predictions_SVM, labels=[0, 1, 2, 3, 4]))\n",
    "\n",
    "cf = confusion_matrix(y_test, predictions_SVM, labels=[0, 1, 2, 3, 4])\n",
    "sns.heatmap(cf, annot=True, fmt='d')"
   ]
  },
  {
   "cell_type": "code",
   "execution_count": null,
   "id": "bdf37195",
   "metadata": {},
   "outputs": [],
   "source": []
  },
  {
   "cell_type": "code",
   "execution_count": null,
   "id": "622712d0",
   "metadata": {},
   "outputs": [],
   "source": []
  }
 ],
 "metadata": {
  "kernelspec": {
   "display_name": "Python 3 (ipykernel)",
   "language": "python",
   "name": "python3"
  },
  "language_info": {
   "codemirror_mode": {
    "name": "ipython",
    "version": 3
   },
   "file_extension": ".py",
   "mimetype": "text/x-python",
   "name": "python",
   "nbconvert_exporter": "python",
   "pygments_lexer": "ipython3",
   "version": "3.9.7"
  }
 },
 "nbformat": 4,
 "nbformat_minor": 5
}
