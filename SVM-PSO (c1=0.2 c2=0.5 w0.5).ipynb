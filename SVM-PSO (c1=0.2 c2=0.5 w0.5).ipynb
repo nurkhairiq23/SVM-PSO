{
 "cells": [
  {
   "cell_type": "code",
   "execution_count": 1,
   "id": "67b917d9",
   "metadata": {},
   "outputs": [],
   "source": [
    "import pandas as pd\n",
    "import numpy as np\n",
    "import random\n",
    "import csv\n",
    "from sklearn.preprocessing import LabelEncoder\n",
    "from sklearn.feature_extraction.text import TfidfVectorizer\n",
    "from sklearn.model_selection import train_test_split\n",
    "from sklearn.svm import SVC\n",
    "from sklearn.metrics import accuracy_score\n",
    "from sklearn.metrics import classification_report, confusion_matrix  \n",
    "import matplotlib.pyplot as plt\n",
    "import seaborn as sns"
   ]
  },
  {
   "cell_type": "code",
   "execution_count": 2,
   "id": "3fc2c868",
   "metadata": {},
   "outputs": [
    {
     "data": {
      "text/html": [
       "<div>\n",
       "<style scoped>\n",
       "    .dataframe tbody tr th:only-of-type {\n",
       "        vertical-align: middle;\n",
       "    }\n",
       "\n",
       "    .dataframe tbody tr th {\n",
       "        vertical-align: top;\n",
       "    }\n",
       "\n",
       "    .dataframe thead th {\n",
       "        text-align: right;\n",
       "    }\n",
       "</style>\n",
       "<table border=\"1\" class=\"dataframe\">\n",
       "  <thead>\n",
       "    <tr style=\"text-align: right;\">\n",
       "      <th></th>\n",
       "      <th>label</th>\n",
       "      <th>tweet</th>\n",
       "      <th>clean_data</th>\n",
       "    </tr>\n",
       "  </thead>\n",
       "  <tbody>\n",
       "    <tr>\n",
       "      <th>0</th>\n",
       "      <td>anger</td>\n",
       "      <td>Soal jln Jatibaru,polisi tdk bs GERTAK gubernu...</td>\n",
       "      <td>jalan jatibarupolisi gertak gubernur emangny p...</td>\n",
       "    </tr>\n",
       "    <tr>\n",
       "      <th>1</th>\n",
       "      <td>anger</td>\n",
       "      <td>Sesama cewe lho (kayaknya), harusnya bisa lebi...</td>\n",
       "      <td>cewek kayak rasain sibuk jaga rasain sakit hai...</td>\n",
       "    </tr>\n",
       "    <tr>\n",
       "      <th>2</th>\n",
       "      <td>happy</td>\n",
       "      <td>Kepingin gudeg mbarek Bu hj. Amad Foto dari go...</td>\n",
       "      <td>kepingin gudeg mbarek bu hj amad foto google s...</td>\n",
       "    </tr>\n",
       "    <tr>\n",
       "      <th>3</th>\n",
       "      <td>anger</td>\n",
       "      <td>Jln Jatibaru,bagian dari wilayah Tn Abang.Peng...</td>\n",
       "      <td>jalan jatibarubagian wilayah tn abangpengatura...</td>\n",
       "    </tr>\n",
       "    <tr>\n",
       "      <th>4</th>\n",
       "      <td>happy</td>\n",
       "      <td>Sharing pengalaman aja, kemarin jam 18.00 bata...</td>\n",
       "      <td>sharing alam kemarin jam batalin tiket stasiun...</td>\n",
       "    </tr>\n",
       "    <tr>\n",
       "      <th>...</th>\n",
       "      <td>...</td>\n",
       "      <td>...</td>\n",
       "      <td>...</td>\n",
       "    </tr>\n",
       "    <tr>\n",
       "      <th>4396</th>\n",
       "      <td>love</td>\n",
       "      <td>Tahukah kamu, bahwa saat itu papa memejamkan m...</td>\n",
       "      <td>papa mejam mata tahan gejolak batin papa tapu ...</td>\n",
       "    </tr>\n",
       "    <tr>\n",
       "      <th>4397</th>\n",
       "      <td>fear</td>\n",
       "      <td>Sulitnya menetapkan Calon Wapresnya Jokowi di ...</td>\n",
       "      <td>sulit calon wapresnya jokowi pilpres salah gem...</td>\n",
       "    </tr>\n",
       "    <tr>\n",
       "      <th>4398</th>\n",
       "      <td>anger</td>\n",
       "      <td>5. masa depannya nggak jelas. lha iya, gimana ...</td>\n",
       "      <td>iya gimana coba lulus seni nari kerja narinari...</td>\n",
       "    </tr>\n",
       "    <tr>\n",
       "      <th>4399</th>\n",
       "      <td>happy</td>\n",
       "      <td>[USERNAME] dulu beneran ada mahasiswa Teknik U...</td>\n",
       "      <td>mahasiswa teknik ui nembak pacar sahur kukus t...</td>\n",
       "    </tr>\n",
       "    <tr>\n",
       "      <th>4400</th>\n",
       "      <td>sadness</td>\n",
       "      <td>Ya Allah, hanya Engkau yang mengetahui rasa sa...</td>\n",
       "      <td>engkau sakit hati sembuh</td>\n",
       "    </tr>\n",
       "  </tbody>\n",
       "</table>\n",
       "<p>4401 rows × 3 columns</p>\n",
       "</div>"
      ],
      "text/plain": [
       "        label                                              tweet  \\\n",
       "0       anger  Soal jln Jatibaru,polisi tdk bs GERTAK gubernu...   \n",
       "1       anger  Sesama cewe lho (kayaknya), harusnya bisa lebi...   \n",
       "2       happy  Kepingin gudeg mbarek Bu hj. Amad Foto dari go...   \n",
       "3       anger  Jln Jatibaru,bagian dari wilayah Tn Abang.Peng...   \n",
       "4       happy  Sharing pengalaman aja, kemarin jam 18.00 bata...   \n",
       "...       ...                                                ...   \n",
       "4396     love  Tahukah kamu, bahwa saat itu papa memejamkan m...   \n",
       "4397     fear  Sulitnya menetapkan Calon Wapresnya Jokowi di ...   \n",
       "4398    anger  5. masa depannya nggak jelas. lha iya, gimana ...   \n",
       "4399    happy  [USERNAME] dulu beneran ada mahasiswa Teknik U...   \n",
       "4400  sadness  Ya Allah, hanya Engkau yang mengetahui rasa sa...   \n",
       "\n",
       "                                             clean_data  \n",
       "0     jalan jatibarupolisi gertak gubernur emangny p...  \n",
       "1     cewek kayak rasain sibuk jaga rasain sakit hai...  \n",
       "2     kepingin gudeg mbarek bu hj amad foto google s...  \n",
       "3     jalan jatibarubagian wilayah tn abangpengatura...  \n",
       "4     sharing alam kemarin jam batalin tiket stasiun...  \n",
       "...                                                 ...  \n",
       "4396  papa mejam mata tahan gejolak batin papa tapu ...  \n",
       "4397  sulit calon wapresnya jokowi pilpres salah gem...  \n",
       "4398  iya gimana coba lulus seni nari kerja narinari...  \n",
       "4399  mahasiswa teknik ui nembak pacar sahur kukus t...  \n",
       "4400                           engkau sakit hati sembuh  \n",
       "\n",
       "[4401 rows x 3 columns]"
      ]
     },
     "execution_count": 2,
     "metadata": {},
     "output_type": "execute_result"
    }
   ],
   "source": [
    "df= pd.read_excel('../Dataset/Clean Dataset.xlsx') \n",
    "df"
   ]
  },
  {
   "cell_type": "code",
   "execution_count": 3,
   "id": "2e72187d",
   "metadata": {},
   "outputs": [],
   "source": [
    "X = df['clean_data'].values.astype('U')\n",
    "y = df['label'].values\n",
    "X_train, X_test, y_train, y_test = train_test_split(X, y, test_size = 0.10, random_state = 42)"
   ]
  },
  {
   "cell_type": "code",
   "execution_count": 4,
   "id": "476fd6fd",
   "metadata": {},
   "outputs": [],
   "source": [
    "# transformasi data label\n",
    "encoder = LabelEncoder()\n",
    "encoder.fit(y)\n",
    "y_train = encoder.transform(y_train)\n",
    "y_test = encoder.transform(y_test)\n",
    "    \n",
    "# term weighting\n",
    "tfidf = TfidfVectorizer()\n",
    "tfidf.fit(X)\n",
    "    \n",
    "X_train = tfidf.transform(X_train)\n",
    "X_test = tfidf.transform(X_test)"
   ]
  },
  {
   "cell_type": "code",
   "execution_count": 5,
   "id": "da80e298",
   "metadata": {},
   "outputs": [],
   "source": [
    "#################### PARAMETERS ####################\n",
    "W = 0.5\n",
    "c1 = 0.2\n",
    "c2 = 0.5\n",
    "\n",
    "n_iterations = 10\n",
    "n_particles = 10"
   ]
  },
  {
   "cell_type": "code",
   "execution_count": 6,
   "id": "9d7ef92a",
   "metadata": {},
   "outputs": [],
   "source": [
    "#mencari nilai 0-1 loss dari tiap partikel\n",
    "#partikle = (gamma,C) untuk rbf\n",
    "def fitness_function(position):\n",
    "    svclassifier = SVC(kernel='rbf', gamma = position[0], C = position[1] )  \n",
    "    svclassifier.fit(X_train, y_train)\n",
    "    y_train_pred = svclassifier.predict(X_train)\n",
    "    y_test_pred = svclassifier.predict(X_test)   \n",
    "    return confusion_matrix(y_train,y_train_pred)[0][1] + confusion_matrix(y_train,y_train_pred)[1][0], confusion_matrix(y_test,y_test_pred)[0][1] + confusion_matrix(y_test,y_test_pred)[1][0]\n",
    "\n",
    "#plotting (x axis = gamma, y axis = C)\n",
    "def plot(position):\n",
    "    x = []\n",
    "    y = []\n",
    "    for i in range(0,len(particle_position_vector)):\n",
    "        x.append(particle_position_vector[i][0])\n",
    "        y.append(particle_position_vector[i][1])\n",
    "    colors = (0,0,0)\n",
    "    plt.scatter(x, y, c = colors, alpha = 0.1)\n",
    "    plt.xlabel('C')\n",
    "    plt.ylabel('gamma')\n",
    "    plt.axis([0,10,0,10])\n",
    "    plt.gca().set_aspect('equal', adjustable='box')\n",
    "    return plt.show()"
   ]
  },
  {
   "cell_type": "code",
   "execution_count": 7,
   "id": "5885076e",
   "metadata": {},
   "outputs": [
    {
     "name": "stdout",
     "output_type": "stream",
     "text": [
      "iteration : 1\n"
     ]
    },
    {
     "name": "stderr",
     "output_type": "stream",
     "text": [
      "*c* argument looks like a single numeric RGB or RGBA sequence, which should be avoided as value-mapping will have precedence in case its length matches with *x* & *y*.  Please use the *color* keyword-argument or provide a 2D array with a single row if you intend to specify the same RGB or RGBA value for all points.\n"
     ]
    },
    {
     "data": {
      "image/png": "[encoded data removed]",
      "text/plain": [
       "<Figure size 432x288 with 1 Axes>"
      ]
     },
     "metadata": {
      "needs_background": "light"
     },
     "output_type": "display_data"
    },
    {
     "name": "stdout",
     "output_type": "stream",
     "text": [
      "error of particle- 1 is (training, test) (0, 60)  At (gamma, c):  [4.61533397 6.19179903]\n",
      "error of particle- 2 is (training, test) (1, 21)  At (gamma, c):  [1.99158476 2.82309426]\n",
      "error of particle- 3 is (training, test) (0, 60)  At (gamma, c):  [9.1994006  0.63903262]\n",
      "error of particle- 4 is (training, test) (579, 61)  At (gamma, c):  [7.6088069  0.26876294]\n",
      "error of particle- 5 is (training, test) (0, 11)  At (gamma, c):  [0.892163  9.7159682]\n",
      "error of particle- 6 is (training, test) (2, 11)  At (gamma, c):  [0.96026504 2.91290426]\n",
      "error of particle- 7 is (training, test) (0, 54)  At (gamma, c):  [3.29210086 2.22408537]\n",
      "error of particle- 8 is (training, test) (0, 60)  At (gamma, c):  [4.777082   4.23960863]\n",
      "error of particle- 9 is (training, test) (1, 10)  At (gamma, c):  [0.65605227 8.652393  ]\n",
      "error of particle- 10 is (training, test) (0, 60)  At (gamma, c):  [9.43880512 5.54881119]\n"
     ]
    },
    {
     "name": "stderr",
     "output_type": "stream",
     "text": [
      "*c* argument looks like a single numeric RGB or RGBA sequence, which should be avoided as value-mapping will have precedence in case its length matches with *x* & *y*.  Please use the *color* keyword-argument or provide a 2D array with a single row if you intend to specify the same RGB or RGBA value for all points.\n"
     ]
    },
    {
     "name": "stdout",
     "output_type": "stream",
     "text": [
      "The best position is  [0.65605227 8.652393  ] in iteration number 0 with error (train, test): (1, 10)\n",
      "iteration : 2\n"
     ]
    },
    {
     "data": {
      "image/png": "[encoded data removed]",
      "text/plain": [
       "<Figure size 432x288 with 1 Axes>"
      ]
     },
     "metadata": {
      "needs_background": "light"
     },
     "output_type": "display_data"
    },
    {
     "name": "stdout",
     "output_type": "stream",
     "text": [
      "error of particle- 1 is (training, test) (0, 56)  At (gamma, c):  [3.53951035 6.86039634]\n",
      "error of particle- 2 is (training, test) (1, 21)  At (gamma, c):  [1.9873817  2.84143966]\n",
      "error of particle- 3 is (training, test) (0, 60)  At (gamma, c):  [5.7181647 3.9043095]\n",
      "error of particle- 4 is (training, test) (0, 60)  At (gamma, c):  [4.59814121 3.89902299]\n",
      "error of particle- 5 is (training, test) (0, 10)  At (gamma, c):  [0.80752163 9.33469599]\n",
      "error of particle- 6 is (training, test) (2, 11)  At (gamma, c):  [0.89417572 4.15979116]\n",
      "error of particle- 7 is (training, test) (0, 43)  At (gamma, c):  [2.69679022 3.67581883]\n",
      "error of particle- 8 is (training, test) (0, 59)  At (gamma, c):  [3.91376032 5.16405049]\n",
      "error of particle- 9 is (training, test) (1, 10)  At (gamma, c):  [0.65605227 8.652393  ]\n",
      "error of particle- 10 is (training, test) (0, 60)  At (gamma, c):  [5.21883697 7.04003115]\n"
     ]
    },
    {
     "name": "stderr",
     "output_type": "stream",
     "text": [
      "*c* argument looks like a single numeric RGB or RGBA sequence, which should be avoided as value-mapping will have precedence in case its length matches with *x* & *y*.  Please use the *color* keyword-argument or provide a 2D array with a single row if you intend to specify the same RGB or RGBA value for all points.\n"
     ]
    },
    {
     "name": "stdout",
     "output_type": "stream",
     "text": [
      "The best position is  [0.80752163 9.33469599] in iteration number 1 with error (train, test): (0, 10)\n",
      "iteration : 3\n"
     ]
    },
    {
     "data": {
      "image/png": "[encoded data removed]",
      "text/plain": [
       "<Figure size 432x288 with 1 Axes>"
      ]
     },
     "metadata": {
      "needs_background": "light"
     },
     "output_type": "display_data"
    },
    {
     "name": "stdout",
     "output_type": "stream",
     "text": [
      "error of particle- 1 is (training, test) (0, 54)  At (gamma, c):  [3.34472014 7.03681338]\n",
      "error of particle- 2 is (training, test) (0, 19)  At (gamma, c):  [1.74288669 4.18699648]\n",
      "error of particle- 3 is (training, test) (0, 60)  At (gamma, c):  [4.95968575 4.74306602]\n",
      "error of particle- 4 is (training, test) (0, 54)  At (gamma, c):  [3.3779559  5.64874443]\n",
      "error of particle- 5 is (training, test) (0, 10)  At (gamma, c):  [0.80752163 9.33469599]\n",
      "error of particle- 6 is (training, test) (1, 11)  At (gamma, c):  [0.88398919 4.76812148]\n",
      "error of particle- 7 is (training, test) (0, 33)  At (gamma, c):  [2.46003516 4.38496511]\n",
      "error of particle- 8 is (training, test) (0, 54)  At (gamma, c):  [3.24351831 6.06396261]\n",
      "error of particle- 9 is (training, test) (1, 10)  At (gamma, c):  [0.664321   8.68963999]\n",
      "error of particle- 10 is (training, test) (0, 60)  At (gamma, c):  [5.15324631 7.07414991]\n"
     ]
    },
    {
     "name": "stderr",
     "output_type": "stream",
     "text": [
      "*c* argument looks like a single numeric RGB or RGBA sequence, which should be avoided as value-mapping will have precedence in case its length matches with *x* & *y*.  Please use the *color* keyword-argument or provide a 2D array with a single row if you intend to specify the same RGB or RGBA value for all points.\n"
     ]
    },
    {
     "name": "stdout",
     "output_type": "stream",
     "text": [
      "The best position is  [0.80752163 9.33469599] in iteration number 2 with error (train, test): (0, 10)\n",
      "iteration : 4\n"
     ]
    },
    {
     "data": {
      "image/png": "[encoded data removed]",
      "text/plain": [
       "<Figure size 432x288 with 1 Axes>"
      ]
     },
     "metadata": {
      "needs_background": "light"
     },
     "output_type": "display_data"
    },
    {
     "name": "stdout",
     "output_type": "stream",
     "text": [
      "error of particle- 1 is (training, test) (0, 53)  At (gamma, c):  [3.12895127 7.2322303 ]\n",
      "error of particle- 2 is (training, test) (0, 17)  At (gamma, c):  [1.50188907 5.51330575]\n",
      "error of particle- 3 is (training, test) (0, 60)  At (gamma, c):  [4.18915824 5.59514631]\n",
      "error of particle- 4 is (training, test) (0, 27)  At (gamma, c):  [2.19068446 7.35126804]\n",
      "error of particle- 5 is (training, test) (0, 10)  At (gamma, c):  [0.80752163 9.33469599]\n",
      "error of particle- 6 is (training, test) (1, 11)  At (gamma, c):  [0.87189203 5.49055288]\n",
      "error of particle- 7 is (training, test) (0, 20)  At (gamma, c):  [1.85352154 6.20163962]\n",
      "error of particle- 8 is (training, test) (0, 31)  At (gamma, c):  [2.37266104 7.2332343 ]\n",
      "error of particle- 9 is (training, test) (0, 10)  At (gamma, c):  [0.73565179 9.01095391]\n",
      "error of particle- 10 is (training, test) (0, 60)  At (gamma, c):  [4.97888003 7.16485124]\n"
     ]
    },
    {
     "name": "stderr",
     "output_type": "stream",
     "text": [
      "*c* argument looks like a single numeric RGB or RGBA sequence, which should be avoided as value-mapping will have precedence in case its length matches with *x* & *y*.  Please use the *color* keyword-argument or provide a 2D array with a single row if you intend to specify the same RGB or RGBA value for all points.\n"
     ]
    },
    {
     "name": "stdout",
     "output_type": "stream",
     "text": [
      "The best position is  [0.80752163 9.33469599] in iteration number 3 with error (train, test): (0, 10)\n",
      "iteration : 5\n"
     ]
    },
    {
     "data": {
      "image/png": "[encoded data removed]",
      "text/plain": [
       "<Figure size 432x288 with 1 Axes>"
      ]
     },
     "metadata": {
      "needs_background": "light"
     },
     "output_type": "display_data"
    },
    {
     "name": "stdout",
     "output_type": "stream",
     "text": [
      "error of particle- 1 is (training, test) (0, 35)  At (gamma, c):  [2.49102816 7.80998267]\n",
      "error of particle- 2 is (training, test) (0, 16)  At (gamma, c):  [1.47898125 5.63937695]\n",
      "error of particle- 3 is (training, test) (0, 58)  At (gamma, c):  [3.84404045 5.97679143]\n",
      "error of particle- 4 is (training, test) (0, 19)  At (gamma, c):  [1.71577363 8.03228071]\n",
      "error of particle- 5 is (training, test) (0, 10)  At (gamma, c):  [0.80752163 9.33469599]\n",
      "error of particle- 6 is (training, test) (1, 11)  At (gamma, c):  [0.86658306 5.80760023]\n",
      "error of particle- 7 is (training, test) (0, 15)  At (gamma, c):  [1.46595492 7.36250785]\n",
      "error of particle- 8 is (training, test) (0, 22)  At (gamma, c):  [2.05368911 7.66150751]\n",
      "error of particle- 9 is (training, test) (0, 10)  At (gamma, c):  [0.75976089 9.11955483]\n",
      "error of particle- 10 is (training, test) (0, 60)  At (gamma, c):  [4.93633053 7.18698451]\n"
     ]
    },
    {
     "name": "stderr",
     "output_type": "stream",
     "text": [
      "*c* argument looks like a single numeric RGB or RGBA sequence, which should be avoided as value-mapping will have precedence in case its length matches with *x* & *y*.  Please use the *color* keyword-argument or provide a 2D array with a single row if you intend to specify the same RGB or RGBA value for all points.\n"
     ]
    },
    {
     "name": "stdout",
     "output_type": "stream",
     "text": [
      "The best position is  [0.80752163 9.33469599] in iteration number 4 with error (train, test): (0, 10)\n",
      "iteration : 6\n"
     ]
    },
    {
     "data": {
      "image/png": "[encoded data removed]",
      "text/plain": [
       "<Figure size 432x288 with 1 Axes>"
      ]
     },
     "metadata": {
      "needs_background": "light"
     },
     "output_type": "display_data"
    },
    {
     "name": "stdout",
     "output_type": "stream",
     "text": [
      "error of particle- 1 is (training, test) (0, 20)  At (gamma, c):  [1.68157993 8.5430814 ]\n",
      "error of particle- 2 is (training, test) (0, 13)  At (gamma, c):  [1.35703077 6.31052067]\n",
      "error of particle- 3 is (training, test) (0, 58)  At (gamma, c):  [3.79570691 6.03024061]\n",
      "error of particle- 4 is (training, test) (0, 15)  At (gamma, c):  [1.45301413 8.4090726 ]\n",
      "error of particle- 5 is (training, test) (0, 10)  At (gamma, c):  [0.80752163 9.33469599]\n",
      "error of particle- 6 is (training, test) (1, 10)  At (gamma, c):  [0.84774047 6.93286288]\n",
      "error of particle- 7 is (training, test) (0, 12)  At (gamma, c):  [1.28840395 7.89432166]\n",
      "error of particle- 8 is (training, test) (0, 20)  At (gamma, c):  [1.93230592 7.82448477]\n",
      "error of particle- 9 is (training, test) (0, 10)  At (gamma, c):  [0.77856228 9.20424684]\n",
      "error of particle- 10 is (training, test) (0, 60)  At (gamma, c):  [4.36057246 7.48648062]\n"
     ]
    },
    {
     "name": "stderr",
     "output_type": "stream",
     "text": [
      "*c* argument looks like a single numeric RGB or RGBA sequence, which should be avoided as value-mapping will have precedence in case its length matches with *x* & *y*.  Please use the *color* keyword-argument or provide a 2D array with a single row if you intend to specify the same RGB or RGBA value for all points.\n"
     ]
    },
    {
     "name": "stdout",
     "output_type": "stream",
     "text": [
      "The best position is  [0.80752163 9.33469599] in iteration number 5 with error (train, test): (0, 10)\n",
      "iteration : 7\n"
     ]
    },
    {
     "data": {
      "image/png": "[encoded data removed]",
      "text/plain": [
       "<Figure size 432x288 with 1 Axes>"
      ]
     },
     "metadata": {
      "needs_background": "light"
     },
     "output_type": "display_data"
    },
    {
     "name": "stdout",
     "output_type": "stream",
     "text": [
      "error of particle- 1 is (training, test) (0, 19)  At (gamma, c):  [1.65102118 8.57075776]\n",
      "error of particle- 2 is (training, test) (0, 11)  At (gamma, c):  [1.15767015 7.40768434]\n",
      "error of particle- 3 is (training, test) (0, 41)  At (gamma, c):  [2.63218114 7.31691417]\n",
      "error of particle- 4 is (training, test) (0, 13)  At (gamma, c):  [1.30910912 8.61542953]\n",
      "error of particle- 5 is (training, test) (0, 10)  At (gamma, c):  [0.80752163 9.33469599]\n",
      "error of particle- 6 is (training, test) (1, 10)  At (gamma, c):  [0.84554026 7.06425718]\n",
      "error of particle- 7 is (training, test) (0, 11)  At (gamma, c):  [1.07156595 8.54381091]\n",
      "error of particle- 8 is (training, test) (0, 18)  At (gamma, c):  [1.60394459 8.26536483]\n",
      "error of particle- 9 is (training, test) (0, 10)  At (gamma, c):  [0.77892206 9.20586747]\n",
      "error of particle- 10 is (training, test) (0, 54)  At (gamma, c):  [3.16231963 8.1097842 ]\n"
     ]
    },
    {
     "name": "stderr",
     "output_type": "stream",
     "text": [
      "*c* argument looks like a single numeric RGB or RGBA sequence, which should be avoided as value-mapping will have precedence in case its length matches with *x* & *y*.  Please use the *color* keyword-argument or provide a 2D array with a single row if you intend to specify the same RGB or RGBA value for all points.\n"
     ]
    },
    {
     "name": "stdout",
     "output_type": "stream",
     "text": [
      "The best position is  [0.80752163 9.33469599] in iteration number 6 with error (train, test): (0, 10)\n",
      "iteration : 8\n"
     ]
    },
    {
     "data": {
      "image/png": "[encoded data removed]",
      "text/plain": [
       "<Figure size 432x288 with 1 Axes>"
      ]
     },
     "metadata": {
      "needs_background": "light"
     },
     "output_type": "display_data"
    },
    {
     "name": "stdout",
     "output_type": "stream",
     "text": [
      "error of particle- 1 is (training, test) (0, 12)  At (gamma, c):  [1.29543508 8.89280395]\n",
      "error of particle- 2 is (training, test) (0, 11)  At (gamma, c):  [1.11534348 7.64062546]\n",
      "error of particle- 3 is (training, test) (0, 23)  At (gamma, c):  [2.08135851 7.92603597]\n",
      "error of particle- 4 is (training, test) (0, 11)  At (gamma, c):  [1.24735426 8.70398477]\n",
      "error of particle- 5 is (training, test) (0, 10)  At (gamma, c):  [0.80752163 9.33469599]\n",
      "error of particle- 6 is (training, test) (1, 10)  At (gamma, c):  [0.84414816 7.14739247]\n",
      "error of particle- 7 is (training, test) (0, 11)  At (gamma, c):  [1.00035864 8.7570963 ]\n",
      "error of particle- 8 is (training, test) (0, 16)  At (gamma, c):  [1.49638241 8.40978506]\n",
      "error of particle- 9 is (training, test) (0, 10)  At (gamma, c):  [0.78622736 9.23877463]\n",
      "error of particle- 10 is (training, test) (0, 52)  At (gamma, c):  [2.95171909 8.21933376]\n"
     ]
    },
    {
     "name": "stderr",
     "output_type": "stream",
     "text": [
      "*c* argument looks like a single numeric RGB or RGBA sequence, which should be avoided as value-mapping will have precedence in case its length matches with *x* & *y*.  Please use the *color* keyword-argument or provide a 2D array with a single row if you intend to specify the same RGB or RGBA value for all points.\n"
     ]
    },
    {
     "name": "stdout",
     "output_type": "stream",
     "text": [
      "The best position is  [0.80752163 9.33469599] in iteration number 7 with error (train, test): (0, 10)\n",
      "iteration : 9\n"
     ]
    },
    {
     "data": {
      "image/png": "[encoded data removed]",
      "text/plain": [
       "<Figure size 432x288 with 1 Axes>"
      ]
     },
     "metadata": {
      "needs_background": "light"
     },
     "output_type": "display_data"
    },
    {
     "name": "stdout",
     "output_type": "stream",
     "text": [
      "error of particle- 1 is (training, test) (0, 11)  At (gamma, c):  [1.21700534 8.96383597]\n",
      "error of particle- 2 is (training, test) (0, 11)  At (gamma, c):  [1.11013242 7.66930409]\n",
      "error of particle- 3 is (training, test) (0, 22)  At (gamma, c):  [2.03544665 7.97680715]\n",
      "error of particle- 4 is (training, test) (0, 11)  At (gamma, c):  [1.11298181 8.89667218]\n",
      "error of particle- 5 is (training, test) (0, 10)  At (gamma, c):  [0.80752163 9.33469599]\n",
      "error of particle- 6 is (training, test) (0, 10)  At (gamma, c):  [0.82809265 8.10621309]\n",
      "error of particle- 7 is (training, test) (0, 11)  At (gamma, c):  [0.93405608 8.95569064]\n",
      "error of particle- 8 is (training, test) (0, 11)  At (gamma, c):  [1.16649447 8.85271486]\n",
      "error of particle- 9 is (training, test) (0, 10)  At (gamma, c):  [0.7961258  9.28336276]\n",
      "error of particle- 10 is (training, test) (0, 28)  At (gamma, c):  [2.30568888 8.55538383]\n"
     ]
    },
    {
     "name": "stderr",
     "output_type": "stream",
     "text": [
      "*c* argument looks like a single numeric RGB or RGBA sequence, which should be avoided as value-mapping will have precedence in case its length matches with *x* & *y*.  Please use the *color* keyword-argument or provide a 2D array with a single row if you intend to specify the same RGB or RGBA value for all points.\n"
     ]
    },
    {
     "name": "stdout",
     "output_type": "stream",
     "text": [
      "The best position is  [0.80752163 9.33469599] in iteration number 8 with error (train, test): (0, 10)\n",
      "iteration : 10\n"
     ]
    },
    {
     "data": {
      "image/png": "[encoded data removed]",
      "text/plain": [
       "<Figure size 432x288 with 1 Axes>"
      ]
     },
     "metadata": {
      "needs_background": "light"
     },
     "output_type": "display_data"
    },
    {
     "name": "stdout",
     "output_type": "stream",
     "text": [
      "error of particle- 1 is (training, test) (0, 11)  At (gamma, c):  [1.06068026 9.10541602]\n",
      "error of particle- 2 is (training, test) (0, 11)  At (gamma, c):  [1.07539319 7.8604884 ]\n",
      "error of particle- 3 is (training, test) (0, 21)  At (gamma, c):  [1.95578944 8.0648953 ]\n",
      "error of particle- 4 is (training, test) (0, 11)  At (gamma, c):  [1.10835447 8.9033077 ]\n",
      "error of particle- 5 is (training, test) (0, 10)  At (gamma, c):  [0.80752163 9.33469599]\n",
      "error of particle- 6 is (training, test) (0, 10)  At (gamma, c):  [0.82125131 8.5147716 ]\n",
      "error of particle- 7 is (training, test) (0, 11)  At (gamma, c):  [0.90804676 9.0335957 ]\n",
      "error of particle- 8 is (training, test) (0, 11)  At (gamma, c):  [1.09432156 8.94961907]\n",
      "error of particle- 9 is (training, test) (0, 10)  At (gamma, c):  [0.79834261 9.29334854]\n",
      "error of particle- 10 is (training, test) (0, 27)  At (gamma, c):  [2.25088019 8.58389405]\n",
      "The best position is  [0.80752163 9.33469599] in iteration number 9 with error (train, test): (0, 10)\n",
      "The best position is  [0.80752163 9.33469599] in iteration number 10 with error (train, test): (0, 10)\n",
      "Wall time: 21min 37s\n"
     ]
    }
   ],
   "source": [
    "%%time\n",
    "particle_position_vector = np.array([np.array([random.random()*10, random.random()*10]) for _ in range(n_particles)])\n",
    "pbest_position = particle_position_vector\n",
    "pbest_fitness_value = np.array([float('inf') for _ in range(n_particles)])\n",
    "gbest_fitness_value = np.array([float('inf'), float('inf')])\n",
    "gbest_position = np.array([float('inf'), float('inf')])\n",
    "\n",
    "velocity_vector = ([np.array([0, 0]) for _ in range(n_particles)])\n",
    "iteration = 0\n",
    "while iteration < n_iterations:\n",
    "    print(\"iteration :\", iteration+1)\n",
    "    plot(particle_position_vector)\n",
    "    for i in range(n_particles):\n",
    "        fitness_cadidate = fitness_function(particle_position_vector[i])\n",
    "        print(\"error of particle-\",i+1,\"is (training, test)\", fitness_cadidate, \" At (gamma, c): \", particle_position_vector[i])\n",
    "        \n",
    "        if(pbest_fitness_value[i] > fitness_cadidate[1]):\n",
    "            pbest_fitness_value[i] = fitness_cadidate[1]\n",
    "            pbest_position[i] = particle_position_vector[i]\n",
    "\n",
    "        if(gbest_fitness_value[1] > fitness_cadidate[1]):\n",
    "            gbest_fitness_value = fitness_cadidate\n",
    "            gbest_position = particle_position_vector[i]\n",
    "        elif(gbest_fitness_value[1] == fitness_cadidate[1] and gbest_fitness_value[0] > fitness_cadidate[0]):\n",
    "            gbest_fitness_value = fitness_cadidate\n",
    "            gbest_position = particle_position_vector[i]\n",
    "            \n",
    "    for i in range(n_particles):\n",
    "        new_velocity = (W*velocity_vector[i]) + (c1*random.random()) * (pbest_position[i] - particle_position_vector[i]) + (c2*random.random()) * (gbest_position-particle_position_vector[i])\n",
    "        new_position = new_velocity + particle_position_vector[i]\n",
    "        particle_position_vector[i] = new_position\n",
    "    \n",
    "    print(\"The best position is \", gbest_position, \"in iteration number\", iteration, \"with error (train, test):\", fitness_function(gbest_position))    \n",
    "    iteration = iteration + 1\n",
    "    \n",
    "print(\"The best position is \", gbest_position, \"in iteration number\", iteration, \"with error (train, test):\", fitness_function(gbest_position))"
   ]
  },
  {
   "cell_type": "code",
   "execution_count": 9,
   "id": "dba74abf",
   "metadata": {},
   "outputs": [
    {
     "name": "stdout",
     "output_type": "stream",
     "text": [
      "Akurasi SVM dengan optimasi PSO 65.5328798185941\n",
      "              precision    recall  f1-score   support\n",
      "\n",
      "       anger       0.65      0.76      0.71       119\n",
      "        fear       0.92      0.58      0.71        62\n",
      "       happy       0.69      0.58      0.63       111\n",
      "        love       0.83      0.73      0.78        55\n",
      "     sadness       0.48      0.62      0.54        94\n",
      "\n",
      "    accuracy                           0.66       441\n",
      "   macro avg       0.71      0.65      0.67       441\n",
      "weighted avg       0.68      0.66      0.66       441\n",
      "\n",
      "[[91  1  5  0 22]\n",
      " [ 9 36 10  0  7]\n",
      " [17  0 64  3 27]\n",
      " [ 0  1  6 40  8]\n",
      " [22  1  8  5 58]]\n"
     ]
    },
    {
     "data": {
      "text/plain": [
       "<AxesSubplot:>"
      ]
     },
     "execution_count": 9,
     "metadata": {},
     "output_type": "execute_result"
    },
    {
     "data": {
      "image/png": "[encoded data removed]",
      "text/plain": [
       "<Figure size 432x288 with 2 Axes>"
      ]
     },
     "metadata": {
      "needs_background": "light"
     },
     "output_type": "display_data"
    }
   ],
   "source": [
    "SVM = SVC(kernel= 'rbf', gamma= gbest_position[0], C= gbest_position[1])\n",
    "SVM.fit(X_train, y_train)\n",
    "predictions_SVM = SVM.predict(X_test)\n",
    "accuracy = accuracy_score(predictions_SVM, y_test)\n",
    "print('Akurasi SVM dengan optimasi PSO', accuracy*100)\n",
    "\n",
    "x = df['clean_data'].values.astype('U')\n",
    "y = df['label'].values\n",
    "\n",
    "encoder = LabelEncoder()\n",
    "encoder.fit(y)\n",
    "target_names = encoder.classes_\n",
    "\n",
    "print(classification_report(y_test, predictions_SVM, target_names=target_names))\n",
    "print(confusion_matrix(y_test, predictions_SVM, labels=[0, 1, 2, 3, 4]))\n",
    "\n",
    "cf = confusion_matrix(y_test, predictions_SVM, labels=[0, 1, 2, 3, 4])\n",
    "sns.heatmap(cf, annot=True, fmt='d')"
   ]
  },
  {
   "cell_type": "code",
   "execution_count": null,
   "id": "bdf37195",
   "metadata": {},
   "outputs": [],
   "source": []
  },
  {
   "cell_type": "code",
   "execution_count": null,
   "id": "622712d0",
   "metadata": {},
   "outputs": [],
   "source": []
  }
 ],
 "metadata": {
  "kernelspec": {
   "display_name": "Python 3 (ipykernel)",
   "language": "python",
   "name": "python3"
  },
  "language_info": {
   "codemirror_mode": {
    "name": "ipython",
    "version": 3
   },
   "file_extension": ".py",
   "mimetype": "text/x-python",
   "name": "python",
   "nbconvert_exporter": "python",
   "pygments_lexer": "ipython3",
   "version": "3.9.7"
  }
 },
 "nbformat": 4,
 "nbformat_minor": 5
}
