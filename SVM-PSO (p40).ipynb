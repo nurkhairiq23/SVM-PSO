{
 "cells": [
  {
   "cell_type": "code",
   "execution_count": 1,
   "id": "67b917d9",
   "metadata": {},
   "outputs": [],
   "source": [
    "import pandas as pd\n",
    "import numpy as np\n",
    "import random\n",
    "import csv\n",
    "from sklearn.preprocessing import LabelEncoder\n",
    "from sklearn.feature_extraction.text import TfidfVectorizer\n",
    "from sklearn.model_selection import train_test_split\n",
    "from sklearn.svm import SVC\n",
    "from sklearn.metrics import accuracy_score\n",
    "from sklearn.metrics import classification_report, confusion_matrix  \n",
    "import matplotlib.pyplot as plt\n",
    "import seaborn as sns"
   ]
  },
  {
   "cell_type": "code",
   "execution_count": 2,
   "id": "3fc2c868",
   "metadata": {},
   "outputs": [
    {
     "data": {
      "text/html": [
       "<div>\n",
       "<style scoped>\n",
       "    .dataframe tbody tr th:only-of-type {\n",
       "        vertical-align: middle;\n",
       "    }\n",
       "\n",
       "    .dataframe tbody tr th {\n",
       "        vertical-align: top;\n",
       "    }\n",
       "\n",
       "    .dataframe thead th {\n",
       "        text-align: right;\n",
       "    }\n",
       "</style>\n",
       "<table border=\"1\" class=\"dataframe\">\n",
       "  <thead>\n",
       "    <tr style=\"text-align: right;\">\n",
       "      <th></th>\n",
       "      <th>label</th>\n",
       "      <th>tweet</th>\n",
       "      <th>clean_data</th>\n",
       "    </tr>\n",
       "  </thead>\n",
       "  <tbody>\n",
       "    <tr>\n",
       "      <th>0</th>\n",
       "      <td>anger</td>\n",
       "      <td>Soal jln Jatibaru,polisi tdk bs GERTAK gubernu...</td>\n",
       "      <td>jalan jatibarupolisi gertak gubernur emangny p...</td>\n",
       "    </tr>\n",
       "    <tr>\n",
       "      <th>1</th>\n",
       "      <td>anger</td>\n",
       "      <td>Sesama cewe lho (kayaknya), harusnya bisa lebi...</td>\n",
       "      <td>cewek kayak rasain sibuk jaga rasain sakit hai...</td>\n",
       "    </tr>\n",
       "    <tr>\n",
       "      <th>2</th>\n",
       "      <td>happy</td>\n",
       "      <td>Kepingin gudeg mbarek Bu hj. Amad Foto dari go...</td>\n",
       "      <td>kepingin gudeg mbarek bu hj amad foto google s...</td>\n",
       "    </tr>\n",
       "    <tr>\n",
       "      <th>3</th>\n",
       "      <td>anger</td>\n",
       "      <td>Jln Jatibaru,bagian dari wilayah Tn Abang.Peng...</td>\n",
       "      <td>jalan jatibarubagian wilayah tn abangpengatura...</td>\n",
       "    </tr>\n",
       "    <tr>\n",
       "      <th>4</th>\n",
       "      <td>happy</td>\n",
       "      <td>Sharing pengalaman aja, kemarin jam 18.00 bata...</td>\n",
       "      <td>sharing alam kemarin jam batalin tiket stasiun...</td>\n",
       "    </tr>\n",
       "    <tr>\n",
       "      <th>...</th>\n",
       "      <td>...</td>\n",
       "      <td>...</td>\n",
       "      <td>...</td>\n",
       "    </tr>\n",
       "    <tr>\n",
       "      <th>4396</th>\n",
       "      <td>love</td>\n",
       "      <td>Tahukah kamu, bahwa saat itu papa memejamkan m...</td>\n",
       "      <td>papa mejam mata tahan gejolak batin papa tapu ...</td>\n",
       "    </tr>\n",
       "    <tr>\n",
       "      <th>4397</th>\n",
       "      <td>fear</td>\n",
       "      <td>Sulitnya menetapkan Calon Wapresnya Jokowi di ...</td>\n",
       "      <td>sulit calon wapresnya jokowi pilpres salah gem...</td>\n",
       "    </tr>\n",
       "    <tr>\n",
       "      <th>4398</th>\n",
       "      <td>anger</td>\n",
       "      <td>5. masa depannya nggak jelas. lha iya, gimana ...</td>\n",
       "      <td>iya gimana coba lulus seni nari kerja narinari...</td>\n",
       "    </tr>\n",
       "    <tr>\n",
       "      <th>4399</th>\n",
       "      <td>happy</td>\n",
       "      <td>[USERNAME] dulu beneran ada mahasiswa Teknik U...</td>\n",
       "      <td>mahasiswa teknik ui nembak pacar sahur kukus t...</td>\n",
       "    </tr>\n",
       "    <tr>\n",
       "      <th>4400</th>\n",
       "      <td>sadness</td>\n",
       "      <td>Ya Allah, hanya Engkau yang mengetahui rasa sa...</td>\n",
       "      <td>engkau sakit hati sembuh</td>\n",
       "    </tr>\n",
       "  </tbody>\n",
       "</table>\n",
       "<p>4401 rows × 3 columns</p>\n",
       "</div>"
      ],
      "text/plain": [
       "        label                                              tweet  \\\n",
       "0       anger  Soal jln Jatibaru,polisi tdk bs GERTAK gubernu...   \n",
       "1       anger  Sesama cewe lho (kayaknya), harusnya bisa lebi...   \n",
       "2       happy  Kepingin gudeg mbarek Bu hj. Amad Foto dari go...   \n",
       "3       anger  Jln Jatibaru,bagian dari wilayah Tn Abang.Peng...   \n",
       "4       happy  Sharing pengalaman aja, kemarin jam 18.00 bata...   \n",
       "...       ...                                                ...   \n",
       "4396     love  Tahukah kamu, bahwa saat itu papa memejamkan m...   \n",
       "4397     fear  Sulitnya menetapkan Calon Wapresnya Jokowi di ...   \n",
       "4398    anger  5. masa depannya nggak jelas. lha iya, gimana ...   \n",
       "4399    happy  [USERNAME] dulu beneran ada mahasiswa Teknik U...   \n",
       "4400  sadness  Ya Allah, hanya Engkau yang mengetahui rasa sa...   \n",
       "\n",
       "                                             clean_data  \n",
       "0     jalan jatibarupolisi gertak gubernur emangny p...  \n",
       "1     cewek kayak rasain sibuk jaga rasain sakit hai...  \n",
       "2     kepingin gudeg mbarek bu hj amad foto google s...  \n",
       "3     jalan jatibarubagian wilayah tn abangpengatura...  \n",
       "4     sharing alam kemarin jam batalin tiket stasiun...  \n",
       "...                                                 ...  \n",
       "4396  papa mejam mata tahan gejolak batin papa tapu ...  \n",
       "4397  sulit calon wapresnya jokowi pilpres salah gem...  \n",
       "4398  iya gimana coba lulus seni nari kerja narinari...  \n",
       "4399  mahasiswa teknik ui nembak pacar sahur kukus t...  \n",
       "4400                           engkau sakit hati sembuh  \n",
       "\n",
       "[4401 rows x 3 columns]"
      ]
     },
     "execution_count": 2,
     "metadata": {},
     "output_type": "execute_result"
    }
   ],
   "source": [
    "df= pd.read_excel('../Dataset/Clean Dataset.xlsx') \n",
    "df"
   ]
  },
  {
   "cell_type": "code",
   "execution_count": 3,
   "id": "2e72187d",
   "metadata": {},
   "outputs": [],
   "source": [
    "X = df['clean_data'].values.astype('U')\n",
    "y = df['label'].values\n",
    "X_train, X_test, y_train, y_test = train_test_split(X, y, test_size = 0.10, random_state = 42)"
   ]
  },
  {
   "cell_type": "code",
   "execution_count": 4,
   "id": "476fd6fd",
   "metadata": {},
   "outputs": [],
   "source": [
    "# transformasi data label\n",
    "encoder = LabelEncoder()\n",
    "encoder.fit(y)\n",
    "y_train = encoder.transform(y_train)\n",
    "y_test = encoder.transform(y_test)\n",
    "    \n",
    "# term weighting\n",
    "tfidf = TfidfVectorizer()\n",
    "tfidf.fit(X)\n",
    "    \n",
    "X_train = tfidf.transform(X_train)\n",
    "X_test = tfidf.transform(X_test)"
   ]
  },
  {
   "cell_type": "code",
   "execution_count": 5,
   "id": "da80e298",
   "metadata": {},
   "outputs": [],
   "source": [
    "#################### PARAMETERS ####################\n",
    "W = 0.5\n",
    "c1 = 0.2\n",
    "c2 = 0.5\n",
    "\n",
    "n_iterations = 10\n",
    "n_particles = 40"
   ]
  },
  {
   "cell_type": "code",
   "execution_count": 6,
   "id": "9d7ef92a",
   "metadata": {},
   "outputs": [],
   "source": [
    "#mencari nilai 0-1 loss dari tiap partikel\n",
    "#partikle = (gamma,C) untuk rbf\n",
    "def fitness_function(position):\n",
    "    svclassifier = SVC(kernel='rbf', gamma = position[0], C = position[1] )  \n",
    "    svclassifier.fit(X_train, y_train)\n",
    "    y_train_pred = svclassifier.predict(X_train)\n",
    "    y_test_pred = svclassifier.predict(X_test)   \n",
    "    return confusion_matrix(y_train,y_train_pred)[0][1] + confusion_matrix(y_train,y_train_pred)[1][0], confusion_matrix(y_test,y_test_pred)[0][1] + confusion_matrix(y_test,y_test_pred)[1][0]\n",
    "\n",
    "#plotting (x axis = gamma, y axis = C)\n",
    "def plot(position):\n",
    "    x = []\n",
    "    y = []\n",
    "    for i in range(0,len(particle_position_vector)):\n",
    "        x.append(particle_position_vector[i][0])\n",
    "        y.append(particle_position_vector[i][1])\n",
    "    colors = (0,0,0)\n",
    "    plt.scatter(x, y, c = colors, alpha = 0.1)\n",
    "    plt.xlabel('C')\n",
    "    plt.ylabel('gamma')\n",
    "    plt.axis([0,10,0,10])\n",
    "    plt.gca().set_aspect('equal', adjustable='box')\n",
    "    return plt.show()"
   ]
  },
  {
   "cell_type": "code",
   "execution_count": 7,
   "id": "5885076e",
   "metadata": {},
   "outputs": [
    {
     "name": "stdout",
     "output_type": "stream",
     "text": [
      "iteration : 1\n"
     ]
    },
    {
     "name": "stderr",
     "output_type": "stream",
     "text": [
      "*c* argument looks like a single numeric RGB or RGBA sequence, which should be avoided as value-mapping will have precedence in case its length matches with *x* & *y*.  Please use the *color* keyword-argument or provide a 2D array with a single row if you intend to specify the same RGB or RGBA value for all points.\n"
     ]
    },
    {
     "data": {
      "image/png": "[encoded data removed]",
      "text/plain": [
       "<Figure size 432x288 with 1 Axes>"
      ]
     },
     "metadata": {
      "needs_background": "light"
     },
     "output_type": "display_data"
    },
    {
     "name": "stdout",
     "output_type": "stream",
     "text": [
      "error of particle- 1 is (training, test) (0, 32)  At (gamma, c):  [2.40923765 9.8750132 ]\n",
      "error of particle- 2 is (training, test) (0, 60)  At (gamma, c):  [5.92080965 4.37070662]\n",
      "error of particle- 3 is (training, test) (0, 60)  At (gamma, c):  [4.4920826  1.83100941]\n",
      "error of particle- 4 is (training, test) (0, 60)  At (gamma, c):  [8.29172131 7.47135816]\n",
      "error of particle- 5 is (training, test) (0, 60)  At (gamma, c):  [8.10816252 2.21760856]\n",
      "error of particle- 6 is (training, test) (0, 60)  At (gamma, c):  [4.16315566 5.75937743]\n",
      "error of particle- 7 is (training, test) (0, 60)  At (gamma, c):  [9.99697148 3.82019293]\n",
      "error of particle- 8 is (training, test) (0, 60)  At (gamma, c):  [8.6210042  7.82685644]\n",
      "error of particle- 9 is (training, test) (0, 60)  At (gamma, c):  [9.12046554 3.57733858]\n",
      "error of particle- 10 is (training, test) (0, 29)  At (gamma, c):  [2.3552849  4.33171853]\n",
      "error of particle- 11 is (training, test) (0, 60)  At (gamma, c):  [7.39470476 4.56480361]\n",
      "error of particle- 12 is (training, test) (0, 60)  At (gamma, c):  [9.91783967 8.58594452]\n",
      "error of particle- 13 is (training, test) (0, 22)  At (gamma, c):  [2.07084678 6.62978302]\n",
      "error of particle- 14 is (training, test) (0, 60)  At (gamma, c):  [4.3192484  7.40152204]\n",
      "error of particle- 15 is (training, test) (582, 62)  At (gamma, c):  [2.73573358 0.16335833]\n",
      "error of particle- 16 is (training, test) (0, 56)  At (gamma, c):  [3.58641239 9.61700627]\n",
      "error of particle- 17 is (training, test) (0, 60)  At (gamma, c):  [8.24216818 7.38317502]\n",
      "error of particle- 18 is (training, test) (0, 60)  At (gamma, c):  [8.90732537 9.93490476]\n",
      "error of particle- 19 is (training, test) (0, 60)  At (gamma, c):  [9.15338089 6.34466858]\n",
      "error of particle- 20 is (training, test) (0, 60)  At (gamma, c):  [5.39796431 1.94522269]\n",
      "error of particle- 21 is (training, test) (0, 13)  At (gamma, c):  [1.35485849 4.5792517 ]\n",
      "error of particle- 22 is (training, test) (0, 44)  At (gamma, c):  [2.74226176 5.81104691]\n",
      "error of particle- 23 is (training, test) (0, 60)  At (gamma, c):  [8.07690597 8.03979399]\n",
      "error of particle- 24 is (training, test) (0, 60)  At (gamma, c):  [8.45594436 6.50274286]\n",
      "error of particle- 25 is (training, test) (0, 60)  At (gamma, c):  [5.96800901 2.89288436]\n",
      "error of particle- 26 is (training, test) (1, 60)  At (gamma, c):  [4.44114294 0.66476068]\n",
      "error of particle- 27 is (training, test) (0, 37)  At (gamma, c):  [2.54480844 2.45742314]\n",
      "error of particle- 28 is (training, test) (0, 60)  At (gamma, c):  [7.15009364 1.20093089]\n",
      "error of particle- 29 is (training, test) (0, 60)  At (gamma, c):  [8.08090153 0.95801371]\n",
      "error of particle- 30 is (training, test) (1, 10)  At (gamma, c):  [0.84680633 6.74578029]\n",
      "error of particle- 31 is (training, test) (0, 60)  At (gamma, c):  [8.44045933 9.1155166 ]\n",
      "error of particle- 32 is (training, test) (0, 60)  At (gamma, c):  [8.01009706 7.28932503]\n",
      "error of particle- 33 is (training, test) (576, 61)  At (gamma, c):  [2.57338923 0.23504593]\n",
      "error of particle- 34 is (training, test) (0, 60)  At (gamma, c):  [8.44194535 3.49602974]\n",
      "error of particle- 35 is (training, test) (0, 60)  At (gamma, c):  [6.77424508 3.68954974]\n",
      "error of particle- 36 is (training, test) (0, 52)  At (gamma, c):  [3.01587569 5.97424991]\n",
      "error of particle- 37 is (training, test) (0, 60)  At (gamma, c):  [8.92609875 4.11963305]\n",
      "error of particle- 38 is (training, test) (0, 15)  At (gamma, c):  [1.46182487 5.90779747]\n",
      "error of particle- 39 is (training, test) (1, 11)  At (gamma, c):  [0.85745374 6.69338446]\n",
      "error of particle- 40 is (training, test) (0, 37)  At (gamma, c):  [2.53523346 8.38684035]\n"
     ]
    },
    {
     "name": "stderr",
     "output_type": "stream",
     "text": [
      "*c* argument looks like a single numeric RGB or RGBA sequence, which should be avoided as value-mapping will have precedence in case its length matches with *x* & *y*.  Please use the *color* keyword-argument or provide a 2D array with a single row if you intend to specify the same RGB or RGBA value for all points.\n"
     ]
    },
    {
     "name": "stdout",
     "output_type": "stream",
     "text": [
      "The best position is  [0.84680633 6.74578029] in iteration number 0 with error (train, test): (1, 10)\n",
      "iteration : 2\n"
     ]
    },
    {
     "data": {
      "image/png": "[encoded data removed]",
      "text/plain": [
       "<Figure size 432x288 with 1 Axes>"
      ]
     },
     "metadata": {
      "needs_background": "light"
     },
     "output_type": "display_data"
    },
    {
     "name": "stdout",
     "output_type": "stream",
     "text": [
      "error of particle- 1 is (training, test) (0, 32)  At (gamma, c):  [2.39486827 9.84623425]\n",
      "error of particle- 2 is (training, test) (0, 60)  At (gamma, c):  [5.63841706 4.50289086]\n",
      "error of particle- 3 is (training, test) (0, 56)  At (gamma, c):  [3.54836946 3.10337768]\n",
      "error of particle- 4 is (training, test) (0, 60)  At (gamma, c):  [4.64429448 7.11588168]\n",
      "error of particle- 5 is (training, test) (0, 60)  At (gamma, c):  [7.96405166 2.3074759 ]\n",
      "error of particle- 6 is (training, test) (0, 58)  At (gamma, c):  [3.77231017 5.87562909]\n",
      "error of particle- 7 is (training, test) (0, 60)  At (gamma, c):  [5.45840648 5.27131083]\n",
      "error of particle- 8 is (training, test) (0, 60)  At (gamma, c):  [5.59289169 7.4057686 ]\n",
      "error of particle- 9 is (training, test) (0, 60)  At (gamma, c):  [8.39862507 3.85377122]\n",
      "error of particle- 10 is (training, test) (0, 28)  At (gamma, c):  [2.24573418 4.50703571]\n",
      "error of particle- 11 is (training, test) (0, 60)  At (gamma, c):  [6.11962182 4.98950875]\n",
      "error of particle- 12 is (training, test) (0, 60)  At (gamma, c):  [8.44386787 8.28693226]\n",
      "error of particle- 13 is (training, test) (0, 19)  At (gamma, c):  [1.64956446 6.66970621]\n",
      "error of particle- 14 is (training, test) (0, 60)  At (gamma, c):  [4.17241648 7.37379406]\n",
      "error of particle- 15 is (training, test) (1, 28)  At (gamma, c):  [2.22224732 1.95272489]\n",
      "error of particle- 16 is (training, test) (0, 41)  At (gamma, c):  [2.62644064 8.61091424]\n",
      "error of particle- 17 is (training, test) (0, 60)  At (gamma, c):  [7.24393482 7.29713884]\n",
      "error of particle- 18 is (training, test) (0, 60)  At (gamma, c):  [8.6340218  9.82677287]\n",
      "error of particle- 19 is (training, test) (0, 60)  At (gamma, c):  [5.9415825  6.49976139]\n",
      "error of particle- 20 is (training, test) (0, 60)  At (gamma, c):  [4.63033223 2.75492036]\n",
      "error of particle- 21 is (training, test) (0, 11)  At (gamma, c):  [1.17992921 5.32521698]\n",
      "error of particle- 22 is (training, test) (0, 28)  At (gamma, c):  [2.29200816 6.03308698]\n",
      "error of particle- 23 is (training, test) (0, 60)  At (gamma, c):  [6.57189218 7.77043277]\n",
      "error of particle- 24 is (training, test) (0, 60)  At (gamma, c):  [7.28106605 6.54026872]\n",
      "error of particle- 25 is (training, test) (0, 60)  At (gamma, c):  [5.9328591  2.91932911]\n",
      "error of particle- 26 is (training, test) (0, 53)  At (gamma, c):  [3.12286156 2.89507347]\n",
      "error of particle- 27 is (training, test) (0, 27)  At (gamma, c):  [2.1820695  3.37353161]\n",
      "error of particle- 28 is (training, test) (0, 60)  At (gamma, c):  [4.93727115 3.14749732]\n",
      "error of particle- 29 is (training, test) (0, 60)  At (gamma, c):  [4.62932468 3.71950918]\n",
      "error of particle- 30 is (training, test) (1, 10)  At (gamma, c):  [0.84680633 6.74578029]\n",
      "error of particle- 31 is (training, test) (0, 60)  At (gamma, c):  [7.94761975 8.96171713]\n",
      "error of particle- 32 is (training, test) (0, 60)  At (gamma, c):  [5.76689317 7.11911253]\n",
      "error of particle- 33 is (training, test) (1, 21)  At (gamma, c):  [1.99994783 2.39742378]\n",
      "error of particle- 34 is (training, test) (0, 60)  At (gamma, c):  [7.8714199  3.74014185]\n",
      "error of particle- 35 is (training, test) (0, 60)  At (gamma, c):  [5.0674085 4.5696071]\n",
      "error of particle- 36 is (training, test) (0, 20)  At (gamma, c):  [1.94496035 6.35517075]\n",
      "error of particle- 37 is (training, test) (0, 60)  At (gamma, c):  [5.21637136 5.32546765]\n",
      "error of particle- 38 is (training, test) (0, 12)  At (gamma, c):  [1.27574127 6.16134245]\n",
      "error of particle- 39 is (training, test) (1, 10)  At (gamma, c):  [0.85653441 6.6979085 ]\n",
      "error of particle- 40 is (training, test) (0, 23)  At (gamma, c):  [2.11885894 7.98214678]\n"
     ]
    },
    {
     "name": "stderr",
     "output_type": "stream",
     "text": [
      "*c* argument looks like a single numeric RGB or RGBA sequence, which should be avoided as value-mapping will have precedence in case its length matches with *x* & *y*.  Please use the *color* keyword-argument or provide a 2D array with a single row if you intend to specify the same RGB or RGBA value for all points.\n"
     ]
    },
    {
     "name": "stdout",
     "output_type": "stream",
     "text": [
      "The best position is  [0.84680633 6.74578029] in iteration number 1 with error (train, test): (1, 10)\n",
      "iteration : 3\n"
     ]
    },
    {
     "data": {
      "image/png": "[encoded data removed]",
      "text/plain": [
       "<Figure size 432x288 with 1 Axes>"
      ]
     },
     "metadata": {
      "needs_background": "light"
     },
     "output_type": "display_data"
    },
    {
     "name": "stdout",
     "output_type": "stream",
     "text": [
      "error of particle- 1 is (training, test) (0, 19)  At (gamma, c):  [1.76425334 8.58324051]\n",
      "error of particle- 2 is (training, test) (0, 60)  At (gamma, c):  [4.39842777 5.0833134 ]\n",
      "error of particle- 3 is (training, test) (0, 46)  At (gamma, c):  [2.77416613 4.14720308]\n",
      "error of particle- 4 is (training, test) (0, 54)  At (gamma, c):  [3.36703563 6.99140064]\n",
      "error of particle- 5 is (training, test) (0, 60)  At (gamma, c):  [5.25207086 3.99866339]\n",
      "error of particle- 6 is (training, test) (0, 44)  At (gamma, c):  [2.73221962 6.18498983]\n",
      "error of particle- 7 is (training, test) (0, 58)  At (gamma, c):  [3.78840291 5.80526199]\n",
      "error of particle- 8 is (training, test) (0, 60)  At (gamma, c):  [5.12826478 7.34115781]\n",
      "error of particle- 9 is (training, test) (0, 60)  At (gamma, c):  [6.22039258 4.68793691]\n",
      "error of particle- 10 is (training, test) (0, 18)  At (gamma, c):  [1.59827576 5.5431821 ]\n",
      "error of particle- 11 is (training, test) (0, 60)  At (gamma, c):  [4.3303556  5.58547828]\n",
      "error of particle- 12 is (training, test) (0, 60)  At (gamma, c):  [5.50193538 7.69012717]\n",
      "error of particle- 13 is (training, test) (0, 13)  At (gamma, c):  [1.30120664 6.70271865]\n",
      "error of particle- 14 is (training, test) (0, 54)  At (gamma, c):  [3.42558467 7.23276109]\n",
      "error of particle- 15 is (training, test) (1, 20)  At (gamma, c):  [1.90652814 3.0529244 ]\n",
      "error of particle- 16 is (training, test) (0, 21)  At (gamma, c):  [2.00676429 7.96146655]\n",
      "error of particle- 17 is (training, test) (0, 60)  At (gamma, c):  [6.82858694 7.26134065]\n",
      "error of particle- 18 is (training, test) (0, 60)  At (gamma, c):  [5.3801776  8.53939745]\n",
      "error of particle- 19 is (training, test) (0, 60)  At (gamma, c):  [4.92515741 6.54884299]\n",
      "error of particle- 20 is (training, test) (0, 57)  At (gamma, c):  [3.6069066  3.83442885]\n",
      "error of particle- 21 is (training, test) (0, 11)  At (gamma, c):  [1.16772468 5.3772618 ]\n",
      "error of particle- 22 is (training, test) (0, 28)  At (gamma, c):  [2.22823753 6.06453512]\n",
      "error of particle- 23 is (training, test) (0, 60)  At (gamma, c):  [6.14216542 7.69352203]\n",
      "error of particle- 24 is (training, test) (0, 60)  At (gamma, c):  [4.53225706 6.62806624]\n",
      "error of particle- 25 is (training, test) (0, 60)  At (gamma, c):  [4.15246701 4.25879288]\n",
      "error of particle- 26 is (training, test) (0, 52)  At (gamma, c):  [2.99202375 3.11642929]\n",
      "error of particle- 27 is (training, test) (0, 20)  At (gamma, c):  [1.86164983 4.18276145]\n",
      "error of particle- 28 is (training, test) (0, 54)  At (gamma, c):  [3.47444345 4.43431146]\n",
      "error of particle- 29 is (training, test) (0, 58)  At (gamma, c):  [3.6787007  4.48007281]\n",
      "error of particle- 30 is (training, test) (1, 10)  At (gamma, c):  [0.84680633 6.74578029]\n",
      "error of particle- 31 is (training, test) (0, 60)  At (gamma, c):  [4.83686975 7.99095151]\n",
      "error of particle- 32 is (training, test) (0, 60)  At (gamma, c):  [5.31663969 7.08494765]\n",
      "error of particle- 33 is (training, test) (0, 18)  At (gamma, c):  [1.59195261 3.93592417]\n",
      "error of particle- 34 is (training, test) (0, 60)  At (gamma, c):  [4.60182407 5.13911175]\n",
      "error of particle- 35 is (training, test) (0, 58)  At (gamma, c):  [3.73150047 5.258411  ]\n",
      "error of particle- 36 is (training, test) (0, 20)  At (gamma, c):  [1.83254232 6.39515745]\n",
      "error of particle- 37 is (training, test) (0, 60)  At (gamma, c):  [5.02751463 5.38685491]\n",
      "error of particle- 38 is (training, test) (0, 11)  At (gamma, c):  [1.261717   6.18045097]\n",
      "error of particle- 39 is (training, test) (1, 10)  At (gamma, c):  [0.85520296 6.70446053]\n",
      "error of particle- 40 is (training, test) (0, 22)  At (gamma, c):  [2.02571465 7.89161556]\n"
     ]
    },
    {
     "name": "stderr",
     "output_type": "stream",
     "text": [
      "*c* argument looks like a single numeric RGB or RGBA sequence, which should be avoided as value-mapping will have precedence in case its length matches with *x* & *y*.  Please use the *color* keyword-argument or provide a 2D array with a single row if you intend to specify the same RGB or RGBA value for all points.\n"
     ]
    },
    {
     "name": "stdout",
     "output_type": "stream",
     "text": [
      "The best position is  [0.84680633 6.74578029] in iteration number 2 with error (train, test): (1, 10)\n",
      "iteration : 4\n"
     ]
    },
    {
     "data": {
      "image/png": "[encoded data removed]",
      "text/plain": [
       "<Figure size 432x288 with 1 Axes>"
      ]
     },
     "metadata": {
      "needs_background": "light"
     },
     "output_type": "display_data"
    },
    {
     "name": "stdout",
     "output_type": "stream",
     "text": [
      "error of particle- 1 is (training, test) (0, 16)  At (gamma, c):  [1.49152545 8.03702188]\n",
      "error of particle- 2 is (training, test) (0, 55)  At (gamma, c):  [3.50860011 5.49982992]\n",
      "error of particle- 3 is (training, test) (0, 37)  At (gamma, c):  [2.51872865 4.49159857]\n",
      "error of particle- 4 is (training, test) (0, 23)  At (gamma, c):  [2.11396036 6.86927652]\n",
      "error of particle- 5 is (training, test) (0, 60)  At (gamma, c):  [4.4393163  4.50549602]\n",
      "error of particle- 6 is (training, test) (0, 20)  At (gamma, c):  [1.83552006 6.45170088]\n",
      "error of particle- 7 is (training, test) (0, 33)  At (gamma, c):  [2.43846729 6.23687765]\n",
      "error of particle- 8 is (training, test) (0, 54)  At (gamma, c):  [3.24414885 7.07915357]\n",
      "error of particle- 9 is (training, test) (0, 60)  At (gamma, c):  [4.75330989 5.24976402]\n",
      "error of particle- 10 is (training, test) (0, 15)  At (gamma, c):  [1.4661478  5.75463027]\n",
      "error of particle- 11 is (training, test) (0, 58)  At (gamma, c):  [3.69446373 5.7972814 ]\n",
      "error of particle- 12 is (training, test) (0, 60)  At (gamma, c):  [5.2356369  7.63610543]\n",
      "error of particle- 13 is (training, test) (0, 11)  At (gamma, c):  [1.17954429 6.71424809]\n",
      "error of particle- 14 is (training, test) (0, 54)  At (gamma, c):  [3.22975395 7.19578009]\n",
      "error of particle- 15 is (training, test) (0, 17)  At (gamma, c):  [1.54355714 4.31778425]\n",
      "error of particle- 16 is (training, test) (0, 19)  At (gamma, c):  [1.65879371 7.59677829]\n",
      "error of particle- 17 is (training, test) (0, 60)  At (gamma, c):  [5.26750869 7.12679375]\n",
      "error of particle- 18 is (training, test) (0, 60)  At (gamma, c):  [5.18389897 8.46174029]\n",
      "error of particle- 19 is (training, test) (0, 60)  At (gamma, c):  [4.78384273 6.55566686]\n",
      "error of particle- 20 is (training, test) (0, 55)  At (gamma, c):  [3.51071601 3.9358906 ]\n",
      "error of particle- 21 is (training, test) (0, 11)  At (gamma, c):  [1.11449055 5.60427244]\n",
      "error of particle- 22 is (training, test) (0, 23)  At (gamma, c):  [2.09156683 6.13193352]\n",
      "error of particle- 23 is (training, test) (0, 60)  At (gamma, c):  [4.43363036 7.3877354 ]\n",
      "error of particle- 24 is (training, test) (0, 52)  At (gamma, c):  [2.98541142 6.67747281]\n",
      "error of particle- 25 is (training, test) (0, 39)  At (gamma, c):  [2.6121636  5.41762785]\n",
      "error of particle- 26 is (training, test) (0, 38)  At (gamma, c):  [2.54533736 3.87214835]\n",
      "error of particle- 27 is (training, test) (0, 19)  At (gamma, c):  [1.8329421  4.25526373]\n",
      "error of particle- 28 is (training, test) (0, 53)  At (gamma, c):  [3.05130518 4.80653597]\n",
      "error of particle- 29 is (training, test) (0, 58)  At (gamma, c):  [3.64998167 4.50304998]\n",
      "error of particle- 30 is (training, test) (1, 10)  At (gamma, c):  [0.84680633 6.74578029]\n",
      "error of particle- 31 is (training, test) (0, 60)  At (gamma, c):  [4.67900023 7.94168548]\n",
      "error of particle- 32 is (training, test) (0, 58)  At (gamma, c):  [3.69761031 6.96209701]\n",
      "error of particle- 33 is (training, test) (0, 17)  At (gamma, c):  [1.5694145  4.02091264]\n",
      "error of particle- 34 is (training, test) (0, 51)  At (gamma, c):  [2.89360293 5.87001247]\n",
      "error of particle- 35 is (training, test) (0, 55)  At (gamma, c):  [3.5011627  5.37717483]\n",
      "error of particle- 36 is (training, test) (0, 18)  At (gamma, c):  [1.62312862 6.46964517]\n",
      "error of particle- 37 is (training, test) (0, 54)  At (gamma, c):  [3.37550934 5.92383375]\n",
      "error of particle- 38 is (training, test) (0, 11)  At (gamma, c):  [1.15089766 6.33144594]\n",
      "error of particle- 39 is (training, test) (1, 10)  At (gamma, c):  [0.85191332 6.72064882]\n",
      "error of particle- 40 is (training, test) (0, 19)  At (gamma, c):  [1.77003573 7.64310945]\n"
     ]
    },
    {
     "name": "stderr",
     "output_type": "stream",
     "text": [
      "*c* argument looks like a single numeric RGB or RGBA sequence, which should be avoided as value-mapping will have precedence in case its length matches with *x* & *y*.  Please use the *color* keyword-argument or provide a 2D array with a single row if you intend to specify the same RGB or RGBA value for all points.\n"
     ]
    },
    {
     "name": "stdout",
     "output_type": "stream",
     "text": [
      "The best position is  [0.84680633 6.74578029] in iteration number 3 with error (train, test): (1, 10)\n",
      "iteration : 5\n"
     ]
    },
    {
     "data": {
      "image/png": "[encoded data removed]",
      "text/plain": [
       "<Figure size 432x288 with 1 Axes>"
      ]
     },
     "metadata": {
      "needs_background": "light"
     },
     "output_type": "display_data"
    },
    {
     "name": "stdout",
     "output_type": "stream",
     "text": [
      "error of particle- 1 is (training, test) (0, 13)  At (gamma, c):  [1.36458947 7.78279486]\n",
      "error of particle- 2 is (training, test) (0, 54)  At (gamma, c):  [3.36781234 5.56573081]\n",
      "error of particle- 3 is (training, test) (0, 23)  At (gamma, c):  [2.14826389 4.99108044]\n",
      "error of particle- 4 is (training, test) (0, 20)  At (gamma, c):  [1.9066741 6.8490745]\n",
      "error of particle- 5 is (training, test) (0, 54)  At (gamma, c):  [3.40925868 5.14783853]\n",
      "error of particle- 6 is (training, test) (0, 17)  At (gamma, c):  [1.50521077 6.54994687]\n",
      "error of particle- 7 is (training, test) (0, 20)  At (gamma, c):  [1.88469446 6.41393575]\n",
      "error of particle- 8 is (training, test) (0, 31)  At (gamma, c):  [2.37485434 6.9582699 ]\n",
      "error of particle- 9 is (training, test) (0, 54)  At (gamma, c):  [3.21144311 5.84023009]\n",
      "error of particle- 10 is (training, test) (0, 11)  At (gamma, c):  [1.2114142  6.16228779]\n",
      "error of particle- 11 is (training, test) (0, 54)  At (gamma, c):  [3.48205813 5.86802954]\n",
      "error of particle- 12 is (training, test) (0, 58)  At (gamma, c):  [3.66470828 7.31742436]\n",
      "error of particle- 13 is (training, test) (0, 11)  At (gamma, c):  [1.06646253 6.72496438]\n",
      "error of particle- 14 is (training, test) (0, 53)  At (gamma, c):  [3.07665936 7.16686946]\n",
      "error of particle- 15 is (training, test) (0, 12)  At (gamma, c):  [1.32825491 5.06805674]\n",
      "error of particle- 16 is (training, test) (0, 18)  At (gamma, c):  [1.58450016 7.51891543]\n",
      "error of particle- 17 is (training, test) (0, 58)  At (gamma, c):  [3.80659407 7.00087979]\n",
      "error of particle- 18 is (training, test) (0, 54)  At (gamma, c):  [3.25177581 7.69730053]\n",
      "error of particle- 19 is (training, test) (0, 60)  At (gamma, c):  [4.06312301 6.59046931]\n",
      "error of particle- 20 is (training, test) (0, 53)  At (gamma, c):  [3.11711925 4.35105613]\n",
      "error of particle- 21 is (training, test) (0, 11)  At (gamma, c):  [1.11061292 5.62080814]\n",
      "error of particle- 22 is (training, test) (0, 18)  At (gamma, c):  [1.61118428 6.36883152]\n",
      "error of particle- 23 is (training, test) (0, 58)  At (gamma, c):  [3.8999643  7.29222203]\n",
      "error of particle- 24 is (training, test) (0, 28)  At (gamma, c):  [2.32007997 6.69872363]\n",
      "error of particle- 25 is (training, test) (0, 22)  At (gamma, c):  [2.05572401 5.83626073]\n",
      "error of particle- 26 is (training, test) (0, 32)  At (gamma, c):  [2.41760752 4.08824599]\n",
      "error of particle- 27 is (training, test) (0, 19)  At (gamma, c):  [1.63547475 4.75397367]\n",
      "error of particle- 28 is (training, test) (0, 37)  At (gamma, c):  [2.51116454 5.28168462]\n",
      "error of particle- 29 is (training, test) (0, 35)  At (gamma, c):  [2.47181853 5.44566036]\n",
      "error of particle- 30 is (training, test) (1, 10)  At (gamma, c):  [0.84680633 6.74578029]\n",
      "error of particle- 31 is (training, test) (0, 53)  At (gamma, c):  [3.13525767 7.45993279]\n",
      "error of particle- 32 is (training, test) (0, 52)  At (gamma, c):  [3.00218967 6.90932905]\n",
      "error of particle- 33 is (training, test) (0, 11)  At (gamma, c):  [1.2607619  5.18480413]\n",
      "error of particle- 34 is (training, test) (0, 21)  At (gamma, c):  [1.98010011 6.26087513]\n",
      "error of particle- 35 is (training, test) (0, 54)  At (gamma, c):  [3.18693563 5.5391926 ]\n",
      "error of particle- 36 is (training, test) (0, 13)  At (gamma, c):  [1.35261329 6.56586652]\n",
      "error of particle- 37 is (training, test) (0, 47)  At (gamma, c):  [2.80909773 6.10794397]\n",
      "error of particle- 38 is (training, test) (0, 11)  At (gamma, c):  [1.12312126 6.36929219]\n",
      "error of particle- 39 is (training, test) (1, 10)  At (gamma, c):  [0.85142835 6.72303539]\n",
      "error of particle- 40 is (training, test) (0, 15)  At (gamma, c):  [1.45828569 7.34010524]\n"
     ]
    },
    {
     "name": "stderr",
     "output_type": "stream",
     "text": [
      "*c* argument looks like a single numeric RGB or RGBA sequence, which should be avoided as value-mapping will have precedence in case its length matches with *x* & *y*.  Please use the *color* keyword-argument or provide a 2D array with a single row if you intend to specify the same RGB or RGBA value for all points.\n"
     ]
    },
    {
     "name": "stdout",
     "output_type": "stream",
     "text": [
      "The best position is  [0.84680633 6.74578029] in iteration number 4 with error (train, test): (1, 10)\n",
      "iteration : 6\n"
     ]
    },
    {
     "data": {
      "image/png": "[encoded data removed]",
      "text/plain": [
       "<Figure size 432x288 with 1 Axes>"
      ]
     },
     "metadata": {
      "needs_background": "light"
     },
     "output_type": "display_data"
    },
    {
     "name": "stdout",
     "output_type": "stream",
     "text": [
      "error of particle- 1 is (training, test) (0, 13)  At (gamma, c):  [1.34351284 7.74058266]\n",
      "error of particle- 2 is (training, test) (0, 35)  At (gamma, c):  [2.49848407 5.97265184]\n",
      "error of particle- 3 is (training, test) (0, 19)  At (gamma, c):  [1.7740391  5.49563181]\n",
      "error of particle- 4 is (training, test) (0, 16)  At (gamma, c):  [1.48631185 6.8081062 ]\n",
      "error of particle- 5 is (training, test) (0, 53)  At (gamma, c):  [3.12868286 5.32280523]\n",
      "error of particle- 6 is (training, test) (0, 13)  At (gamma, c):  [1.34478729 6.59766265]\n",
      "error of particle- 7 is (training, test) (0, 17)  At (gamma, c):  [1.54980718 6.52100944]\n",
      "error of particle- 8 is (training, test) (0, 22)  At (gamma, c):  [2.06175333 6.91473023]\n",
      "error of particle- 9 is (training, test) (0, 32)  At (gamma, c):  [2.39673568 6.15222662]\n",
      "error of particle- 10 is (training, test) (0, 11)  At (gamma, c):  [1.13155071 6.29009565]\n",
      "error of particle- 11 is (training, test) (0, 48)  At (gamma, c):  [2.84847917 6.07906229]\n",
      "error of particle- 12 is (training, test) (0, 54)  At (gamma, c):  [3.39623003 7.26296043]\n",
      "error of particle- 13 is (training, test) (0, 11)  At (gamma, c):  [1.02093607 6.72927873]\n",
      "error of particle- 14 is (training, test) (0, 39)  At (gamma, c):  [2.59504261 7.07592015]\n",
      "error of particle- 15 is (training, test) (0, 11)  At (gamma, c):  [1.23533969 5.3918422 ]\n",
      "error of particle- 16 is (training, test) (0, 17)  At (gamma, c):  [1.50198155 7.43243235]\n",
      "error of particle- 17 is (training, test) (0, 45)  At (gamma, c):  [2.76715972 6.91129256]\n",
      "error of particle- 18 is (training, test) (0, 54)  At (gamma, c):  [3.2507649  7.69690057]\n",
      "error of particle- 19 is (training, test) (0, 46)  At (gamma, c):  [2.77791343 6.6525301 ]\n",
      "error of particle- 20 is (training, test) (0, 37)  At (gamma, c):  [2.53175305 4.96849991]\n",
      "error of particle- 21 is (training, test) (1, 11)  At (gamma, c):  [1.02697513 5.97747165]\n",
      "error of particle- 22 is (training, test) (0, 16)  At (gamma, c):  [1.4843693  6.43136963]\n",
      "error of particle- 23 is (training, test) (0, 54)  At (gamma, c):  [3.42853054 7.20784674]\n",
      "error of particle- 24 is (training, test) (0, 27)  At (gamma, c):  [2.20541707 6.70238599]\n",
      "error of particle- 25 is (training, test) (0, 18)  At (gamma, c):  [1.57255566 6.19976858]\n",
      "error of particle- 26 is (training, test) (0, 27)  At (gamma, c):  [2.25806977 4.35815732]\n",
      "error of particle- 27 is (training, test) (0, 12)  At (gamma, c):  [1.27680316 5.65980992]\n",
      "error of particle- 28 is (training, test) (0, 22)  At (gamma, c):  [2.02814587 5.70658446]\n",
      "error of particle- 29 is (training, test) (0, 20)  At (gamma, c):  [1.9308981  5.87843338]\n",
      "error of particle- 30 is (training, test) (1, 10)  At (gamma, c):  [0.84680633 6.74578029]\n",
      "error of particle- 31 is (training, test) (0, 47)  At (gamma, c):  [2.83067441 7.36488209]\n",
      "error of particle- 32 is (training, test) (0, 52)  At (gamma, c):  [2.92966019 6.90382557]\n",
      "error of particle- 33 is (training, test) (0, 11)  At (gamma, c):  [1.1285071  5.68352091]\n",
      "error of particle- 34 is (training, test) (0, 18)  At (gamma, c):  [1.56944182 6.43658449]\n",
      "error of particle- 35 is (training, test) (0, 29)  At (gamma, c):  [2.34338275 5.9741346 ]\n",
      "error of particle- 36 is (training, test) (0, 13)  At (gamma, c):  [1.28220283 6.59091128]\n",
      "error of particle- 37 is (training, test) (0, 21)  At (gamma, c):  [2.00681061 6.36872474]\n",
      "error of particle- 38 is (training, test) (0, 11)  At (gamma, c):  [1.00841951 6.52557707]\n",
      "error of particle- 39 is (training, test) (1, 10)  At (gamma, c):  [0.8508424 6.7259188]\n",
      "error of particle- 40 is (training, test) (0, 11)  At (gamma, c):  [1.17274009 7.06257032]\n"
     ]
    },
    {
     "name": "stderr",
     "output_type": "stream",
     "text": [
      "*c* argument looks like a single numeric RGB or RGBA sequence, which should be avoided as value-mapping will have precedence in case its length matches with *x* & *y*.  Please use the *color* keyword-argument or provide a 2D array with a single row if you intend to specify the same RGB or RGBA value for all points.\n"
     ]
    },
    {
     "name": "stdout",
     "output_type": "stream",
     "text": [
      "The best position is  [0.84680633 6.74578029] in iteration number 5 with error (train, test): (1, 10)\n",
      "iteration : 7\n"
     ]
    },
    {
     "data": {
      "image/png": "[encoded data removed]",
      "text/plain": [
       "<Figure size 432x288 with 1 Axes>"
      ]
     },
     "metadata": {
      "needs_background": "light"
     },
     "output_type": "display_data"
    },
    {
     "name": "stdout",
     "output_type": "stream",
     "text": [
      "error of particle- 1 is (training, test) (0, 11)  At (gamma, c):  [1.15877978 7.37059981]\n",
      "error of particle- 2 is (training, test) (0, 20)  At (gamma, c):  [1.83367223 6.28384145]\n",
      "error of particle- 3 is (training, test) (0, 18)  At (gamma, c):  [1.63174638 5.68747902]\n",
      "error of particle- 4 is (training, test) (0, 11)  At (gamma, c):  [1.24232577 6.78432743]\n",
      "error of particle- 5 is (training, test) (0, 44)  At (gamma, c):  [2.73337669 5.56931761]\n",
      "error of particle- 6 is (training, test) (0, 11)  At (gamma, c):  [1.11650997 6.66556062]\n",
      "error of particle- 7 is (training, test) (0, 11)  At (gamma, c):  [1.24889169 6.61722132]\n",
      "error of particle- 8 is (training, test) (0, 21)  At (gamma, c):  [1.95781817 6.90027706]\n",
      "error of particle- 9 is (training, test) (0, 31)  At (gamma, c):  [2.38176679 6.15795904]\n",
      "error of particle- 10 is (training, test) (0, 11)  At (gamma, c):  [1.01248583 6.4806386 ]\n",
      "error of particle- 11 is (training, test) (0, 29)  At (gamma, c):  [2.34656346 6.24624058]\n",
      "error of particle- 12 is (training, test) (0, 24)  At (gamma, c):  [2.15465563 7.01109268]\n",
      "error of particle- 13 is (training, test) (0, 11)  At (gamma, c):  [0.9530606  6.73571101]\n",
      "error of particle- 14 is (training, test) (0, 37)  At (gamma, c):  [2.51409614 7.06063408]\n",
      "error of particle- 15 is (training, test) (0, 11)  At (gamma, c):  [1.09560853 5.87876908]\n",
      "error of particle- 16 is (training, test) (0, 14)  At (gamma, c):  [1.41214165 7.33827624]\n",
      "error of particle- 17 is (training, test) (0, 37)  At (gamma, c):  [2.53311512 6.89112062]\n",
      "error of particle- 18 is (training, test) (0, 47)  At (gamma, c):  [2.81460569 7.52433525]\n",
      "error of particle- 19 is (training, test) (0, 39)  At (gamma, c):  [2.61422635 6.6604343 ]\n",
      "error of particle- 20 is (training, test) (0, 25)  At (gamma, c):  [2.16496265 5.35539011]\n",
      "error of particle- 21 is (training, test) (1, 11)  At (gamma, c):  [0.96356465 6.24787817]\n",
      "error of particle- 22 is (training, test) (0, 13)  At (gamma, c):  [1.32278049 6.51105626]\n",
      "error of particle- 23 is (training, test) (0, 27)  At (gamma, c):  [2.17651035 6.98376529]\n",
      "error of particle- 24 is (training, test) (0, 20)  At (gamma, c):  [1.83406726 6.71424698]\n",
      "error of particle- 25 is (training, test) (0, 13)  At (gamma, c):  [1.35064273 6.366723  ]\n",
      "error of particle- 26 is (training, test) (0, 23)  At (gamma, c):  [2.12034697 4.59116138]\n",
      "error of particle- 27 is (training, test) (0, 11)  At (gamma, c):  [1.14024154 6.00470054]\n",
      "error of particle- 28 is (training, test) (0, 19)  At (gamma, c):  [1.78419928 5.92117838]\n",
      "error of particle- 29 is (training, test) (0, 20)  At (gamma, c):  [1.83610725 5.95427248]\n",
      "error of particle- 30 is (training, test) (1, 10)  At (gamma, c):  [0.84680633 6.74578029]\n",
      "error of particle- 31 is (training, test) (0, 31)  At (gamma, c):  [2.39200008 7.22798586]\n",
      "error of particle- 32 is (training, test) (0, 22)  At (gamma, c):  [2.02515112 6.83519215]\n",
      "error of particle- 33 is (training, test) (0, 11)  At (gamma, c):  [1.04794205 5.98732193]\n",
      "error of particle- 34 is (training, test) (0, 13)  At (gamma, c):  [1.36155796 6.52553226]\n",
      "error of particle- 35 is (training, test) (0, 21)  At (gamma, c):  [1.98949764 6.15660034]\n",
      "error of particle- 36 is (training, test) (0, 11)  At (gamma, c):  [1.08264269 6.66189412]\n",
      "error of particle- 37 is (training, test) (0, 17)  At (gamma, c):  [1.49966912 6.53356941]\n",
      "error of particle- 38 is (training, test) (0, 11)  At (gamma, c):  [0.96095582 6.59024789]\n",
      "error of particle- 39 is (training, test) (1, 10)  At (gamma, c):  [0.84948387 6.73260413]\n",
      "error of particle- 40 is (training, test) (0, 11)  At (gamma, c):  [1.03394991 6.92767376]\n"
     ]
    },
    {
     "name": "stderr",
     "output_type": "stream",
     "text": [
      "*c* argument looks like a single numeric RGB or RGBA sequence, which should be avoided as value-mapping will have precedence in case its length matches with *x* & *y*.  Please use the *color* keyword-argument or provide a 2D array with a single row if you intend to specify the same RGB or RGBA value for all points.\n"
     ]
    },
    {
     "name": "stdout",
     "output_type": "stream",
     "text": [
      "The best position is  [0.84680633 6.74578029] in iteration number 6 with error (train, test): (1, 10)\n",
      "iteration : 8\n"
     ]
    },
    {
     "data": {
      "image/png": "[encoded data removed]",
      "text/plain": [
       "<Figure size 432x288 with 1 Axes>"
      ]
     },
     "metadata": {
      "needs_background": "light"
     },
     "output_type": "display_data"
    },
    {
     "name": "stdout",
     "output_type": "stream",
     "text": [
      "error of particle- 1 is (training, test) (0, 11)  At (gamma, c):  [1.07474469 7.20229458]\n",
      "error of particle- 2 is (training, test) (0, 17)  At (gamma, c):  [1.55006977 6.416592  ]\n",
      "error of particle- 3 is (training, test) (0, 15)  At (gamma, c):  [1.44120961 5.94437163]\n",
      "error of particle- 4 is (training, test) (0, 11)  At (gamma, c):  [1.17839441 6.77809671]\n",
      "error of particle- 5 is (training, test) (0, 39)  At (gamma, c):  [2.57700053 5.66683357]\n",
      "error of particle- 6 is (training, test) (0, 11)  At (gamma, c):  [1.09486311 6.67199919]\n",
      "error of particle- 7 is (training, test) (0, 11)  At (gamma, c):  [1.12145816 6.65796571]\n",
      "error of particle- 8 is (training, test) (0, 18)  At (gamma, c):  [1.5759926  6.84718058]\n",
      "error of particle- 9 is (training, test) (0, 21)  At (gamma, c):  [1.98772931 6.30885778]\n",
      "error of particle- 10 is (training, test) (0, 11)  At (gamma, c):  [0.9696625  6.54917002]\n",
      "error of particle- 11 is (training, test) (0, 20)  At (gamma, c):  [1.94675171 6.37941003]\n",
      "error of particle- 12 is (training, test) (0, 17)  At (gamma, c):  [1.53361973 6.88510835]\n",
      "error of particle- 13 is (training, test) (0, 11)  At (gamma, c):  [0.94001595 6.7369472 ]\n",
      "error of particle- 14 is (training, test) (0, 28)  At (gamma, c):  [2.28791925 7.01792246]\n",
      "error of particle- 15 is (training, test) (0, 11)  At (gamma, c):  [1.03373866 6.09436956]\n",
      "error of particle- 16 is (training, test) (0, 13)  At (gamma, c):  [1.33582122 7.25828911]\n",
      "error of particle- 17 is (training, test) (0, 28)  At (gamma, c):  [2.21607561 6.86379548]\n",
      "error of particle- 18 is (training, test) (0, 28)  At (gamma, c):  [2.28467026 7.31466761]\n",
      "error of particle- 19 is (training, test) (0, 19)  At (gamma, c):  [1.77786075 6.70082111]\n",
      "error of particle- 20 is (training, test) (0, 19)  At (gamma, c):  [1.76709494 5.77506064]\n",
      "error of particle- 21 is (training, test) (1, 11)  At (gamma, c):  [0.9066246 6.4906923]\n",
      "error of particle- 22 is (training, test) (0, 13)  At (gamma, c):  [1.28782201 6.52829584]\n",
      "error of particle- 23 is (training, test) (0, 19)  At (gamma, c):  [1.75063848 6.90754448]\n",
      "error of particle- 24 is (training, test) (0, 19)  At (gamma, c):  [1.69776362 6.71860054]\n",
      "error of particle- 25 is (training, test) (0, 11)  At (gamma, c):  [1.17221901 6.50095866]\n",
      "error of particle- 26 is (training, test) (0, 16)  At (gamma, c):  [1.48683842 5.66295246]\n",
      "error of particle- 27 is (training, test) (0, 11)  At (gamma, c):  [1.08388578 6.14702875]\n",
      "error of particle- 28 is (training, test) (0, 19)  At (gamma, c):  [1.73826004 5.96159002]\n",
      "error of particle- 29 is (training, test) (0, 15)  At (gamma, c):  [1.44178656 6.26975577]\n",
      "error of particle- 30 is (training, test) (1, 10)  At (gamma, c):  [0.84680633 6.74578029]\n",
      "error of particle- 31 is (training, test) (0, 27)  At (gamma, c):  [2.20531349 7.16972694]\n",
      "error of particle- 32 is (training, test) (0, 20)  At (gamma, c):  [1.87423882 6.82374105]\n",
      "error of particle- 33 is (training, test) (1, 11)  At (gamma, c):  [0.98140206 6.23823612]\n",
      "error of particle- 34 is (training, test) (0, 11)  At (gamma, c):  [1.18414616 6.60144188]\n",
      "error of particle- 35 is (training, test) (0, 18)  At (gamma, c):  [1.57323056 6.37123067]\n",
      "error of particle- 36 is (training, test) (0, 11)  At (gamma, c):  [1.05191407 6.67282418]\n",
      "error of particle- 37 is (training, test) (0, 13)  At (gamma, c):  [1.29247852 6.60091602]\n",
      "error of particle- 38 is (training, test) (1, 11)  At (gamma, c):  [0.93037361 6.63191715]\n",
      "error of particle- 39 is (training, test) (1, 10)  At (gamma, c):  [0.84839623 6.73795641]\n",
      "error of particle- 40 is (training, test) (0, 11)  At (gamma, c):  [0.97017476 6.86568776]\n"
     ]
    },
    {
     "name": "stderr",
     "output_type": "stream",
     "text": [
      "*c* argument looks like a single numeric RGB or RGBA sequence, which should be avoided as value-mapping will have precedence in case its length matches with *x* & *y*.  Please use the *color* keyword-argument or provide a 2D array with a single row if you intend to specify the same RGB or RGBA value for all points.\n"
     ]
    },
    {
     "name": "stdout",
     "output_type": "stream",
     "text": [
      "The best position is  [0.84680633 6.74578029] in iteration number 7 with error (train, test): (1, 10)\n",
      "iteration : 9\n"
     ]
    },
    {
     "data": {
      "image/png": "[encoded data removed]",
      "text/plain": [
       "<Figure size 432x288 with 1 Axes>"
      ]
     },
     "metadata": {
      "needs_background": "light"
     },
     "output_type": "display_data"
    },
    {
     "name": "stdout",
     "output_type": "stream",
     "text": [
      "error of particle- 1 is (training, test) (0, 11)  At (gamma, c):  [1.04286502 7.13844607]\n",
      "error of particle- 2 is (training, test) (0, 13)  At (gamma, c):  [1.32446348 6.52219532]\n",
      "error of particle- 3 is (training, test) (0, 14)  At (gamma, c):  [1.39651446 6.0046322 ]\n",
      "error of particle- 4 is (training, test) (0, 11)  At (gamma, c):  [1.11281271 6.77170515]\n",
      "error of particle- 5 is (training, test) (0, 22)  At (gamma, c):  [2.05088062 5.99492122]\n",
      "error of particle- 6 is (training, test) (0, 11)  At (gamma, c):  [0.99942428 6.70038617]\n",
      "error of particle- 7 is (training, test) (0, 11)  At (gamma, c):  [1.08252492 6.67041386]\n",
      "error of particle- 8 is (training, test) (0, 11)  At (gamma, c):  [1.24034893 6.80050614]\n",
      "error of particle- 9 is (training, test) (0, 20)  At (gamma, c):  [1.68750745 6.42382934]\n",
      "error of particle- 10 is (training, test) (1, 11)  At (gamma, c):  [0.92167869 6.62595989]\n",
      "error of particle- 11 is (training, test) (0, 20)  At (gamma, c):  [1.87219871 6.40424218]\n",
      "error of particle- 12 is (training, test) (0, 11)  At (gamma, c):  [1.20107925 6.81764866]\n",
      "error of particle- 13 is (training, test) (1, 11)  At (gamma, c):  [0.92456806 6.73841113]\n",
      "error of particle- 14 is (training, test) (0, 22)  At (gamma, c):  [2.02621972 6.96850269]\n",
      "error of particle- 15 is (training, test) (1, 11)  At (gamma, c):  [0.95870775 6.35583281]\n",
      "error of particle- 16 is (training, test) (0, 11)  At (gamma, c):  [1.12731662 7.03976725]\n",
      "error of particle- 17 is (training, test) (0, 21)  At (gamma, c):  [2.00294098 6.84542574]\n",
      "error of particle- 18 is (training, test) (0, 23)  At (gamma, c):  [2.1209405  7.24988833]\n",
      "error of particle- 19 is (training, test) (0, 16)  At (gamma, c):  [1.48114884 6.71514887]\n",
      "error of particle- 20 is (training, test) (0, 19)  At (gamma, c):  [1.76522819 5.77702969]\n",
      "error of particle- 21 is (training, test) (1, 11)  At (gamma, c):  [0.90046894 6.51694239]\n",
      "error of particle- 22 is (training, test) (0, 11)  At (gamma, c):  [1.21867801 6.56239382]\n",
      "error of particle- 23 is (training, test) (0, 14)  At (gamma, c):  [1.4094622  6.84648214]\n",
      "error of particle- 24 is (training, test) (0, 18)  At (gamma, c):  [1.63200764 6.7207008 ]\n",
      "error of particle- 25 is (training, test) (0, 11)  At (gamma, c):  [1.04228971 6.59870993]\n",
      "error of particle- 26 is (training, test) (0, 13)  At (gamma, c):  [1.34747742 5.8987281 ]\n",
      "error of particle- 27 is (training, test) (0, 11)  At (gamma, c):  [1.01298464 6.3260918 ]\n",
      "error of particle- 28 is (training, test) (0, 18)  At (gamma, c):  [1.60521163 6.07862949]\n",
      "error of particle- 29 is (training, test) (0, 11)  At (gamma, c):  [1.21509243 6.45112644]\n",
      "error of particle- 30 is (training, test) (1, 10)  At (gamma, c):  [0.84680633 6.74578029]\n",
      "error of particle- 31 is (training, test) (0, 19)  At (gamma, c):  [1.78928061 7.03989638]\n",
      "error of particle- 32 is (training, test) (0, 15)  At (gamma, c):  [1.4452163  6.79118716]\n",
      "error of particle- 33 is (training, test) (1, 11)  At (gamma, c):  [0.97424961 6.26520715]\n",
      "error of particle- 34 is (training, test) (0, 11)  At (gamma, c):  [1.05010579 6.65879406]\n",
      "error of particle- 35 is (training, test) (0, 11)  At (gamma, c):  [1.25924428 6.53312428]\n",
      "error of particle- 36 is (training, test) (0, 11)  At (gamma, c):  [1.03787003 6.6778196 ]\n",
      "error of particle- 37 is (training, test) (0, 11)  At (gamma, c):  [1.16652235 6.64185766]\n",
      "error of particle- 38 is (training, test) (1, 11)  At (gamma, c):  [0.90534031 6.66602583]\n",
      "error of particle- 39 is (training, test) (1, 10)  At (gamma, c):  [0.84767627 6.7414993 ]\n",
      "error of particle- 40 is (training, test) (0, 11)  At (gamma, c):  [0.94099197 6.83732366]\n"
     ]
    },
    {
     "name": "stderr",
     "output_type": "stream",
     "text": [
      "*c* argument looks like a single numeric RGB or RGBA sequence, which should be avoided as value-mapping will have precedence in case its length matches with *x* & *y*.  Please use the *color* keyword-argument or provide a 2D array with a single row if you intend to specify the same RGB or RGBA value for all points.\n"
     ]
    },
    {
     "name": "stdout",
     "output_type": "stream",
     "text": [
      "The best position is  [0.84680633 6.74578029] in iteration number 8 with error (train, test): (1, 10)\n",
      "iteration : 10\n"
     ]
    },
    {
     "data": {
      "image/png": "[encoded data removed]",
      "text/plain": [
       "<Figure size 432x288 with 1 Axes>"
      ]
     },
     "metadata": {
      "needs_background": "light"
     },
     "output_type": "display_data"
    },
    {
     "name": "stdout",
     "output_type": "stream",
     "text": [
      "error of particle- 1 is (training, test) (0, 11)  At (gamma, c):  [0.95408468 6.96063708]\n",
      "error of particle- 2 is (training, test) (0, 11)  At (gamma, c):  [1.21128593 6.57517223]\n",
      "error of particle- 3 is (training, test) (0, 13)  At (gamma, c):  [1.31355586 6.11648176]\n",
      "error of particle- 4 is (training, test) (0, 11)  At (gamma, c):  [1.07681335 6.76819667]\n",
      "error of particle- 5 is (training, test) (0, 20)  At (gamma, c):  [1.8657686  6.11035682]\n",
      "error of particle- 6 is (training, test) (0, 11)  At (gamma, c):  [0.96830248 6.70964292]\n",
      "error of particle- 7 is (training, test) (0, 11)  At (gamma, c):  [1.05967834 6.67771861]\n",
      "error of particle- 8 is (training, test) (0, 11)  At (gamma, c):  [1.14840438 6.78772037]\n",
      "error of particle- 9 is (training, test) (0, 17)  At (gamma, c):  [1.5539794  6.47496461]\n",
      "error of particle- 10 is (training, test) (1, 11)  At (gamma, c):  [0.89988819 6.66083186]\n",
      "error of particle- 11 is (training, test) (0, 16)  At (gamma, c):  [1.48533702 6.53309823]\n",
      "error of particle- 12 is (training, test) (0, 11)  At (gamma, c):  [1.16239069 6.80980024]\n",
      "error of particle- 13 is (training, test) (1, 11)  At (gamma, c):  [0.88619428 6.74204766]\n",
      "error of particle- 14 is (training, test) (0, 21)  At (gamma, c):  [1.95126422 6.95434796]\n",
      "error of particle- 15 is (training, test) (1, 11)  At (gamma, c):  [0.93369526 6.44299486]\n",
      "error of particle- 16 is (training, test) (0, 11)  At (gamma, c):  [1.0296309  6.93738838]\n",
      "error of particle- 17 is (training, test) (0, 16)  At (gamma, c):  [1.49149933 6.80134538]\n",
      "error of particle- 18 is (training, test) (0, 19)  At (gamma, c):  [1.74259696 7.10019765]\n",
      "error of particle- 19 is (training, test) (0, 13)  At (gamma, c):  [1.30688959 6.72356358]\n",
      "error of particle- 20 is (training, test) (0, 15)  At (gamma, c):  [1.44662496 6.1130921 ]\n",
      "error of particle- 21 is (training, test) (1, 11)  At (gamma, c):  [0.89236044 6.55152013]\n",
      "error of particle- 22 is (training, test) (0, 11)  At (gamma, c):  [1.16711448 6.5878221 ]\n",
      "error of particle- 23 is (training, test) (0, 11)  At (gamma, c):  [1.2035657  6.80963163]\n",
      "error of particle- 24 is (training, test) (0, 13)  At (gamma, c):  [1.37099742 6.72903752]\n",
      "error of particle- 25 is (training, test) (0, 11)  At (gamma, c):  [0.96202324 6.65909777]\n",
      "error of particle- 26 is (training, test) (0, 11)  At (gamma, c):  [1.22092006 6.11284208]\n",
      "error of particle- 27 is (training, test) (0, 11)  At (gamma, c):  [0.99017998 6.38368566]\n",
      "error of particle- 28 is (training, test) (0, 13)  At (gamma, c):  [1.28316543 6.36192574]\n",
      "error of particle- 29 is (training, test) (0, 11)  At (gamma, c):  [1.09398227 6.54802278]\n",
      "error of particle- 30 is (training, test) (1, 10)  At (gamma, c):  [0.84680633 6.74578029]\n",
      "error of particle- 31 is (training, test) (0, 14)  At (gamma, c):  [1.42698805 6.92683646]\n",
      "error of particle- 32 is (training, test) (0, 11)  At (gamma, c):  [1.22610213 6.77456095]\n",
      "error of particle- 33 is (training, test) (1, 11)  At (gamma, c):  [0.94616883 6.37109637]\n",
      "error of particle- 34 is (training, test) (0, 11)  At (gamma, c):  [1.00026122 6.68012118]\n",
      "error of particle- 35 is (training, test) (0, 11)  At (gamma, c):  [1.2096774  6.55868132]\n",
      "error of particle- 36 is (training, test) (0, 11)  At (gamma, c):  [1.01332803 6.68654911]\n",
      "error of particle- 37 is (training, test) (0, 11)  At (gamma, c):  [1.00785252 6.69343276]\n",
      "error of particle- 38 is (training, test) (1, 11)  At (gamma, c):  [0.89267154 6.68328744]\n",
      "error of particle- 39 is (training, test) (1, 10)  At (gamma, c):  [0.84746506 6.74253867]\n",
      "error of particle- 40 is (training, test) (0, 11)  At (gamma, c):  [0.93638619 6.83284708]\n",
      "The best position is  [0.84680633 6.74578029] in iteration number 9 with error (train, test): (1, 10)\n",
      "The best position is  [0.84680633 6.74578029] in iteration number 10 with error (train, test): (1, 10)\n",
      "Wall time: 1h 15min 29s\n"
     ]
    }
   ],
   "source": [
    "%%time\n",
    "particle_position_vector = np.array([np.array([random.random()*10, random.random()*10]) for _ in range(n_particles)])\n",
    "pbest_position = particle_position_vector\n",
    "pbest_fitness_value = np.array([float('inf') for _ in range(n_particles)])\n",
    "gbest_fitness_value = np.array([float('inf'), float('inf')])\n",
    "gbest_position = np.array([float('inf'), float('inf')])\n",
    "\n",
    "velocity_vector = ([np.array([0, 0]) for _ in range(n_particles)])\n",
    "iteration = 0\n",
    "while iteration < n_iterations:\n",
    "    print(\"iteration :\", iteration+1)\n",
    "    plot(particle_position_vector)\n",
    "    for i in range(n_particles):\n",
    "        fitness_cadidate = fitness_function(particle_position_vector[i])\n",
    "        print(\"error of particle-\",i+1,\"is (training, test)\", fitness_cadidate, \" At (gamma, c): \", particle_position_vector[i])\n",
    "        \n",
    "        if(pbest_fitness_value[i] > fitness_cadidate[1]):\n",
    "            pbest_fitness_value[i] = fitness_cadidate[1]\n",
    "            pbest_position[i] = particle_position_vector[i]\n",
    "\n",
    "        if(gbest_fitness_value[1] > fitness_cadidate[1]):\n",
    "            gbest_fitness_value = fitness_cadidate\n",
    "            gbest_position = particle_position_vector[i]\n",
    "        elif(gbest_fitness_value[1] == fitness_cadidate[1] and gbest_fitness_value[0] > fitness_cadidate[0]):\n",
    "            gbest_fitness_value = fitness_cadidate\n",
    "            gbest_position = particle_position_vector[i]\n",
    "            \n",
    "    for i in range(n_particles):\n",
    "        new_velocity = (W*velocity_vector[i]) + (c1*random.random()) * (pbest_position[i] - particle_position_vector[i]) + (c2*random.random()) * (gbest_position-particle_position_vector[i])\n",
    "        new_position = new_velocity + particle_position_vector[i]\n",
    "        particle_position_vector[i] = new_position\n",
    "    \n",
    "    print(\"The best position is \", gbest_position, \"in iteration number\", iteration, \"with error (train, test):\", fitness_function(gbest_position))    \n",
    "    iteration = iteration + 1\n",
    "    \n",
    "print(\"The best position is \", gbest_position, \"in iteration number\", iteration, \"with error (train, test):\", fitness_function(gbest_position))"
   ]
  },
  {
   "cell_type": "code",
   "execution_count": 9,
   "id": "dba74abf",
   "metadata": {},
   "outputs": [
    {
     "name": "stdout",
     "output_type": "stream",
     "text": [
      "Akurasi SVM dengan optimasi PSO 65.75963718820861\n",
      "              precision    recall  f1-score   support\n",
      "\n",
      "       anger       0.65      0.76      0.71       119\n",
      "        fear       0.92      0.58      0.71        62\n",
      "       happy       0.69      0.59      0.63       111\n",
      "        love       0.83      0.73      0.78        55\n",
      "     sadness       0.48      0.62      0.54        94\n",
      "\n",
      "    accuracy                           0.66       441\n",
      "   macro avg       0.72      0.66      0.67       441\n",
      "weighted avg       0.69      0.66      0.66       441\n",
      "\n",
      "[[91  1  5  0 22]\n",
      " [ 9 36 10  0  7]\n",
      " [17  0 65  3 26]\n",
      " [ 0  1  6 40  8]\n",
      " [22  1  8  5 58]]\n"
     ]
    },
    {
     "data": {
      "text/plain": [
       "<AxesSubplot:>"
      ]
     },
     "execution_count": 9,
     "metadata": {},
     "output_type": "execute_result"
    },
    {
     "data": {
      "image/png": "[encoded data removed]",
      "text/plain": [
       "<Figure size 432x288 with 2 Axes>"
      ]
     },
     "metadata": {
      "needs_background": "light"
     },
     "output_type": "display_data"
    }
   ],
   "source": [
    "SVM = SVC(kernel= 'rbf', gamma= gbest_position[0], C= gbest_position[1])\n",
    "SVM.fit(X_train, y_train)\n",
    "predictions_SVM = SVM.predict(X_test)\n",
    "accuracy = accuracy_score(predictions_SVM, y_test)\n",
    "print('Akurasi SVM dengan optimasi PSO', accuracy*100)\n",
    "\n",
    "x = df['clean_data'].values.astype('U')\n",
    "y = df['label'].values\n",
    "\n",
    "encoder = LabelEncoder()\n",
    "encoder.fit(y)\n",
    "target_names = encoder.classes_\n",
    "\n",
    "print(classification_report(y_test, predictions_SVM, target_names=target_names))\n",
    "print(confusion_matrix(y_test, predictions_SVM, labels=[0, 1, 2, 3, 4]))\n",
    "\n",
    "cf = confusion_matrix(y_test, predictions_SVM, labels=[0, 1, 2, 3, 4])\n",
    "sns.heatmap(cf, annot=True, fmt='d')"
   ]
  },
  {
   "cell_type": "code",
   "execution_count": null,
   "id": "bdf37195",
   "metadata": {},
   "outputs": [],
   "source": []
  },
  {
   "cell_type": "code",
   "execution_count": null,
   "id": "622712d0",
   "metadata": {},
   "outputs": [],
   "source": []
  }
 ],
 "metadata": {
  "kernelspec": {
   "display_name": "Python 3 (ipykernel)",
   "language": "python",
   "name": "python3"
  },
  "language_info": {
   "codemirror_mode": {
    "name": "ipython",
    "version": 3
   },
   "file_extension": ".py",
   "mimetype": "text/x-python",
   "name": "python",
   "nbconvert_exporter": "python",
   "pygments_lexer": "ipython3",
   "version": "3.9.7"
  }
 },
 "nbformat": 4,
 "nbformat_minor": 5
}
