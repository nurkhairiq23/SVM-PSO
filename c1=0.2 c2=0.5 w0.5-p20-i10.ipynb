{
 "cells": [
  {
   "cell_type": "code",
   "execution_count": 1,
   "id": "67b917d9",
   "metadata": {},
   "outputs": [],
   "source": [
    "import pandas as pd\n",
    "import numpy as np\n",
    "import random\n",
    "import csv\n",
    "from sklearn.preprocessing import LabelEncoder\n",
    "from sklearn.feature_extraction.text import TfidfVectorizer\n",
    "from sklearn.model_selection import train_test_split\n",
    "from sklearn.svm import SVC\n",
    "from sklearn.metrics import accuracy_score\n",
    "from sklearn.metrics import classification_report, confusion_matrix  \n",
    "import matplotlib.pyplot as plt\n",
    "import seaborn as sns"
   ]
  },
  {
   "cell_type": "code",
   "execution_count": 2,
   "id": "3fc2c868",
   "metadata": {},
   "outputs": [
    {
     "data": {
      "text/html": [
       "<div>\n",
       "<style scoped>\n",
       "    .dataframe tbody tr th:only-of-type {\n",
       "        vertical-align: middle;\n",
       "    }\n",
       "\n",
       "    .dataframe tbody tr th {\n",
       "        vertical-align: top;\n",
       "    }\n",
       "\n",
       "    .dataframe thead th {\n",
       "        text-align: right;\n",
       "    }\n",
       "</style>\n",
       "<table border=\"1\" class=\"dataframe\">\n",
       "  <thead>\n",
       "    <tr style=\"text-align: right;\">\n",
       "      <th></th>\n",
       "      <th>label</th>\n",
       "      <th>tweet</th>\n",
       "      <th>clean_data</th>\n",
       "    </tr>\n",
       "  </thead>\n",
       "  <tbody>\n",
       "    <tr>\n",
       "      <th>0</th>\n",
       "      <td>anger</td>\n",
       "      <td>Soal jln Jatibaru,polisi tdk bs GERTAK gubernu...</td>\n",
       "      <td>jalan jatibarupolisi gertak gubernur emangny p...</td>\n",
       "    </tr>\n",
       "    <tr>\n",
       "      <th>1</th>\n",
       "      <td>anger</td>\n",
       "      <td>Sesama cewe lho (kayaknya), harusnya bisa lebi...</td>\n",
       "      <td>cewek kayak rasain sibuk jaga rasain sakit hai...</td>\n",
       "    </tr>\n",
       "    <tr>\n",
       "      <th>2</th>\n",
       "      <td>happy</td>\n",
       "      <td>Kepingin gudeg mbarek Bu hj. Amad Foto dari go...</td>\n",
       "      <td>kepingin gudeg mbarek bu hj amad foto google s...</td>\n",
       "    </tr>\n",
       "    <tr>\n",
       "      <th>3</th>\n",
       "      <td>anger</td>\n",
       "      <td>Jln Jatibaru,bagian dari wilayah Tn Abang.Peng...</td>\n",
       "      <td>jalan jatibarubagian wilayah tn abangpengatura...</td>\n",
       "    </tr>\n",
       "    <tr>\n",
       "      <th>4</th>\n",
       "      <td>happy</td>\n",
       "      <td>Sharing pengalaman aja, kemarin jam 18.00 bata...</td>\n",
       "      <td>sharing alam kemarin jam batalin tiket stasiun...</td>\n",
       "    </tr>\n",
       "    <tr>\n",
       "      <th>...</th>\n",
       "      <td>...</td>\n",
       "      <td>...</td>\n",
       "      <td>...</td>\n",
       "    </tr>\n",
       "    <tr>\n",
       "      <th>4396</th>\n",
       "      <td>love</td>\n",
       "      <td>Tahukah kamu, bahwa saat itu papa memejamkan m...</td>\n",
       "      <td>papa mejam mata tahan gejolak batin papa tapu ...</td>\n",
       "    </tr>\n",
       "    <tr>\n",
       "      <th>4397</th>\n",
       "      <td>fear</td>\n",
       "      <td>Sulitnya menetapkan Calon Wapresnya Jokowi di ...</td>\n",
       "      <td>sulit calon wapresnya jokowi pilpres salah gem...</td>\n",
       "    </tr>\n",
       "    <tr>\n",
       "      <th>4398</th>\n",
       "      <td>anger</td>\n",
       "      <td>5. masa depannya nggak jelas. lha iya, gimana ...</td>\n",
       "      <td>iya gimana coba lulus seni nari kerja narinari...</td>\n",
       "    </tr>\n",
       "    <tr>\n",
       "      <th>4399</th>\n",
       "      <td>happy</td>\n",
       "      <td>[USERNAME] dulu beneran ada mahasiswa Teknik U...</td>\n",
       "      <td>mahasiswa teknik ui nembak pacar sahur kukus t...</td>\n",
       "    </tr>\n",
       "    <tr>\n",
       "      <th>4400</th>\n",
       "      <td>sadness</td>\n",
       "      <td>Ya Allah, hanya Engkau yang mengetahui rasa sa...</td>\n",
       "      <td>engkau sakit hati sembuh</td>\n",
       "    </tr>\n",
       "  </tbody>\n",
       "</table>\n",
       "<p>4401 rows × 3 columns</p>\n",
       "</div>"
      ],
      "text/plain": [
       "        label                                              tweet  \\\n",
       "0       anger  Soal jln Jatibaru,polisi tdk bs GERTAK gubernu...   \n",
       "1       anger  Sesama cewe lho (kayaknya), harusnya bisa lebi...   \n",
       "2       happy  Kepingin gudeg mbarek Bu hj. Amad Foto dari go...   \n",
       "3       anger  Jln Jatibaru,bagian dari wilayah Tn Abang.Peng...   \n",
       "4       happy  Sharing pengalaman aja, kemarin jam 18.00 bata...   \n",
       "...       ...                                                ...   \n",
       "4396     love  Tahukah kamu, bahwa saat itu papa memejamkan m...   \n",
       "4397     fear  Sulitnya menetapkan Calon Wapresnya Jokowi di ...   \n",
       "4398    anger  5. masa depannya nggak jelas. lha iya, gimana ...   \n",
       "4399    happy  [USERNAME] dulu beneran ada mahasiswa Teknik U...   \n",
       "4400  sadness  Ya Allah, hanya Engkau yang mengetahui rasa sa...   \n",
       "\n",
       "                                             clean_data  \n",
       "0     jalan jatibarupolisi gertak gubernur emangny p...  \n",
       "1     cewek kayak rasain sibuk jaga rasain sakit hai...  \n",
       "2     kepingin gudeg mbarek bu hj amad foto google s...  \n",
       "3     jalan jatibarubagian wilayah tn abangpengatura...  \n",
       "4     sharing alam kemarin jam batalin tiket stasiun...  \n",
       "...                                                 ...  \n",
       "4396  papa mejam mata tahan gejolak batin papa tapu ...  \n",
       "4397  sulit calon wapresnya jokowi pilpres salah gem...  \n",
       "4398  iya gimana coba lulus seni nari kerja narinari...  \n",
       "4399  mahasiswa teknik ui nembak pacar sahur kukus t...  \n",
       "4400                           engkau sakit hati sembuh  \n",
       "\n",
       "[4401 rows x 3 columns]"
      ]
     },
     "execution_count": 2,
     "metadata": {},
     "output_type": "execute_result"
    }
   ],
   "source": [
    "df= pd.read_excel('../Dataset/Clean Dataset.xlsx') \n",
    "df"
   ]
  },
  {
   "cell_type": "code",
   "execution_count": 3,
   "id": "2e72187d",
   "metadata": {},
   "outputs": [],
   "source": [
    "X = df['clean_data'].values.astype('U')\n",
    "y = df['label'].values\n",
    "X_train, X_test, y_train, y_test = train_test_split(X, y, test_size = 0.10, random_state = 42)"
   ]
  },
  {
   "cell_type": "code",
   "execution_count": 4,
   "id": "476fd6fd",
   "metadata": {},
   "outputs": [],
   "source": [
    "# transformasi data label\n",
    "encoder = LabelEncoder()\n",
    "encoder.fit(y)\n",
    "y_train = encoder.transform(y_train)\n",
    "y_test = encoder.transform(y_test)\n",
    "    \n",
    "# term weighting\n",
    "tfidf = TfidfVectorizer()\n",
    "tfidf.fit(X)\n",
    "    \n",
    "X_train = tfidf.transform(X_train)\n",
    "X_test = tfidf.transform(X_test)"
   ]
  },
  {
   "cell_type": "code",
   "execution_count": 5,
   "id": "da80e298",
   "metadata": {},
   "outputs": [],
   "source": [
    "#################### PARAMETERS ####################\n",
    "W = 0.5\n",
    "c1 = 0.2\n",
    "c2 = 0.5\n",
    "\n",
    "n_iterations = 10\n",
    "n_particles = 20"
   ]
  },
  {
   "cell_type": "code",
   "execution_count": 6,
   "id": "9d7ef92a",
   "metadata": {},
   "outputs": [],
   "source": [
    "#mencari nilai 0-1 loss dari tiap partikel\n",
    "#partikle = (gamma,C) untuk rbf\n",
    "def fitness_function(position):\n",
    "    svclassifier = SVC(kernel='rbf', gamma = position[0], C = position[1] )  \n",
    "    svclassifier.fit(X_train, y_train)\n",
    "    y_train_pred = svclassifier.predict(X_train)\n",
    "    y_test_pred = svclassifier.predict(X_test)   \n",
    "    return confusion_matrix(y_train,y_train_pred)[0][1] + confusion_matrix(y_train,y_train_pred)[1][0], confusion_matrix(y_test,y_test_pred)[0][1] + confusion_matrix(y_test,y_test_pred)[1][0]\n",
    "\n",
    "#plotting (x axis = gamma, y axis = C)\n",
    "def plot(position):\n",
    "    x = []\n",
    "    y = []\n",
    "    for i in range(0,len(particle_position_vector)):\n",
    "        x.append(particle_position_vector[i][0])\n",
    "        y.append(particle_position_vector[i][1])\n",
    "    colors = (0,0,0)\n",
    "    plt.scatter(x, y, c = colors, alpha = 0.1)\n",
    "    plt.xlabel('C')\n",
    "    plt.ylabel('gamma')\n",
    "    plt.axis([0,10,0,10])\n",
    "    plt.gca().set_aspect('equal', adjustable='box')\n",
    "    return plt.show()"
   ]
  },
  {
   "cell_type": "code",
   "execution_count": 7,
   "id": "5885076e",
   "metadata": {},
   "outputs": [
    {
     "name": "stderr",
     "output_type": "stream",
     "text": [
      "*c* argument looks like a single numeric RGB or RGBA sequence, which should be avoided as value-mapping will have precedence in case its length matches with *x* & *y*.  Please use the *color* keyword-argument or provide a 2D array with a single row if you intend to specify the same RGB or RGBA value for all points.\n"
     ]
    },
    {
     "name": "stdout",
     "output_type": "stream",
     "text": [
      "iteration : 1\n"
     ]
    },
    {
     "data": {
      "image/png": "[encoded data removed]",
      "text/plain": [
       "<Figure size 432x288 with 1 Axes>"
      ]
     },
     "metadata": {
      "needs_background": "light"
     },
     "output_type": "display_data"
    },
    {
     "name": "stdout",
     "output_type": "stream",
     "text": [
      "error of particle- 1 is (training, test) (101, 58)  At (gamma, c):  [2.02312349 0.6128108 ]\n",
      "error of particle- 2 is (training, test) (0, 60)  At (gamma, c):  [6.39159319 9.95097456]\n",
      "error of particle- 3 is (training, test) (2, 21)  At (gamma, c):  [1.85885132 1.10383854]\n",
      "error of particle- 4 is (training, test) (0, 60)  At (gamma, c):  [7.95184743 5.29309352]\n",
      "error of particle- 5 is (training, test) (0, 60)  At (gamma, c):  [4.20283632 7.62700652]\n",
      "error of particle- 6 is (training, test) (0, 60)  At (gamma, c):  [5.06640983 2.0349858 ]\n",
      "error of particle- 7 is (training, test) (556, 60)  At (gamma, c):  [4.82256667 0.60972272]\n",
      "error of particle- 8 is (training, test) (0, 60)  At (gamma, c):  [9.69879394 4.58239255]\n",
      "error of particle- 9 is (training, test) (0, 60)  At (gamma, c):  [7.60955204 6.62965471]\n",
      "error of particle- 10 is (training, test) (0, 60)  At (gamma, c):  [4.48908371 4.60623918]\n",
      "error of particle- 11 is (training, test) (0, 60)  At (gamma, c):  [9.41924544 3.44569753]\n",
      "error of particle- 12 is (training, test) (0, 20)  At (gamma, c):  [1.85293124 8.39969757]\n",
      "error of particle- 13 is (training, test) (324, 43)  At (gamma, c):  [0.24308735 0.47122521]\n",
      "error of particle- 14 is (training, test) (0, 58)  At (gamma, c):  [3.78070737 2.69639782]\n",
      "error of particle- 15 is (training, test) (0, 22)  At (gamma, c):  [2.01725243 8.71185641]\n",
      "error of particle- 16 is (training, test) (0, 10)  At (gamma, c):  [0.78314038 8.8905211 ]\n",
      "error of particle- 17 is (training, test) (0, 60)  At (gamma, c):  [8.86925894 5.11211024]\n",
      "error of particle- 18 is (training, test) (0, 60)  At (gamma, c):  [4.70117162 3.55775241]\n",
      "error of particle- 19 is (training, test) (0, 60)  At (gamma, c):  [8.99059677 2.40933522]\n",
      "error of particle- 20 is (training, test) (0, 60)  At (gamma, c):  [7.11384067 5.73639505]\n"
     ]
    },
    {
     "name": "stderr",
     "output_type": "stream",
     "text": [
      "*c* argument looks like a single numeric RGB or RGBA sequence, which should be avoided as value-mapping will have precedence in case its length matches with *x* & *y*.  Please use the *color* keyword-argument or provide a 2D array with a single row if you intend to specify the same RGB or RGBA value for all points.\n"
     ]
    },
    {
     "name": "stdout",
     "output_type": "stream",
     "text": [
      "The best position is  [0.78314038 8.8905211 ] in iteration number 0 with error (train, test): (0, 10)\n",
      "iteration : 2\n"
     ]
    },
    {
     "data": {
      "image/png": "[encoded data removed]",
      "text/plain": [
       "<Figure size 432x288 with 1 Axes>"
      ]
     },
     "metadata": {
      "needs_background": "light"
     },
     "output_type": "display_data"
    },
    {
     "name": "stdout",
     "output_type": "stream",
     "text": [
      "error of particle- 1 is (training, test) (1, 19)  At (gamma, c):  [1.65638107 3.0610599 ]\n",
      "error of particle- 2 is (training, test) (0, 60)  At (gamma, c):  [5.49970122 9.78233448]\n",
      "error of particle- 3 is (training, test) (1, 15)  At (gamma, c):  [1.45708974 4.01204538]\n",
      "error of particle- 4 is (training, test) (0, 60)  At (gamma, c):  [6.82193448 5.86011069]\n",
      "error of particle- 5 is (training, test) (0, 58)  At (gamma, c):  [3.70885061 7.80952513]\n",
      "error of particle- 6 is (training, test) (0, 58)  At (gamma, c):  [3.75973644 4.12636614]\n",
      "error of particle- 7 is (training, test) (0, 60)  At (gamma, c):  [3.98996961 2.31654143]\n",
      "error of particle- 8 is (training, test) (0, 60)  At (gamma, c):  [7.37567459 5.7049459 ]\n",
      "error of particle- 9 is (training, test) (0, 60)  At (gamma, c):  [7.25962059 6.7455499 ]\n",
      "error of particle- 10 is (training, test) (0, 60)  At (gamma, c):  [4.02071416 5.1477011 ]\n",
      "error of particle- 11 is (training, test) (0, 60)  At (gamma, c):  [8.07492135 4.29325641]\n",
      "error of particle- 12 is (training, test) (0, 17)  At (gamma, c):  [1.50801706 8.55794532]\n",
      "error of particle- 13 is (training, test) (20, 11)  At (gamma, c):  [0.32892916 1.8094782 ]\n",
      "error of particle- 14 is (training, test) (0, 47)  At (gamma, c):  [2.81267787 4.69671812]\n",
      "error of particle- 15 is (training, test) (0, 20)  At (gamma, c):  [1.88780016 8.73059746]\n",
      "error of particle- 16 is (training, test) (0, 10)  At (gamma, c):  [0.78314038 8.8905211 ]\n",
      "error of particle- 17 is (training, test) (0, 60)  At (gamma, c):  [7.45002505 5.77527746]\n",
      "error of particle- 18 is (training, test) (0, 60)  At (gamma, c):  [4.23737824 4.18901405]\n",
      "error of particle- 19 is (training, test) (0, 60)  At (gamma, c):  [5.86082179 4.88082608]\n",
      "error of particle- 20 is (training, test) (0, 60)  At (gamma, c):  [4.16935559 7.20341712]\n",
      "The best position is  [0.78314038 8.8905211 ] in iteration number 1 with error (train, test): (0, 10)\n",
      "iteration : 3\n"
     ]
    },
    {
     "name": "stderr",
     "output_type": "stream",
     "text": [
      "*c* argument looks like a single numeric RGB or RGBA sequence, which should be avoided as value-mapping will have precedence in case its length matches with *x* & *y*.  Please use the *color* keyword-argument or provide a 2D array with a single row if you intend to specify the same RGB or RGBA value for all points.\n"
     ]
    },
    {
     "data": {
      "image/png": "[encoded data removed]",
      "text/plain": [
       "<Figure size 432x288 with 1 Axes>"
      ]
     },
     "metadata": {
      "needs_background": "light"
     },
     "output_type": "display_data"
    },
    {
     "name": "stdout",
     "output_type": "stream",
     "text": [
      "error of particle- 1 is (training, test) (0, 11)  At (gamma, c):  [1.24551409 5.80386969]\n",
      "error of particle- 2 is (training, test) (0, 60)  At (gamma, c):  [4.14544859 9.52627065]\n",
      "error of particle- 3 is (training, test) (0, 13)  At (gamma, c):  [1.3372844  4.87927294]\n",
      "error of particle- 4 is (training, test) (0, 60)  At (gamma, c):  [5.520633   6.51313471]\n",
      "error of particle- 5 is (training, test) (0, 42)  At (gamma, c):  [2.67226673 8.19252375]\n",
      "error of particle- 6 is (training, test) (0, 31)  At (gamma, c):  [2.36426588 6.35986973]\n",
      "error of particle- 7 is (training, test) (0, 55)  At (gamma, c):  [3.50591482 3.30885069]\n",
      "error of particle- 8 is (training, test) (0, 60)  At (gamma, c):  [4.71911107 6.98862265]\n",
      "error of particle- 9 is (training, test) (0, 60)  At (gamma, c):  [5.46906866 7.3385699 ]\n",
      "error of particle- 10 is (training, test) (0, 48)  At (gamma, c):  [2.85564523 6.49458726]\n",
      "error of particle- 11 is (training, test) (0, 60)  At (gamma, c):  [5.66649577 5.81170162]\n",
      "error of particle- 12 is (training, test) (0, 11)  At (gamma, c):  [1.23394677 8.68368966]\n",
      "error of particle- 13 is (training, test) (3, 10)  At (gamma, c):  [0.46448464 3.92275529]\n",
      "error of particle- 14 is (training, test) (0, 23)  At (gamma, c):  [2.12856872 6.11035005]\n",
      "error of particle- 15 is (training, test) (0, 14)  At (gamma, c):  [1.43347716 8.79637064]\n",
      "error of particle- 16 is (training, test) (0, 10)  At (gamma, c):  [0.78314038 8.8905211 ]\n",
      "error of particle- 17 is (training, test) (0, 60)  At (gamma, c):  [5.90459207 6.49741388]\n",
      "error of particle- 18 is (training, test) (0, 58)  At (gamma, c):  [3.7715541  4.82303972]\n",
      "error of particle- 19 is (training, test) (0, 60)  At (gamma, c):  [5.74071107 4.97567396]\n",
      "error of particle- 20 is (training, test) (0, 58)  At (gamma, c):  [3.67223738 7.45109486]\n"
     ]
    },
    {
     "name": "stderr",
     "output_type": "stream",
     "text": [
      "*c* argument looks like a single numeric RGB or RGBA sequence, which should be avoided as value-mapping will have precedence in case its length matches with *x* & *y*.  Please use the *color* keyword-argument or provide a 2D array with a single row if you intend to specify the same RGB or RGBA value for all points.\n"
     ]
    },
    {
     "name": "stdout",
     "output_type": "stream",
     "text": [
      "The best position is  [0.78314038 8.8905211 ] in iteration number 2 with error (train, test): (0, 10)\n",
      "iteration : 4\n"
     ]
    },
    {
     "data": {
      "image/png": "[encoded data removed]",
      "text/plain": [
       "<Figure size 432x288 with 1 Axes>"
      ]
     },
     "metadata": {
      "needs_background": "light"
     },
     "output_type": "display_data"
    },
    {
     "name": "stdout",
     "output_type": "stream",
     "text": [
      "error of particle- 1 is (training, test) (0, 11)  At (gamma, c):  [1.22246524 5.95773605]\n",
      "error of particle- 2 is (training, test) (0, 54)  At (gamma, c):  [3.41005139 9.3872208 ]\n",
      "error of particle- 3 is (training, test) (0, 11)  At (gamma, c):  [1.16042816 6.15947126]\n",
      "error of particle- 4 is (training, test) (0, 60)  At (gamma, c):  [5.0798026  6.73435388]\n",
      "error of particle- 5 is (training, test) (0, 28)  At (gamma, c):  [2.32263669 8.32170561]\n",
      "error of particle- 6 is (training, test) (0, 20)  At (gamma, c):  [1.88621678 7.12500546]\n",
      "error of particle- 7 is (training, test) (0, 23)  At (gamma, c):  [2.14834513 6.09185998]\n",
      "error of particle- 8 is (training, test) (0, 60)  At (gamma, c):  [4.0257369  7.32366764]\n",
      "error of particle- 9 is (training, test) (0, 59)  At (gamma, c):  [3.91554687 7.85308695]\n",
      "error of particle- 10 is (training, test) (0, 34)  At (gamma, c):  [2.47060754 6.93971279]\n",
      "error of particle- 11 is (training, test) (0, 58)  At (gamma, c):  [3.88120469 6.93727789]\n",
      "error of particle- 12 is (training, test) (0, 11)  At (gamma, c):  [1.08822393 8.75054777]\n",
      "error of particle- 13 is (training, test) (2, 10)  At (gamma, c):  [0.48493199 4.24152456]\n",
      "error of particle- 14 is (training, test) (0, 20)  At (gamma, c):  [1.68346005 7.03011531]\n",
      "error of particle- 15 is (training, test) (0, 11)  At (gamma, c):  [1.19778851 8.83049172]\n",
      "error of particle- 16 is (training, test) (0, 10)  At (gamma, c):  [0.78314038 8.8905211 ]\n",
      "error of particle- 17 is (training, test) (0, 60)  At (gamma, c):  [5.18000146 6.83599425]\n",
      "error of particle- 18 is (training, test) (0, 37)  At (gamma, c):  [2.51567904 6.53239087]\n",
      "error of particle- 19 is (training, test) (0, 60)  At (gamma, c):  [5.57535507 5.10625071]\n",
      "error of particle- 20 is (training, test) (0, 44)  At (gamma, c):  [2.7221109  7.92447356]\n"
     ]
    },
    {
     "name": "stderr",
     "output_type": "stream",
     "text": [
      "*c* argument looks like a single numeric RGB or RGBA sequence, which should be avoided as value-mapping will have precedence in case its length matches with *x* & *y*.  Please use the *color* keyword-argument or provide a 2D array with a single row if you intend to specify the same RGB or RGBA value for all points.\n"
     ]
    },
    {
     "name": "stdout",
     "output_type": "stream",
     "text": [
      "The best position is  [0.78314038 8.8905211 ] in iteration number 3 with error (train, test): (0, 10)\n",
      "iteration : 5\n"
     ]
    },
    {
     "data": {
      "image/png": "[encoded data removed]",
      "text/plain": [
       "<Figure size 432x288 with 1 Axes>"
      ]
     },
     "metadata": {
      "needs_background": "light"
     },
     "output_type": "display_data"
    },
    {
     "name": "stdout",
     "output_type": "stream",
     "text": [
      "error of particle- 1 is (training, test) (0, 11)  At (gamma, c):  [1.05192808 7.09618479]\n",
      "error of particle- 2 is (training, test) (0, 53)  At (gamma, c):  [3.10892462 9.33028337]\n",
      "error of particle- 3 is (training, test) (0, 11)  At (gamma, c):  [1.02475759 7.14154152]\n",
      "error of particle- 4 is (training, test) (0, 60)  At (gamma, c):  [4.17091819 7.19045368]\n",
      "error of particle- 5 is (training, test) (0, 18)  At (gamma, c):  [1.61271778 8.58400755]\n",
      "error of particle- 6 is (training, test) (0, 14)  At (gamma, c):  [1.42873908 7.85721588]\n",
      "error of particle- 7 is (training, test) (0, 19)  At (gamma, c):  [1.65331932 7.10665978]\n",
      "error of particle- 8 is (training, test) (0, 58)  At (gamma, c):  [3.78835142 7.43837456]\n",
      "error of particle- 9 is (training, test) (0, 52)  At (gamma, c):  [2.97337226 8.1651295 ]\n",
      "error of particle- 10 is (training, test) (0, 33)  At (gamma, c):  [2.46134952 6.95041559]\n",
      "error of particle- 11 is (training, test) (0, 58)  At (gamma, c):  [3.63902946 7.08996262]\n",
      "error of particle- 12 is (training, test) (0, 11)  At (gamma, c):  [1.05829589 8.76427885]\n",
      "error of particle- 13 is (training, test) (2, 9)  At (gamma, c):  [0.51951563 4.78067513]\n",
      "error of particle- 14 is (training, test) (0, 14)  At (gamma, c):  [1.43210058 7.54952039]\n",
      "error of particle- 15 is (training, test) (0, 11)  At (gamma, c):  [1.08563452 8.84672846]\n",
      "error of particle- 16 is (training, test) (0, 10)  At (gamma, c):  [0.78314038 8.8905211 ]\n",
      "error of particle- 17 is (training, test) (0, 60)  At (gamma, c):  [4.63403546 7.09110848]\n",
      "error of particle- 18 is (training, test) (0, 29)  At (gamma, c):  [2.3427531  6.76775756]\n",
      "error of particle- 19 is (training, test) (0, 54)  At (gamma, c):  [3.26467025 6.93093026]\n",
      "error of particle- 20 is (training, test) (0, 23)  At (gamma, c):  [2.14576025 8.21162704]\n"
     ]
    },
    {
     "name": "stderr",
     "output_type": "stream",
     "text": [
      "*c* argument looks like a single numeric RGB or RGBA sequence, which should be avoided as value-mapping will have precedence in case its length matches with *x* & *y*.  Please use the *color* keyword-argument or provide a 2D array with a single row if you intend to specify the same RGB or RGBA value for all points.\n"
     ]
    },
    {
     "name": "stdout",
     "output_type": "stream",
     "text": [
      "The best position is  [0.51951563 4.78067513] in iteration number 4 with error (train, test): (2, 9)\n",
      "iteration : 6\n"
     ]
    },
    {
     "data": {
      "image/png": "[encoded data removed]",
      "text/plain": [
       "<Figure size 432x288 with 1 Axes>"
      ]
     },
     "metadata": {
      "needs_background": "light"
     },
     "output_type": "display_data"
    },
    {
     "name": "stdout",
     "output_type": "stream",
     "text": [
      "error of particle- 1 is (training, test) (0, 11)  At (gamma, c):  [0.97320034 6.75379076]\n",
      "error of particle- 2 is (training, test) (0, 33)  At (gamma, c):  [2.46447137 8.19797487]\n",
      "error of particle- 3 is (training, test) (1, 11)  At (gamma, c):  [0.87531632 6.44324072]\n",
      "error of particle- 4 is (training, test) (0, 54)  At (gamma, c):  [3.44848498 6.71367687]\n",
      "error of particle- 5 is (training, test) (0, 13)  At (gamma, c):  [1.29869848 7.4915108 ]\n",
      "error of particle- 6 is (training, test) (0, 11)  At (gamma, c):  [1.00336651 6.41788206]\n",
      "error of particle- 7 is (training, test) (0, 14)  At (gamma, c):  [1.42974177 6.64799312]\n",
      "error of particle- 8 is (training, test) (0, 52)  At (gamma, c):  [2.99994893 6.79737054]\n",
      "error of particle- 9 is (training, test) (0, 39)  At (gamma, c):  [2.57731495 7.61887188]\n",
      "error of particle- 10 is (training, test) (0, 29)  At (gamma, c):  [2.34563124 6.82111584]\n",
      "error of particle- 11 is (training, test) (0, 37)  At (gamma, c):  [2.51621162 6.25877246]\n",
      "error of particle- 12 is (training, test) (0, 11)  At (gamma, c):  [0.98642135 8.23285685]\n",
      "error of particle- 13 is (training, test) (2, 9)  At (gamma, c):  [0.51951563 4.78067513]\n",
      "error of particle- 14 is (training, test) (0, 11)  At (gamma, c):  [1.03298419 6.33857393]\n",
      "error of particle- 15 is (training, test) (0, 11)  At (gamma, c):  [0.92873888 7.71985198]\n",
      "error of particle- 16 is (training, test) (1, 10)  At (gamma, c):  [0.75062188 8.38356548]\n",
      "error of particle- 17 is (training, test) (0, 56)  At (gamma, c):  [3.55624948 6.48589748]\n",
      "error of particle- 18 is (training, test) (0, 21)  At (gamma, c):  [2.00470558 6.39933145]\n",
      "error of particle- 19 is (training, test) (0, 46)  At (gamma, c):  [2.77365373 6.5463214 ]\n",
      "error of particle- 20 is (training, test) (0, 15)  At (gamma, c):  [1.45747135 6.75951701]\n"
     ]
    },
    {
     "name": "stderr",
     "output_type": "stream",
     "text": [
      "*c* argument looks like a single numeric RGB or RGBA sequence, which should be avoided as value-mapping will have precedence in case its length matches with *x* & *y*.  Please use the *color* keyword-argument or provide a 2D array with a single row if you intend to specify the same RGB or RGBA value for all points.\n"
     ]
    },
    {
     "name": "stdout",
     "output_type": "stream",
     "text": [
      "The best position is  [0.51951563 4.78067513] in iteration number 5 with error (train, test): (2, 9)\n",
      "iteration : 7\n"
     ]
    },
    {
     "data": {
      "image/png": "[encoded data removed]",
      "text/plain": [
       "<Figure size 432x288 with 1 Axes>"
      ]
     },
     "metadata": {
      "needs_background": "light"
     },
     "output_type": "display_data"
    },
    {
     "name": "stdout",
     "output_type": "stream",
     "text": [
      "error of particle- 1 is (training, test) (0, 11)  At (gamma, c):  [0.96193995 6.70481828]\n",
      "error of particle- 2 is (training, test) (0, 33)  At (gamma, c):  [2.43561439 8.14727297]\n",
      "error of particle- 3 is (training, test) (1, 10)  At (gamma, c):  [0.78119891 6.00345413]\n",
      "error of particle- 4 is (training, test) (0, 27)  At (gamma, c):  [2.17176503 5.87109315]\n",
      "error of particle- 5 is (training, test) (1, 11)  At (gamma, c):  [0.92926772 6.20623341]\n",
      "error of particle- 6 is (training, test) (1, 11)  At (gamma, c):  [0.93652039 6.19169475]\n",
      "error of particle- 7 is (training, test) (0, 14)  At (gamma, c):  [1.41177598 6.61113652]\n",
      "error of particle- 8 is (training, test) (0, 42)  At (gamma, c):  [2.66806089 6.52753177]\n",
      "error of particle- 9 is (training, test) (0, 17)  At (gamma, c):  [1.56009166 6.215878  ]\n",
      "error of particle- 10 is (training, test) (0, 22)  At (gamma, c):  [2.04559734 6.48586795]\n",
      "error of particle- 11 is (training, test) (0, 18)  At (gamma, c):  [1.62948539 5.60235422]\n",
      "error of particle- 12 is (training, test) (1, 10)  At (gamma, c):  [0.81177677 6.94157939]\n",
      "error of particle- 13 is (training, test) (2, 9)  At (gamma, c):  [0.51951563 4.78067513]\n",
      "error of particle- 14 is (training, test) (1, 11)  At (gamma, c):  [0.88736355 5.89675092]\n",
      "error of particle- 15 is (training, test) (0, 11)  At (gamma, c):  [0.91746121 7.63885205]\n",
      "error of particle- 16 is (training, test) (1, 10)  At (gamma, c):  [0.71679938 7.85628094]\n",
      "error of particle- 17 is (training, test) (0, 39)  At (gamma, c):  [2.58959751 5.94309174]\n",
      "error of particle- 18 is (training, test) (0, 13)  At (gamma, c):  [1.3076368  5.63962068]\n",
      "error of particle- 19 is (training, test) (0, 31)  At (gamma, c):  [2.37773602 6.23620258]\n",
      "error of particle- 20 is (training, test) (0, 11)  At (gamma, c):  [1.26547405 6.35445278]\n",
      "The best position is  [0.51951563 4.78067513] in iteration number 6 with error (train, test): (2, 9)\n",
      "iteration : 8\n"
     ]
    },
    {
     "name": "stderr",
     "output_type": "stream",
     "text": [
      "*c* argument looks like a single numeric RGB or RGBA sequence, which should be avoided as value-mapping will have precedence in case its length matches with *x* & *y*.  Please use the *color* keyword-argument or provide a 2D array with a single row if you intend to specify the same RGB or RGBA value for all points.\n"
     ]
    },
    {
     "data": {
      "image/png": "[encoded data removed]",
      "text/plain": [
       "<Figure size 432x288 with 1 Axes>"
      ]
     },
     "metadata": {
      "needs_background": "light"
     },
     "output_type": "display_data"
    },
    {
     "name": "stdout",
     "output_type": "stream",
     "text": [
      "error of particle- 1 is (training, test) (1, 10)  At (gamma, c):  [0.83734933 6.16296246]\n",
      "error of particle- 2 is (training, test) (0, 27)  At (gamma, c):  [2.19813166 7.73001429]\n",
      "error of particle- 3 is (training, test) (1, 10)  At (gamma, c):  [0.76747414 5.93932178]\n",
      "error of particle- 4 is (training, test) (0, 17)  At (gamma, c):  [1.52953053 5.44724426]\n",
      "error of particle- 5 is (training, test) (1, 10)  At (gamma, c):  [0.75083767 5.58546186]\n",
      "error of particle- 6 is (training, test) (1, 10)  At (gamma, c):  [0.80911383 5.76058899]\n",
      "error of particle- 7 is (training, test) (0, 11)  At (gamma, c):  [1.21234715 6.20201068]\n",
      "error of particle- 8 is (training, test) (0, 26)  At (gamma, c):  [2.1684378  6.12131742]\n",
      "error of particle- 9 is (training, test) (0, 11)  At (gamma, c):  [1.25081401 5.78931026]\n",
      "error of particle- 10 is (training, test) (0, 15)  At (gamma, c):  [1.44892329 5.81916426]\n",
      "error of particle- 11 is (training, test) (0, 16)  At (gamma, c):  [1.47189187 5.48569221]\n",
      "error of particle- 12 is (training, test) (1, 10)  At (gamma, c):  [0.68160637 5.97913267]\n",
      "error of particle- 13 is (training, test) (2, 9)  At (gamma, c):  [0.51951563 4.78067513]\n",
      "error of particle- 14 is (training, test) (1, 11)  At (gamma, c):  [0.87646596 5.86368687]\n",
      "error of particle- 15 is (training, test) (0, 11)  At (gamma, c):  [0.89201634 7.45609856]\n",
      "error of particle- 16 is (training, test) (1, 10)  At (gamma, c):  [0.6522213  6.84952428]\n",
      "error of particle- 17 is (training, test) (0, 22)  At (gamma, c):  [2.02612287 5.62668287]\n",
      "error of particle- 18 is (training, test) (0, 12)  At (gamma, c):  [1.26643712 5.59471861]\n",
      "error of particle- 19 is (training, test) (0, 23)  At (gamma, c):  [2.14560202 6.05437409]\n",
      "error of particle- 20 is (training, test) (0, 11)  At (gamma, c):  [1.17842396 6.17079981]\n",
      "The best position is  [0.51951563 4.78067513] in iteration number 7 with error (train, test): (2, 9)\n",
      "iteration : 9\n"
     ]
    },
    {
     "name": "stderr",
     "output_type": "stream",
     "text": [
      "*c* argument looks like a single numeric RGB or RGBA sequence, which should be avoided as value-mapping will have precedence in case its length matches with *x* & *y*.  Please use the *color* keyword-argument or provide a 2D array with a single row if you intend to specify the same RGB or RGBA value for all points.\n"
     ]
    },
    {
     "data": {
      "image/png": "[encoded data removed]",
      "text/plain": [
       "<Figure size 432x288 with 1 Axes>"
      ]
     },
     "metadata": {
      "needs_background": "light"
     },
     "output_type": "display_data"
    },
    {
     "name": "stdout",
     "output_type": "stream",
     "text": [
      "error of particle- 1 is (training, test) (1, 10)  At (gamma, c):  [0.80232339 6.01063151]\n",
      "error of particle- 2 is (training, test) (0, 17)  At (gamma, c):  [1.54187518 6.57696742]\n",
      "error of particle- 3 is (training, test) (1, 10)  At (gamma, c):  [0.76432924 5.92462646]\n",
      "error of particle- 4 is (training, test) (1, 11)  At (gamma, c):  [1.13505496 5.18690628]\n",
      "error of particle- 5 is (training, test) (2, 10)  At (gamma, c):  [0.66535749 5.28806989]\n",
      "error of particle- 6 is (training, test) (1, 10)  At (gamma, c):  [0.75723724 5.58505407]\n",
      "error of particle- 7 is (training, test) (1, 11)  At (gamma, c):  [0.88288292 5.52611876]\n",
      "error of particle- 8 is (training, test) (0, 19)  At (gamma, c):  [1.80880344 5.82891973]\n",
      "error of particle- 9 is (training, test) (1, 11)  At (gamma, c):  [1.07487003 5.54664148]\n",
      "error of particle- 10 is (training, test) (0, 13)  At (gamma, c):  [1.34335061 5.70120087]\n",
      "error of particle- 11 is (training, test) (0, 15)  At (gamma, c):  [1.45332013 5.47194408]\n",
      "error of particle- 12 is (training, test) (2, 10)  At (gamma, c):  [0.61045573 5.45306297]\n",
      "error of particle- 13 is (training, test) (2, 9)  At (gamma, c):  [0.51951563 4.78067513]\n",
      "error of particle- 14 is (training, test) (2, 10)  At (gamma, c):  [0.69958423 5.32701559]\n",
      "error of particle- 15 is (training, test) (1, 10)  At (gamma, c):  [0.77021179 6.58125794]\n",
      "error of particle- 16 is (training, test) (1, 10)  At (gamma, c):  [0.65094304 6.82959658]\n",
      "error of particle- 17 is (training, test) (0, 19)  At (gamma, c):  [1.75408967 5.47392759]\n",
      "error of particle- 18 is (training, test) (1, 11)  At (gamma, c):  [0.91390357 5.21050468]\n",
      "error of particle- 19 is (training, test) (0, 15)  At (gamma, c):  [1.46885472 5.52428397]\n",
      "error of particle- 20 is (training, test) (1, 11)  At (gamma, c):  [0.96056358 5.71117124]\n"
     ]
    },
    {
     "name": "stderr",
     "output_type": "stream",
     "text": [
      "*c* argument looks like a single numeric RGB or RGBA sequence, which should be avoided as value-mapping will have precedence in case its length matches with *x* & *y*.  Please use the *color* keyword-argument or provide a 2D array with a single row if you intend to specify the same RGB or RGBA value for all points.\n"
     ]
    },
    {
     "name": "stdout",
     "output_type": "stream",
     "text": [
      "The best position is  [0.51951563 4.78067513] in iteration number 8 with error (train, test): (2, 9)\n",
      "iteration : 10\n"
     ]
    },
    {
     "data": {
      "image/png": "[encoded data removed]",
      "text/plain": [
       "<Figure size 432x288 with 1 Axes>"
      ]
     },
     "metadata": {
      "needs_background": "light"
     },
     "output_type": "display_data"
    },
    {
     "name": "stdout",
     "output_type": "stream",
     "text": [
      "error of particle- 1 is (training, test) (1, 10)  At (gamma, c):  [0.70768253 5.5990299 ]\n",
      "error of particle- 2 is (training, test) (1, 11)  At (gamma, c):  [1.06800443 5.74437348]\n",
      "error of particle- 3 is (training, test) (1, 10)  At (gamma, c):  [0.75981485 5.9035319 ]\n",
      "error of particle- 4 is (training, test) (1, 11)  At (gamma, c):  [1.02874152 5.11674369]\n",
      "error of particle- 5 is (training, test) (2, 10)  At (gamma, c):  [0.6127868  5.10517251]\n",
      "error of particle- 6 is (training, test) (1, 10)  At (gamma, c):  [0.74897659 5.55710252]\n",
      "error of particle- 7 is (training, test) (1, 10)  At (gamma, c):  [0.81999275 5.39710033]\n",
      "error of particle- 8 is (training, test) (0, 13)  At (gamma, c):  [1.36103722 5.46486717]\n",
      "error of particle- 9 is (training, test) (1, 11)  At (gamma, c):  [0.91600878 5.32753388]\n",
      "error of particle- 10 is (training, test) (1, 11)  At (gamma, c):  [0.94554893 5.25671053]\n",
      "error of particle- 11 is (training, test) (0, 13)  At (gamma, c):  [1.30825194 5.36455422]\n",
      "error of particle- 12 is (training, test) (2, 10)  At (gamma, c):  [0.56521481 5.11856319]\n",
      "error of particle- 13 is (training, test) (2, 9)  At (gamma, c):  [0.51951563 4.78067513]\n",
      "error of particle- 14 is (training, test) (2, 10)  At (gamma, c):  [0.65442718 5.190006  ]\n",
      "error of particle- 15 is (training, test) (1, 10)  At (gamma, c):  [0.69482655 6.03981615]\n",
      "error of particle- 16 is (training, test) (1, 10)  At (gamma, c):  [0.64206526 6.69119403]\n",
      "error of particle- 17 is (training, test) (1, 11)  At (gamma, c):  [1.16004906 5.14035496]\n",
      "error of particle- 18 is (training, test) (1, 11)  At (gamma, c):  [0.88677596 5.18093925]\n",
      "error of particle- 19 is (training, test) (1, 11)  At (gamma, c):  [1.11162455 5.24446876]\n",
      "error of particle- 20 is (training, test) (1, 10)  At (gamma, c):  [0.79278297 5.35719791]\n",
      "The best position is  [0.51951563 4.78067513] in iteration number 9 with error (train, test): (2, 9)\n",
      "The best position is  [0.51951563 4.78067513] in iteration number 10 with error (train, test): (2, 9)\n",
      "Wall time: 1h 1min 12s\n"
     ]
    }
   ],
   "source": [
    "%%time\n",
    "particle_position_vector = np.array([np.array([random.random()*10, random.random()*10]) for _ in range(n_particles)])\n",
    "pbest_position = particle_position_vector\n",
    "pbest_fitness_value = np.array([float('inf') for _ in range(n_particles)])\n",
    "gbest_fitness_value = np.array([float('inf'), float('inf')])\n",
    "gbest_position = np.array([float('inf'), float('inf')])\n",
    "\n",
    "velocity_vector = ([np.array([0, 0]) for _ in range(n_particles)])\n",
    "iteration = 0\n",
    "while iteration < n_iterations:\n",
    "    print(\"iteration :\", iteration+1)\n",
    "    plot(particle_position_vector)\n",
    "    for i in range(n_particles):\n",
    "        fitness_cadidate = fitness_function(particle_position_vector[i])\n",
    "        print(\"error of particle-\",i+1,\"is (training, test)\", fitness_cadidate, \" At (gamma, c): \", particle_position_vector[i])\n",
    "        \n",
    "        if(pbest_fitness_value[i] > fitness_cadidate[1]):\n",
    "            pbest_fitness_value[i] = fitness_cadidate[1]\n",
    "            pbest_position[i] = particle_position_vector[i]\n",
    "\n",
    "        if(gbest_fitness_value[1] > fitness_cadidate[1]):\n",
    "            gbest_fitness_value = fitness_cadidate\n",
    "            gbest_position = particle_position_vector[i]\n",
    "        elif(gbest_fitness_value[1] == fitness_cadidate[1] and gbest_fitness_value[0] > fitness_cadidate[0]):\n",
    "            gbest_fitness_value = fitness_cadidate\n",
    "            gbest_position = particle_position_vector[i]\n",
    "            \n",
    "    for i in range(n_particles):\n",
    "        new_velocity = (W*velocity_vector[i]) + (c1*random.random()) * (pbest_position[i] - particle_position_vector[i]) + (c2*random.random()) * (gbest_position-particle_position_vector[i])\n",
    "        new_position = new_velocity + particle_position_vector[i]\n",
    "        particle_position_vector[i] = new_position\n",
    "    \n",
    "    print(\"The best position is \", gbest_position, \"in iteration number\", iteration, \"with error (train, test):\", fitness_function(gbest_position))    \n",
    "    iteration = iteration + 1\n",
    "    \n",
    "print(\"The best position is \", gbest_position, \"in iteration number\", iteration, \"with error (train, test):\", fitness_function(gbest_position))"
   ]
  },
  {
   "cell_type": "code",
   "execution_count": 9,
   "id": "dba74abf",
   "metadata": {},
   "outputs": [
    {
     "name": "stdout",
     "output_type": "stream",
     "text": [
      "Akurasi SVM dengan optimasi PSO 65.3061224489796\n",
      "              precision    recall  f1-score   support\n",
      "\n",
      "       anger       0.67      0.74      0.70       119\n",
      "        fear       0.92      0.58      0.71        62\n",
      "       happy       0.66      0.60      0.63       111\n",
      "        love       0.82      0.73      0.77        55\n",
      "     sadness       0.47      0.61      0.53        94\n",
      "\n",
      "    accuracy                           0.65       441\n",
      "   macro avg       0.71      0.65      0.67       441\n",
      "weighted avg       0.68      0.65      0.66       441\n",
      "\n",
      "[[88  1  6  0 24]\n",
      " [ 8 36 11  0  7]\n",
      " [16  0 67  4 24]\n",
      " [ 0  1  6 40  8]\n",
      " [19  1 12  5 57]]\n"
     ]
    },
    {
     "data": {
      "text/plain": [
       "<AxesSubplot:>"
      ]
     },
     "execution_count": 9,
     "metadata": {},
     "output_type": "execute_result"
    },
    {
     "data": {
      "image/png": "[encoded data removed]",
      "text/plain": [
       "<Figure size 432x288 with 2 Axes>"
      ]
     },
     "metadata": {
      "needs_background": "light"
     },
     "output_type": "display_data"
    }
   ],
   "source": [
    "SVM = SVC(kernel= 'rbf', gamma= gbest_position[0], C= gbest_position[1])\n",
    "SVM.fit(X_train, y_train)\n",
    "predictions_SVM = SVM.predict(X_test)\n",
    "accuracy = accuracy_score(predictions_SVM, y_test)\n",
    "print('Akurasi SVM dengan optimasi PSO', accuracy*100)\n",
    "\n",
    "x = df['clean_data'].values.astype('U')\n",
    "y = df['label'].values\n",
    "\n",
    "encoder = LabelEncoder()\n",
    "encoder.fit(y)\n",
    "target_names = encoder.classes_\n",
    "\n",
    "print(classification_report(y_test, predictions_SVM, target_names=target_names))\n",
    "print(confusion_matrix(y_test, predictions_SVM, labels=[0, 1, 2, 3, 4]))\n",
    "\n",
    "cf = confusion_matrix(y_test, predictions_SVM, labels=[0, 1, 2, 3, 4])\n",
    "sns.heatmap(cf, annot=True, fmt='d')"
   ]
  },
  {
   "cell_type": "code",
   "execution_count": null,
   "id": "bdf37195",
   "metadata": {},
   "outputs": [],
   "source": []
  },
  {
   "cell_type": "code",
   "execution_count": null,
   "id": "622712d0",
   "metadata": {},
   "outputs": [],
   "source": []
  }
 ],
 "metadata": {
  "kernelspec": {
   "display_name": "Python 3 (ipykernel)",
   "language": "python",
   "name": "python3"
  },
  "language_info": {
   "codemirror_mode": {
    "name": "ipython",
    "version": 3
   },
   "file_extension": ".py",
   "mimetype": "text/x-python",
   "name": "python",
   "nbconvert_exporter": "python",
   "pygments_lexer": "ipython3",
   "version": "3.9.7"
  }
 },
 "nbformat": 4,
 "nbformat_minor": 5
}
